{
 "cells": [
  {
   "cell_type": "code",
   "execution_count": 1,
   "metadata": {},
   "outputs": [],
   "source": [
    "import pandas as pd\n",
    "import numpy as np\n",
    "import wfdb\n",
    "import ast\n",
    "import torch\n",
    "import torch.nn as nn\n",
    "import torch.optim as optim\n",
    "from torch.utils.data import DataLoader, TensorDataset\n",
    "from sklearn.preprocessing import LabelEncoder\n",
    "from sklearn.preprocessing import OneHotEncoder\n",
    "from sklearn.model_selection import train_test_split\n",
    "\n",
    "# GPU 사용 여부 확인\n",
    "device = torch.device(\"cuda\" if torch.cuda.is_available() else \"cpu\")\n",
    "\n",
    "# 데이터 로드 함수\n",
    "def load_raw_data(df, sampling_rate, path):\n",
    "    if sampling_rate == 100:\n",
    "        data = [wfdb.rdsamp(path+f) for f in df.filename_lr]\n",
    "    else:\n",
    "        data = [wfdb.rdsamp(path+f) for f in df.filename_hr]\n",
    "    \n",
    "    data = np.array([signal for signal, meta in data])\n",
    "    return data\n",
    "\n",
    "path = './ecg_dataset/'\n",
    "sampling_rate = 100\n",
    "\n",
    "# load and convert annotation data\n",
    "Y = pd.read_csv(path + 'ptbxl_database.csv', index_col='ecg_id')\n",
    "Y.scp_codes = Y.scp_codes.apply(lambda x: ast.literal_eval(x))\n",
    "\n",
    "# Load raw signal data\n",
    "X = load_raw_data(Y, sampling_rate, path)\n",
    "\n",
    "# Load scp_statements.csv for diagnostic aggregation\n",
    "agg_df = pd.read_csv(path + 'scp_statements.csv', index_col=0)\n",
    "agg_df = agg_df[agg_df.diagnostic == 1]\n",
    "\n",
    "def aggregate_diagnostic(y_dic):\n",
    "    tmp = []\n",
    "    for key in y_dic.keys():\n",
    "        if key in agg_df.index:\n",
    "            tmp.append(agg_df.loc[key].diagnostic_class)\n",
    "    return list(set(tmp))\n",
    "\n",
    "# Apply diagnostic superclass\n",
    "Y['diagnostic_superclass'] = Y.scp_codes.apply(aggregate_diagnostic)\n",
    "\n",
    "# Train과 Test 데이터 분할 (8:2)\n",
    "X_train, X_test, y_train_encoded, y_test_encoded = train_test_split(X, Y.diagnostic_superclass, test_size=0.2, random_state=42)"
   ]
  },
  {
   "cell_type": "code",
   "execution_count": 2,
   "metadata": {},
   "outputs": [],
   "source": [
    "# device='cpu'"
   ]
  },
  {
   "cell_type": "code",
   "execution_count": 3,
   "metadata": {},
   "outputs": [
    {
     "name": "stderr",
     "output_type": "stream",
     "text": [
      "C:\\Users\\ajmok\\AppData\\Local\\Temp\\ipykernel_2008\\3745479450.py:34: UserWarning: To copy construct from a tensor, it is recommended to use sourceTensor.clone().detach() or sourceTensor.clone().detach().requires_grad_(True), rather than torch.tensor(sourceTensor).\n",
      "  y_train_tensor = torch.tensor(y_train_encoded, dtype=torch.float32).to(device)\n",
      "C:\\Users\\ajmok\\AppData\\Local\\Temp\\ipykernel_2008\\3745479450.py:35: UserWarning: To copy construct from a tensor, it is recommended to use sourceTensor.clone().detach() or sourceTensor.clone().detach().requires_grad_(True), rather than torch.tensor(sourceTensor).\n",
      "  y_test_tensor = torch.tensor(y_test_encoded, dtype=torch.float32).to(device)\n"
     ]
    }
   ],
   "source": [
    "# 레이블 처리\n",
    "y_train_labels = [set(labels) for labels in y_train_encoded]\n",
    "y_test_labels = [set(labels) for labels in y_test_encoded]\n",
    "\n",
    "# 데이터 전처리\n",
    "X_train = [x for x, labels in zip(X_train, y_train_labels) if len(labels) > 0]\n",
    "X_train = [torch.from_numpy(x) for x in X_train]  # Convert NumPy arrays to PyTorch tensors\n",
    "X_train = torch.stack(X_train) if len(X_train) > 0 else None  # 리스트를 PyTorch Tensor로 변환\n",
    "y_train_labels = [labels for labels in y_train_labels if len(labels) > 0]\n",
    "\n",
    "X_test = [x for x, labels in zip(X_test, y_test_labels) if len(labels) > 0]\n",
    "X_test = [torch.from_numpy(x) for x in X_test]  # Convert NumPy arrays to PyTorch tensors\n",
    "X_test = torch.stack(X_test) if len(X_test) > 0 else None  # 리스트를 PyTorch Tensor로 변환\n",
    "y_test_labels = [labels for labels in y_test_labels if len(labels) > 0]\n",
    "\n",
    "# 데이터가 비어있는 경우에 대한 예외 처리\n",
    "if X_train is not None:\n",
    "    X_train = X_train.permute(0, 2, 1)\n",
    "\n",
    "if X_test is not None:\n",
    "    X_test = X_test.permute(0, 2, 1)\n",
    "\n",
    "# 전체 레이블 목록 생성\n",
    "all_labels = list(set(label for labels in y_train_labels for label in labels))\n",
    "\n",
    "# 레이블을 이진 벡터로 인코딩\n",
    "def encode_labels(labels, all_labels):\n",
    "    encoded_labels = [1 if label in labels else 0 for label in all_labels]\n",
    "    return torch.tensor(encoded_labels, dtype=torch.float32)\n",
    "\n",
    "y_train_encoded = torch.stack([encode_labels(labels, all_labels) for labels in y_train_labels])\n",
    "y_test_encoded = torch.stack([encode_labels(labels, all_labels) for labels in y_test_labels])\n",
    "\n",
    "y_train_tensor = torch.tensor(y_train_encoded, dtype=torch.float32).to(device)\n",
    "y_test_tensor = torch.tensor(y_test_encoded, dtype=torch.float32).to(device)"
   ]
  },
  {
   "cell_type": "code",
   "execution_count": 4,
   "metadata": {},
   "outputs": [
    {
     "data": {
      "text/plain": [
       "torch.Size([17139, 12, 1000])"
      ]
     },
     "execution_count": 4,
     "metadata": {},
     "output_type": "execute_result"
    }
   ],
   "source": [
    "X_train.shape"
   ]
  },
  {
   "cell_type": "code",
   "execution_count": 5,
   "metadata": {},
   "outputs": [],
   "source": [
    "from tqdm import tqdm\n",
    "from sklearn.metrics import roc_curve, auc, roc_auc_score\n",
    "from iterstrat.ml_stratifiers import MultilabelStratifiedKFold\n",
    "import matplotlib.pyplot as plt\n",
    "\n",
    "# 1차원 CNN 모델 정의\n",
    "class CNN1D(nn.Module):\n",
    "    def __init__(self, num_classes):\n",
    "        super(CNN1D, self).__init__()\n",
    "        \n",
    "        self.conv1 = nn.Conv1d(in_channels=12, out_channels=100, kernel_size=10)\n",
    "        self.conv2 = nn.Conv1d(in_channels=100, out_channels=150, kernel_size=10)\n",
    "        self.conv3 = nn.Conv1d(in_channels=150, out_channels=300, kernel_size=10)\n",
    "        self.relu = nn.ReLU()\n",
    "\n",
    "        self.pool = nn.MaxPool1d(kernel_size=2)\n",
    "        self.global_avg_pool = nn.AdaptiveAvgPool1d(1)  # Global Average Pooling 레이어\n",
    "        self.dropout2 = nn.Dropout(0.5, inplace=False)\n",
    "        self.fc = nn.Linear(300, num_classes)\n",
    "        self.sigmoid = nn.Sigmoid()\n",
    "        \n",
    "\n",
    "    def forward(self, x, y=None):\n",
    "\n",
    "        x = self.conv1(x)\n",
    "        x = self.relu(x)\n",
    "        x = self.pool(x)\n",
    "        x = self.dropout2(x)\n",
    "        \n",
    "        x = self.conv2(x)\n",
    "        x = self.relu(x)\n",
    "        x = self.pool(x)\n",
    "        x = self.dropout2(x)\n",
    "        \n",
    "        x = self.conv3(x)\n",
    "        x = self.relu(x)\n",
    "        x = self.pool(x)\n",
    "        \n",
    "        # Global Average Pooling\n",
    "        x = self.global_avg_pool(x)\n",
    "        x = x.view(x.size(0), -1)\n",
    "        x = self.dropout2(x)\n",
    "        \n",
    "        x = self.fc(x)\n",
    "        x = self.sigmoid(x)\n",
    "        return x\n",
    "\n",
    "# Hyperparameters\n",
    "num_classes = len(all_labels)\n",
    "batch_size = 30\n",
    "epochs = 50\n",
    "learning_rate = 0.001\n",
    "k_folds = 5\n",
    "\n",
    "# K-Fold cross-validation 초기화\n",
    "skf = MultilabelStratifiedKFold(n_splits=k_folds, shuffle=True, random_state=42)\n",
    "\n",
    "# 폴드 별 각 label의 ROC data를 위한 list\n",
    "all_fpr = []\n",
    "all_tpr = []\n",
    "\n",
    "# Early stopping parameters\n",
    "patience = 5"
   ]
  },
  {
   "cell_type": "code",
   "execution_count": 6,
   "metadata": {
    "scrolled": true
   },
   "outputs": [
    {
     "name": "stdout",
     "output_type": "stream",
     "text": [
      "Training Fold 1...\n"
     ]
    },
    {
     "name": "stderr",
     "output_type": "stream",
     "text": [
      "Epoch 1: 100%|███████████████████████████████████████████████████████████████████████| 458/458 [00:10<00:00, 41.74it/s]\n"
     ]
    },
    {
     "name": "stdout",
     "output_type": "stream",
     "text": [
      "Epoch 1, Average Training Loss: 0.4262\n",
      "Epoch 1, Validation AUC: 0.8868\n"
     ]
    },
    {
     "name": "stderr",
     "output_type": "stream",
     "text": [
      "Epoch 2: 100%|██████████████████████████████████████████████████████████████████████| 458/458 [00:02<00:00, 156.30it/s]\n"
     ]
    },
    {
     "name": "stdout",
     "output_type": "stream",
     "text": [
      "Epoch 2, Average Training Loss: 0.3448\n",
      "Epoch 2, Validation AUC: 0.9032\n"
     ]
    },
    {
     "name": "stderr",
     "output_type": "stream",
     "text": [
      "Epoch 3: 100%|██████████████████████████████████████████████████████████████████████| 458/458 [00:02<00:00, 156.82it/s]\n"
     ]
    },
    {
     "name": "stdout",
     "output_type": "stream",
     "text": [
      "Epoch 3, Average Training Loss: 0.3191\n",
      "Epoch 3, Validation AUC: 0.9126\n"
     ]
    },
    {
     "name": "stderr",
     "output_type": "stream",
     "text": [
      "Epoch 4: 100%|██████████████████████████████████████████████████████████████████████| 458/458 [00:02<00:00, 155.19it/s]\n"
     ]
    },
    {
     "name": "stdout",
     "output_type": "stream",
     "text": [
      "Epoch 4, Average Training Loss: 0.3050\n",
      "Epoch 4, Validation AUC: 0.9190\n"
     ]
    },
    {
     "name": "stderr",
     "output_type": "stream",
     "text": [
      "Epoch 5: 100%|██████████████████████████████████████████████████████████████████████| 458/458 [00:02<00:00, 156.71it/s]\n"
     ]
    },
    {
     "name": "stdout",
     "output_type": "stream",
     "text": [
      "Epoch 5, Average Training Loss: 0.2975\n",
      "Epoch 5, Validation AUC: 0.9196\n"
     ]
    },
    {
     "name": "stderr",
     "output_type": "stream",
     "text": [
      "Epoch 6: 100%|██████████████████████████████████████████████████████████████████████| 458/458 [00:02<00:00, 155.20it/s]\n"
     ]
    },
    {
     "name": "stdout",
     "output_type": "stream",
     "text": [
      "Epoch 6, Average Training Loss: 0.2892\n",
      "Epoch 6, Validation AUC: 0.9257\n"
     ]
    },
    {
     "name": "stderr",
     "output_type": "stream",
     "text": [
      "Epoch 7: 100%|██████████████████████████████████████████████████████████████████████| 458/458 [00:02<00:00, 156.65it/s]\n"
     ]
    },
    {
     "name": "stdout",
     "output_type": "stream",
     "text": [
      "Epoch 7, Average Training Loss: 0.2830\n",
      "Epoch 7, Validation AUC: 0.9259\n"
     ]
    },
    {
     "name": "stderr",
     "output_type": "stream",
     "text": [
      "Epoch 8: 100%|██████████████████████████████████████████████████████████████████████| 458/458 [00:02<00:00, 155.97it/s]\n"
     ]
    },
    {
     "name": "stdout",
     "output_type": "stream",
     "text": [
      "Epoch 8, Average Training Loss: 0.2761\n",
      "Epoch 8, Validation AUC: 0.9233\n"
     ]
    },
    {
     "name": "stderr",
     "output_type": "stream",
     "text": [
      "Epoch 9: 100%|██████████████████████████████████████████████████████████████████████| 458/458 [00:02<00:00, 155.79it/s]\n"
     ]
    },
    {
     "name": "stdout",
     "output_type": "stream",
     "text": [
      "Epoch 9, Average Training Loss: 0.2723\n",
      "Epoch 9, Validation AUC: 0.9268\n"
     ]
    },
    {
     "name": "stderr",
     "output_type": "stream",
     "text": [
      "Epoch 10: 100%|█████████████████████████████████████████████████████████████████████| 458/458 [00:02<00:00, 156.45it/s]\n"
     ]
    },
    {
     "name": "stdout",
     "output_type": "stream",
     "text": [
      "Epoch 10, Average Training Loss: 0.2688\n",
      "Epoch 10, Validation AUC: 0.9292\n"
     ]
    },
    {
     "name": "stderr",
     "output_type": "stream",
     "text": [
      "Epoch 11: 100%|█████████████████████████████████████████████████████████████████████| 458/458 [00:02<00:00, 156.40it/s]\n"
     ]
    },
    {
     "name": "stdout",
     "output_type": "stream",
     "text": [
      "Epoch 11, Average Training Loss: 0.2662\n",
      "Epoch 11, Validation AUC: 0.9317\n"
     ]
    },
    {
     "name": "stderr",
     "output_type": "stream",
     "text": [
      "Epoch 12: 100%|█████████████████████████████████████████████████████████████████████| 458/458 [00:02<00:00, 155.84it/s]\n"
     ]
    },
    {
     "name": "stdout",
     "output_type": "stream",
     "text": [
      "Epoch 12, Average Training Loss: 0.2617\n",
      "Epoch 12, Validation AUC: 0.9323\n"
     ]
    },
    {
     "name": "stderr",
     "output_type": "stream",
     "text": [
      "Epoch 13: 100%|█████████████████████████████████████████████████████████████████████| 458/458 [00:02<00:00, 155.04it/s]\n"
     ]
    },
    {
     "name": "stdout",
     "output_type": "stream",
     "text": [
      "Epoch 13, Average Training Loss: 0.2588\n",
      "Epoch 13, Validation AUC: 0.9325\n"
     ]
    },
    {
     "name": "stderr",
     "output_type": "stream",
     "text": [
      "Epoch 14: 100%|█████████████████████████████████████████████████████████████████████| 458/458 [00:02<00:00, 155.22it/s]\n"
     ]
    },
    {
     "name": "stdout",
     "output_type": "stream",
     "text": [
      "Epoch 14, Average Training Loss: 0.2579\n",
      "Epoch 14, Validation AUC: 0.9335\n"
     ]
    },
    {
     "name": "stderr",
     "output_type": "stream",
     "text": [
      "Epoch 15: 100%|█████████████████████████████████████████████████████████████████████| 458/458 [00:02<00:00, 156.42it/s]\n"
     ]
    },
    {
     "name": "stdout",
     "output_type": "stream",
     "text": [
      "Epoch 15, Average Training Loss: 0.2528\n",
      "Epoch 15, Validation AUC: 0.9345\n"
     ]
    },
    {
     "name": "stderr",
     "output_type": "stream",
     "text": [
      "Epoch 16: 100%|█████████████████████████████████████████████████████████████████████| 458/458 [00:02<00:00, 156.52it/s]\n"
     ]
    },
    {
     "name": "stdout",
     "output_type": "stream",
     "text": [
      "Epoch 16, Average Training Loss: 0.2507\n",
      "Epoch 16, Validation AUC: 0.9345\n"
     ]
    },
    {
     "name": "stderr",
     "output_type": "stream",
     "text": [
      "Epoch 17: 100%|█████████████████████████████████████████████████████████████████████| 458/458 [00:02<00:00, 155.75it/s]\n"
     ]
    },
    {
     "name": "stdout",
     "output_type": "stream",
     "text": [
      "Epoch 17, Average Training Loss: 0.2503\n",
      "Epoch 17, Validation AUC: 0.9349\n"
     ]
    },
    {
     "name": "stderr",
     "output_type": "stream",
     "text": [
      "Epoch 18: 100%|█████████████████████████████████████████████████████████████████████| 458/458 [00:02<00:00, 155.04it/s]\n"
     ]
    },
    {
     "name": "stdout",
     "output_type": "stream",
     "text": [
      "Epoch 18, Average Training Loss: 0.2467\n",
      "Epoch 18, Validation AUC: 0.9356\n"
     ]
    },
    {
     "name": "stderr",
     "output_type": "stream",
     "text": [
      "Epoch 19: 100%|█████████████████████████████████████████████████████████████████████| 458/458 [00:02<00:00, 155.78it/s]\n"
     ]
    },
    {
     "name": "stdout",
     "output_type": "stream",
     "text": [
      "Epoch 19, Average Training Loss: 0.2439\n",
      "Epoch 19, Validation AUC: 0.9351\n"
     ]
    },
    {
     "name": "stderr",
     "output_type": "stream",
     "text": [
      "Epoch 20: 100%|█████████████████████████████████████████████████████████████████████| 458/458 [00:02<00:00, 156.19it/s]\n"
     ]
    },
    {
     "name": "stdout",
     "output_type": "stream",
     "text": [
      "Epoch 20, Average Training Loss: 0.2428\n",
      "Epoch 20, Validation AUC: 0.9359\n"
     ]
    },
    {
     "name": "stderr",
     "output_type": "stream",
     "text": [
      "Epoch 21: 100%|█████████████████████████████████████████████████████████████████████| 458/458 [00:02<00:00, 156.78it/s]\n"
     ]
    },
    {
     "name": "stdout",
     "output_type": "stream",
     "text": [
      "Epoch 21, Average Training Loss: 0.2399\n",
      "Epoch 21, Validation AUC: 0.9359\n"
     ]
    },
    {
     "name": "stderr",
     "output_type": "stream",
     "text": [
      "Epoch 22: 100%|█████████████████████████████████████████████████████████████████████| 458/458 [00:02<00:00, 156.29it/s]\n"
     ]
    },
    {
     "name": "stdout",
     "output_type": "stream",
     "text": [
      "Epoch 22, Average Training Loss: 0.2399\n",
      "Epoch 22, Validation AUC: 0.9376\n"
     ]
    },
    {
     "name": "stderr",
     "output_type": "stream",
     "text": [
      "Epoch 23: 100%|█████████████████████████████████████████████████████████████████████| 458/458 [00:02<00:00, 156.66it/s]\n"
     ]
    },
    {
     "name": "stdout",
     "output_type": "stream",
     "text": [
      "Epoch 23, Average Training Loss: 0.2357\n",
      "Epoch 23, Validation AUC: 0.9372\n"
     ]
    },
    {
     "name": "stderr",
     "output_type": "stream",
     "text": [
      "Epoch 24: 100%|█████████████████████████████████████████████████████████████████████| 458/458 [00:02<00:00, 155.11it/s]\n"
     ]
    },
    {
     "name": "stdout",
     "output_type": "stream",
     "text": [
      "Epoch 24, Average Training Loss: 0.2344\n",
      "Epoch 24, Validation AUC: 0.9370\n"
     ]
    },
    {
     "name": "stderr",
     "output_type": "stream",
     "text": [
      "Epoch 25: 100%|█████████████████████████████████████████████████████████████████████| 458/458 [00:02<00:00, 156.54it/s]\n"
     ]
    },
    {
     "name": "stdout",
     "output_type": "stream",
     "text": [
      "Epoch 25, Average Training Loss: 0.2316\n",
      "Epoch 25, Validation AUC: 0.9387\n"
     ]
    },
    {
     "name": "stderr",
     "output_type": "stream",
     "text": [
      "Epoch 26: 100%|█████████████████████████████████████████████████████████████████████| 458/458 [00:02<00:00, 155.64it/s]\n"
     ]
    },
    {
     "name": "stdout",
     "output_type": "stream",
     "text": [
      "Epoch 26, Average Training Loss: 0.2280\n",
      "Epoch 26, Validation AUC: 0.9370\n"
     ]
    },
    {
     "name": "stderr",
     "output_type": "stream",
     "text": [
      "Epoch 27: 100%|█████████████████████████████████████████████████████████████████████| 458/458 [00:02<00:00, 155.67it/s]\n"
     ]
    },
    {
     "name": "stdout",
     "output_type": "stream",
     "text": [
      "Epoch 27, Average Training Loss: 0.2290\n",
      "Epoch 27, Validation AUC: 0.9385\n"
     ]
    },
    {
     "name": "stderr",
     "output_type": "stream",
     "text": [
      "Epoch 28: 100%|█████████████████████████████████████████████████████████████████████| 458/458 [00:02<00:00, 155.36it/s]\n"
     ]
    },
    {
     "name": "stdout",
     "output_type": "stream",
     "text": [
      "Epoch 28, Average Training Loss: 0.2271\n",
      "Epoch 28, Validation AUC: 0.9364\n"
     ]
    },
    {
     "name": "stderr",
     "output_type": "stream",
     "text": [
      "Epoch 29: 100%|█████████████████████████████████████████████████████████████████████| 458/458 [00:02<00:00, 156.06it/s]\n"
     ]
    },
    {
     "name": "stdout",
     "output_type": "stream",
     "text": [
      "Epoch 29, Average Training Loss: 0.2248\n",
      "Epoch 29, Validation AUC: 0.9371\n"
     ]
    },
    {
     "name": "stderr",
     "output_type": "stream",
     "text": [
      "Epoch 30: 100%|█████████████████████████████████████████████████████████████████████| 458/458 [00:02<00:00, 156.08it/s]\n"
     ]
    },
    {
     "name": "stdout",
     "output_type": "stream",
     "text": [
      "Epoch 30, Average Training Loss: 0.2250\n",
      "Epoch 30, Validation AUC: 0.9379\n",
      "Early stopping at epoch 30\n",
      "Best AUC: 0.9387 (Epoch 30)\n",
      "Training Fold 2...\n"
     ]
    },
    {
     "name": "stderr",
     "output_type": "stream",
     "text": [
      "Epoch 1: 100%|██████████████████████████████████████████████████████████████████████| 457/457 [00:03<00:00, 144.14it/s]\n"
     ]
    },
    {
     "name": "stdout",
     "output_type": "stream",
     "text": [
      "Epoch 1, Average Training Loss: 0.4320\n",
      "Epoch 1, Validation AUC: 0.8785\n"
     ]
    },
    {
     "name": "stderr",
     "output_type": "stream",
     "text": [
      "Epoch 2: 100%|██████████████████████████████████████████████████████████████████████| 457/457 [00:03<00:00, 150.94it/s]\n"
     ]
    },
    {
     "name": "stdout",
     "output_type": "stream",
     "text": [
      "Epoch 2, Average Training Loss: 0.3412\n",
      "Epoch 2, Validation AUC: 0.9021\n"
     ]
    },
    {
     "name": "stderr",
     "output_type": "stream",
     "text": [
      "Epoch 3: 100%|██████████████████████████████████████████████████████████████████████| 457/457 [00:02<00:00, 154.40it/s]\n"
     ]
    },
    {
     "name": "stdout",
     "output_type": "stream",
     "text": [
      "Epoch 3, Average Training Loss: 0.3219\n",
      "Epoch 3, Validation AUC: 0.9137\n"
     ]
    },
    {
     "name": "stderr",
     "output_type": "stream",
     "text": [
      "Epoch 4: 100%|██████████████████████████████████████████████████████████████████████| 457/457 [00:02<00:00, 154.05it/s]\n"
     ]
    },
    {
     "name": "stdout",
     "output_type": "stream",
     "text": [
      "Epoch 4, Average Training Loss: 0.3071\n",
      "Epoch 4, Validation AUC: 0.9200\n"
     ]
    },
    {
     "name": "stderr",
     "output_type": "stream",
     "text": [
      "Epoch 5: 100%|██████████████████████████████████████████████████████████████████████| 457/457 [00:02<00:00, 154.98it/s]\n"
     ]
    },
    {
     "name": "stdout",
     "output_type": "stream",
     "text": [
      "Epoch 5, Average Training Loss: 0.2971\n",
      "Epoch 5, Validation AUC: 0.9236\n"
     ]
    },
    {
     "name": "stderr",
     "output_type": "stream",
     "text": [
      "Epoch 6: 100%|██████████████████████████████████████████████████████████████████████| 457/457 [00:02<00:00, 156.20it/s]\n"
     ]
    },
    {
     "name": "stdout",
     "output_type": "stream",
     "text": [
      "Epoch 6, Average Training Loss: 0.2918\n",
      "Epoch 6, Validation AUC: 0.9258\n"
     ]
    },
    {
     "name": "stderr",
     "output_type": "stream",
     "text": [
      "Epoch 7: 100%|██████████████████████████████████████████████████████████████████████| 457/457 [00:02<00:00, 154.82it/s]\n"
     ]
    },
    {
     "name": "stdout",
     "output_type": "stream",
     "text": [
      "Epoch 7, Average Training Loss: 0.2829\n",
      "Epoch 7, Validation AUC: 0.9272\n"
     ]
    },
    {
     "name": "stderr",
     "output_type": "stream",
     "text": [
      "Epoch 8: 100%|██████████████████████████████████████████████████████████████████████| 457/457 [00:02<00:00, 155.15it/s]\n"
     ]
    },
    {
     "name": "stdout",
     "output_type": "stream",
     "text": [
      "Epoch 8, Average Training Loss: 0.2788\n",
      "Epoch 8, Validation AUC: 0.9288\n"
     ]
    },
    {
     "name": "stderr",
     "output_type": "stream",
     "text": [
      "Epoch 9: 100%|██████████████████████████████████████████████████████████████████████| 457/457 [00:02<00:00, 155.95it/s]\n"
     ]
    },
    {
     "name": "stdout",
     "output_type": "stream",
     "text": [
      "Epoch 9, Average Training Loss: 0.2745\n",
      "Epoch 9, Validation AUC: 0.9328\n"
     ]
    },
    {
     "name": "stderr",
     "output_type": "stream",
     "text": [
      "Epoch 10: 100%|█████████████████████████████████████████████████████████████████████| 457/457 [00:02<00:00, 156.03it/s]\n"
     ]
    },
    {
     "name": "stdout",
     "output_type": "stream",
     "text": [
      "Epoch 10, Average Training Loss: 0.2701\n",
      "Epoch 10, Validation AUC: 0.9326\n"
     ]
    },
    {
     "name": "stderr",
     "output_type": "stream",
     "text": [
      "Epoch 11: 100%|█████████████████████████████████████████████████████████████████████| 457/457 [00:02<00:00, 155.90it/s]\n"
     ]
    },
    {
     "name": "stdout",
     "output_type": "stream",
     "text": [
      "Epoch 11, Average Training Loss: 0.2676\n",
      "Epoch 11, Validation AUC: 0.9339\n"
     ]
    },
    {
     "name": "stderr",
     "output_type": "stream",
     "text": [
      "Epoch 12: 100%|█████████████████████████████████████████████████████████████████████| 457/457 [00:02<00:00, 156.46it/s]\n"
     ]
    },
    {
     "name": "stdout",
     "output_type": "stream",
     "text": [
      "Epoch 12, Average Training Loss: 0.2639\n",
      "Epoch 12, Validation AUC: 0.9355\n"
     ]
    },
    {
     "name": "stderr",
     "output_type": "stream",
     "text": [
      "Epoch 13: 100%|█████████████████████████████████████████████████████████████████████| 457/457 [00:02<00:00, 156.44it/s]\n"
     ]
    },
    {
     "name": "stdout",
     "output_type": "stream",
     "text": [
      "Epoch 13, Average Training Loss: 0.2604\n",
      "Epoch 13, Validation AUC: 0.9345\n"
     ]
    },
    {
     "name": "stderr",
     "output_type": "stream",
     "text": [
      "Epoch 14: 100%|█████████████████████████████████████████████████████████████████████| 457/457 [00:02<00:00, 155.13it/s]\n"
     ]
    },
    {
     "name": "stdout",
     "output_type": "stream",
     "text": [
      "Epoch 14, Average Training Loss: 0.2584\n",
      "Epoch 14, Validation AUC: 0.9336\n"
     ]
    },
    {
     "name": "stderr",
     "output_type": "stream",
     "text": [
      "Epoch 15: 100%|█████████████████████████████████████████████████████████████████████| 457/457 [00:02<00:00, 156.09it/s]\n"
     ]
    },
    {
     "name": "stdout",
     "output_type": "stream",
     "text": [
      "Epoch 15, Average Training Loss: 0.2552\n",
      "Epoch 15, Validation AUC: 0.9375\n"
     ]
    },
    {
     "name": "stderr",
     "output_type": "stream",
     "text": [
      "Epoch 16: 100%|█████████████████████████████████████████████████████████████████████| 457/457 [00:02<00:00, 155.21it/s]\n"
     ]
    },
    {
     "name": "stdout",
     "output_type": "stream",
     "text": [
      "Epoch 16, Average Training Loss: 0.2508\n",
      "Epoch 16, Validation AUC: 0.9377\n"
     ]
    },
    {
     "name": "stderr",
     "output_type": "stream",
     "text": [
      "Epoch 17: 100%|█████████████████████████████████████████████████████████████████████| 457/457 [00:02<00:00, 156.30it/s]\n"
     ]
    },
    {
     "name": "stdout",
     "output_type": "stream",
     "text": [
      "Epoch 17, Average Training Loss: 0.2488\n",
      "Epoch 17, Validation AUC: 0.9383\n"
     ]
    },
    {
     "name": "stderr",
     "output_type": "stream",
     "text": [
      "Epoch 18: 100%|█████████████████████████████████████████████████████████████████████| 457/457 [00:02<00:00, 154.69it/s]\n"
     ]
    },
    {
     "name": "stdout",
     "output_type": "stream",
     "text": [
      "Epoch 18, Average Training Loss: 0.2487\n",
      "Epoch 18, Validation AUC: 0.9368\n"
     ]
    },
    {
     "name": "stderr",
     "output_type": "stream",
     "text": [
      "Epoch 19: 100%|█████████████████████████████████████████████████████████████████████| 457/457 [00:02<00:00, 156.94it/s]\n"
     ]
    },
    {
     "name": "stdout",
     "output_type": "stream",
     "text": [
      "Epoch 19, Average Training Loss: 0.2461\n",
      "Epoch 19, Validation AUC: 0.9362\n"
     ]
    },
    {
     "name": "stderr",
     "output_type": "stream",
     "text": [
      "Epoch 20: 100%|█████████████████████████████████████████████████████████████████████| 457/457 [00:03<00:00, 146.88it/s]\n"
     ]
    },
    {
     "name": "stdout",
     "output_type": "stream",
     "text": [
      "Epoch 20, Average Training Loss: 0.2419\n",
      "Epoch 20, Validation AUC: 0.9379\n"
     ]
    },
    {
     "name": "stderr",
     "output_type": "stream",
     "text": [
      "Epoch 21: 100%|█████████████████████████████████████████████████████████████████████| 457/457 [00:02<00:00, 156.18it/s]\n"
     ]
    },
    {
     "name": "stdout",
     "output_type": "stream",
     "text": [
      "Epoch 21, Average Training Loss: 0.2407\n",
      "Epoch 21, Validation AUC: 0.9359\n"
     ]
    },
    {
     "name": "stderr",
     "output_type": "stream",
     "text": [
      "Epoch 22: 100%|█████████████████████████████████████████████████████████████████████| 457/457 [00:02<00:00, 155.91it/s]\n"
     ]
    },
    {
     "name": "stdout",
     "output_type": "stream",
     "text": [
      "Epoch 22, Average Training Loss: 0.2394\n",
      "Epoch 22, Validation AUC: 0.9374\n",
      "Early stopping at epoch 22\n",
      "Best AUC: 0.9383 (Epoch 22)\n",
      "Training Fold 3...\n"
     ]
    },
    {
     "name": "stderr",
     "output_type": "stream",
     "text": [
      "Epoch 1: 100%|██████████████████████████████████████████████████████████████████████| 457/457 [00:02<00:00, 155.55it/s]\n"
     ]
    },
    {
     "name": "stdout",
     "output_type": "stream",
     "text": [
      "Epoch 1, Average Training Loss: 0.4202\n",
      "Epoch 1, Validation AUC: 0.8809\n"
     ]
    },
    {
     "name": "stderr",
     "output_type": "stream",
     "text": [
      "Epoch 2: 100%|██████████████████████████████████████████████████████████████████████| 457/457 [00:02<00:00, 156.58it/s]\n"
     ]
    },
    {
     "name": "stdout",
     "output_type": "stream",
     "text": [
      "Epoch 2, Average Training Loss: 0.3371\n",
      "Epoch 2, Validation AUC: 0.8982\n"
     ]
    },
    {
     "name": "stderr",
     "output_type": "stream",
     "text": [
      "Epoch 3: 100%|██████████████████████████████████████████████████████████████████████| 457/457 [00:02<00:00, 155.56it/s]\n"
     ]
    },
    {
     "name": "stdout",
     "output_type": "stream",
     "text": [
      "Epoch 3, Average Training Loss: 0.3158\n",
      "Epoch 3, Validation AUC: 0.9051\n"
     ]
    },
    {
     "name": "stderr",
     "output_type": "stream",
     "text": [
      "Epoch 4: 100%|██████████████████████████████████████████████████████████████████████| 457/457 [00:02<00:00, 156.67it/s]\n"
     ]
    },
    {
     "name": "stdout",
     "output_type": "stream",
     "text": [
      "Epoch 4, Average Training Loss: 0.3038\n",
      "Epoch 4, Validation AUC: 0.9155\n"
     ]
    },
    {
     "name": "stderr",
     "output_type": "stream",
     "text": [
      "Epoch 5: 100%|██████████████████████████████████████████████████████████████████████| 457/457 [00:02<00:00, 155.77it/s]\n"
     ]
    },
    {
     "name": "stdout",
     "output_type": "stream",
     "text": [
      "Epoch 5, Average Training Loss: 0.2931\n",
      "Epoch 5, Validation AUC: 0.9195\n"
     ]
    },
    {
     "name": "stderr",
     "output_type": "stream",
     "text": [
      "Epoch 6: 100%|██████████████████████████████████████████████████████████████████████| 457/457 [00:02<00:00, 156.64it/s]\n"
     ]
    },
    {
     "name": "stdout",
     "output_type": "stream",
     "text": [
      "Epoch 6, Average Training Loss: 0.2845\n",
      "Epoch 6, Validation AUC: 0.9228\n"
     ]
    },
    {
     "name": "stderr",
     "output_type": "stream",
     "text": [
      "Epoch 7: 100%|██████████████████████████████████████████████████████████████████████| 457/457 [00:02<00:00, 156.31it/s]\n"
     ]
    },
    {
     "name": "stdout",
     "output_type": "stream",
     "text": [
      "Epoch 7, Average Training Loss: 0.2799\n",
      "Epoch 7, Validation AUC: 0.9247\n"
     ]
    },
    {
     "name": "stderr",
     "output_type": "stream",
     "text": [
      "Epoch 8: 100%|██████████████████████████████████████████████████████████████████████| 457/457 [00:02<00:00, 155.44it/s]\n"
     ]
    },
    {
     "name": "stdout",
     "output_type": "stream",
     "text": [
      "Epoch 8, Average Training Loss: 0.2755\n",
      "Epoch 8, Validation AUC: 0.9255\n"
     ]
    },
    {
     "name": "stderr",
     "output_type": "stream",
     "text": [
      "Epoch 9: 100%|██████████████████████████████████████████████████████████████████████| 457/457 [00:02<00:00, 155.76it/s]\n"
     ]
    },
    {
     "name": "stdout",
     "output_type": "stream",
     "text": [
      "Epoch 9, Average Training Loss: 0.2695\n",
      "Epoch 9, Validation AUC: 0.9271\n"
     ]
    },
    {
     "name": "stderr",
     "output_type": "stream",
     "text": [
      "Epoch 10: 100%|█████████████████████████████████████████████████████████████████████| 457/457 [00:02<00:00, 155.63it/s]\n"
     ]
    },
    {
     "name": "stdout",
     "output_type": "stream",
     "text": [
      "Epoch 10, Average Training Loss: 0.2674\n",
      "Epoch 10, Validation AUC: 0.9278\n"
     ]
    },
    {
     "name": "stderr",
     "output_type": "stream",
     "text": [
      "Epoch 11: 100%|█████████████████████████████████████████████████████████████████████| 457/457 [00:02<00:00, 156.73it/s]\n"
     ]
    },
    {
     "name": "stdout",
     "output_type": "stream",
     "text": [
      "Epoch 11, Average Training Loss: 0.2650\n",
      "Epoch 11, Validation AUC: 0.9289\n"
     ]
    },
    {
     "name": "stderr",
     "output_type": "stream",
     "text": [
      "Epoch 12: 100%|█████████████████████████████████████████████████████████████████████| 457/457 [00:02<00:00, 154.75it/s]\n"
     ]
    },
    {
     "name": "stdout",
     "output_type": "stream",
     "text": [
      "Epoch 12, Average Training Loss: 0.2593\n",
      "Epoch 12, Validation AUC: 0.9300\n"
     ]
    },
    {
     "name": "stderr",
     "output_type": "stream",
     "text": [
      "Epoch 13: 100%|█████████████████████████████████████████████████████████████████████| 457/457 [00:02<00:00, 155.89it/s]\n"
     ]
    },
    {
     "name": "stdout",
     "output_type": "stream",
     "text": [
      "Epoch 13, Average Training Loss: 0.2561\n",
      "Epoch 13, Validation AUC: 0.9309\n"
     ]
    },
    {
     "name": "stderr",
     "output_type": "stream",
     "text": [
      "Epoch 14: 100%|█████████████████████████████████████████████████████████████████████| 457/457 [00:02<00:00, 155.57it/s]\n"
     ]
    },
    {
     "name": "stdout",
     "output_type": "stream",
     "text": [
      "Epoch 14, Average Training Loss: 0.2519\n",
      "Epoch 14, Validation AUC: 0.9303\n"
     ]
    },
    {
     "name": "stderr",
     "output_type": "stream",
     "text": [
      "Epoch 15: 100%|█████████████████████████████████████████████████████████████████████| 457/457 [00:02<00:00, 156.27it/s]\n"
     ]
    },
    {
     "name": "stdout",
     "output_type": "stream",
     "text": [
      "Epoch 15, Average Training Loss: 0.2520\n",
      "Epoch 15, Validation AUC: 0.9307\n"
     ]
    },
    {
     "name": "stderr",
     "output_type": "stream",
     "text": [
      "Epoch 16: 100%|█████████████████████████████████████████████████████████████████████| 457/457 [00:02<00:00, 155.59it/s]\n"
     ]
    },
    {
     "name": "stdout",
     "output_type": "stream",
     "text": [
      "Epoch 16, Average Training Loss: 0.2492\n",
      "Epoch 16, Validation AUC: 0.9304\n"
     ]
    },
    {
     "name": "stderr",
     "output_type": "stream",
     "text": [
      "Epoch 17: 100%|█████████████████████████████████████████████████████████████████████| 457/457 [00:02<00:00, 155.95it/s]\n"
     ]
    },
    {
     "name": "stdout",
     "output_type": "stream",
     "text": [
      "Epoch 17, Average Training Loss: 0.2439\n",
      "Epoch 17, Validation AUC: 0.9329\n"
     ]
    },
    {
     "name": "stderr",
     "output_type": "stream",
     "text": [
      "Epoch 18: 100%|█████████████████████████████████████████████████████████████████████| 457/457 [00:02<00:00, 156.42it/s]\n"
     ]
    },
    {
     "name": "stdout",
     "output_type": "stream",
     "text": [
      "Epoch 18, Average Training Loss: 0.2422\n",
      "Epoch 18, Validation AUC: 0.9321\n"
     ]
    },
    {
     "name": "stderr",
     "output_type": "stream",
     "text": [
      "Epoch 19: 100%|█████████████████████████████████████████████████████████████████████| 457/457 [00:02<00:00, 156.02it/s]\n"
     ]
    },
    {
     "name": "stdout",
     "output_type": "stream",
     "text": [
      "Epoch 19, Average Training Loss: 0.2418\n",
      "Epoch 19, Validation AUC: 0.9345\n"
     ]
    },
    {
     "name": "stderr",
     "output_type": "stream",
     "text": [
      "Epoch 20: 100%|█████████████████████████████████████████████████████████████████████| 457/457 [00:02<00:00, 156.24it/s]\n"
     ]
    },
    {
     "name": "stdout",
     "output_type": "stream",
     "text": [
      "Epoch 20, Average Training Loss: 0.2399\n",
      "Epoch 20, Validation AUC: 0.9323\n"
     ]
    },
    {
     "name": "stderr",
     "output_type": "stream",
     "text": [
      "Epoch 21: 100%|█████████████████████████████████████████████████████████████████████| 457/457 [00:02<00:00, 155.64it/s]\n"
     ]
    },
    {
     "name": "stdout",
     "output_type": "stream",
     "text": [
      "Epoch 21, Average Training Loss: 0.2364\n",
      "Epoch 21, Validation AUC: 0.9324\n"
     ]
    },
    {
     "name": "stderr",
     "output_type": "stream",
     "text": [
      "Epoch 22: 100%|█████████████████████████████████████████████████████████████████████| 457/457 [00:02<00:00, 156.42it/s]\n"
     ]
    },
    {
     "name": "stdout",
     "output_type": "stream",
     "text": [
      "Epoch 22, Average Training Loss: 0.2353\n",
      "Epoch 22, Validation AUC: 0.9329\n"
     ]
    },
    {
     "name": "stderr",
     "output_type": "stream",
     "text": [
      "Epoch 23: 100%|█████████████████████████████████████████████████████████████████████| 457/457 [00:02<00:00, 156.53it/s]\n"
     ]
    },
    {
     "name": "stdout",
     "output_type": "stream",
     "text": [
      "Epoch 23, Average Training Loss: 0.2324\n",
      "Epoch 23, Validation AUC: 0.9353\n"
     ]
    },
    {
     "name": "stderr",
     "output_type": "stream",
     "text": [
      "Epoch 24: 100%|█████████████████████████████████████████████████████████████████████| 457/457 [00:02<00:00, 156.32it/s]\n"
     ]
    },
    {
     "name": "stdout",
     "output_type": "stream",
     "text": [
      "Epoch 24, Average Training Loss: 0.2310\n",
      "Epoch 24, Validation AUC: 0.9330\n"
     ]
    },
    {
     "name": "stderr",
     "output_type": "stream",
     "text": [
      "Epoch 25: 100%|█████████████████████████████████████████████████████████████████████| 457/457 [00:02<00:00, 155.45it/s]\n"
     ]
    },
    {
     "name": "stdout",
     "output_type": "stream",
     "text": [
      "Epoch 25, Average Training Loss: 0.2284\n",
      "Epoch 25, Validation AUC: 0.9352\n"
     ]
    },
    {
     "name": "stderr",
     "output_type": "stream",
     "text": [
      "Epoch 26: 100%|█████████████████████████████████████████████████████████████████████| 457/457 [00:02<00:00, 154.97it/s]\n"
     ]
    },
    {
     "name": "stdout",
     "output_type": "stream",
     "text": [
      "Epoch 26, Average Training Loss: 0.2277\n",
      "Epoch 26, Validation AUC: 0.9320\n"
     ]
    },
    {
     "name": "stderr",
     "output_type": "stream",
     "text": [
      "Epoch 27: 100%|█████████████████████████████████████████████████████████████████████| 457/457 [00:02<00:00, 155.52it/s]\n"
     ]
    },
    {
     "name": "stdout",
     "output_type": "stream",
     "text": [
      "Epoch 27, Average Training Loss: 0.2248\n",
      "Epoch 27, Validation AUC: 0.9348\n"
     ]
    },
    {
     "name": "stderr",
     "output_type": "stream",
     "text": [
      "Epoch 28: 100%|█████████████████████████████████████████████████████████████████████| 457/457 [00:02<00:00, 157.47it/s]\n"
     ]
    },
    {
     "name": "stdout",
     "output_type": "stream",
     "text": [
      "Epoch 28, Average Training Loss: 0.2218\n",
      "Epoch 28, Validation AUC: 0.9339\n",
      "Early stopping at epoch 28\n",
      "Best AUC: 0.9353 (Epoch 28)\n",
      "Training Fold 4...\n"
     ]
    },
    {
     "name": "stderr",
     "output_type": "stream",
     "text": [
      "Epoch 1: 100%|██████████████████████████████████████████████████████████████████████| 458/458 [00:02<00:00, 154.74it/s]\n"
     ]
    },
    {
     "name": "stdout",
     "output_type": "stream",
     "text": [
      "Epoch 1, Average Training Loss: 0.4402\n",
      "Epoch 1, Validation AUC: 0.8766\n"
     ]
    },
    {
     "name": "stderr",
     "output_type": "stream",
     "text": [
      "Epoch 2: 100%|██████████████████████████████████████████████████████████████████████| 458/458 [00:02<00:00, 156.44it/s]\n"
     ]
    },
    {
     "name": "stdout",
     "output_type": "stream",
     "text": [
      "Epoch 2, Average Training Loss: 0.3485\n",
      "Epoch 2, Validation AUC: 0.8996\n"
     ]
    },
    {
     "name": "stderr",
     "output_type": "stream",
     "text": [
      "Epoch 3: 100%|██████████████████████████████████████████████████████████████████████| 458/458 [00:02<00:00, 156.92it/s]\n"
     ]
    },
    {
     "name": "stdout",
     "output_type": "stream",
     "text": [
      "Epoch 3, Average Training Loss: 0.3233\n",
      "Epoch 3, Validation AUC: 0.9090\n"
     ]
    },
    {
     "name": "stderr",
     "output_type": "stream",
     "text": [
      "Epoch 4: 100%|██████████████████████████████████████████████████████████████████████| 458/458 [00:02<00:00, 156.80it/s]\n"
     ]
    },
    {
     "name": "stdout",
     "output_type": "stream",
     "text": [
      "Epoch 4, Average Training Loss: 0.3115\n",
      "Epoch 4, Validation AUC: 0.9156\n"
     ]
    },
    {
     "name": "stderr",
     "output_type": "stream",
     "text": [
      "Epoch 5: 100%|██████████████████████████████████████████████████████████████████████| 458/458 [00:02<00:00, 154.73it/s]\n"
     ]
    },
    {
     "name": "stdout",
     "output_type": "stream",
     "text": [
      "Epoch 5, Average Training Loss: 0.3024\n",
      "Epoch 5, Validation AUC: 0.9167\n"
     ]
    },
    {
     "name": "stderr",
     "output_type": "stream",
     "text": [
      "Epoch 6: 100%|██████████████████████████████████████████████████████████████████████| 458/458 [00:02<00:00, 153.25it/s]\n"
     ]
    },
    {
     "name": "stdout",
     "output_type": "stream",
     "text": [
      "Epoch 6, Average Training Loss: 0.2943\n",
      "Epoch 6, Validation AUC: 0.9201\n"
     ]
    },
    {
     "name": "stderr",
     "output_type": "stream",
     "text": [
      "Epoch 7: 100%|██████████████████████████████████████████████████████████████████████| 458/458 [00:02<00:00, 154.82it/s]\n"
     ]
    },
    {
     "name": "stdout",
     "output_type": "stream",
     "text": [
      "Epoch 7, Average Training Loss: 0.2868\n",
      "Epoch 7, Validation AUC: 0.9216\n"
     ]
    },
    {
     "name": "stderr",
     "output_type": "stream",
     "text": [
      "Epoch 8: 100%|██████████████████████████████████████████████████████████████████████| 458/458 [00:02<00:00, 155.11it/s]\n"
     ]
    },
    {
     "name": "stdout",
     "output_type": "stream",
     "text": [
      "Epoch 8, Average Training Loss: 0.2802\n",
      "Epoch 8, Validation AUC: 0.9275\n"
     ]
    },
    {
     "name": "stderr",
     "output_type": "stream",
     "text": [
      "Epoch 9: 100%|██████████████████████████████████████████████████████████████████████| 458/458 [00:02<00:00, 155.82it/s]\n"
     ]
    },
    {
     "name": "stdout",
     "output_type": "stream",
     "text": [
      "Epoch 9, Average Training Loss: 0.2749\n",
      "Epoch 9, Validation AUC: 0.9277\n"
     ]
    },
    {
     "name": "stderr",
     "output_type": "stream",
     "text": [
      "Epoch 10: 100%|█████████████████████████████████████████████████████████████████████| 458/458 [00:02<00:00, 155.54it/s]\n"
     ]
    },
    {
     "name": "stdout",
     "output_type": "stream",
     "text": [
      "Epoch 10, Average Training Loss: 0.2711\n",
      "Epoch 10, Validation AUC: 0.9312\n"
     ]
    },
    {
     "name": "stderr",
     "output_type": "stream",
     "text": [
      "Epoch 11: 100%|█████████████████████████████████████████████████████████████████████| 458/458 [00:03<00:00, 152.49it/s]\n"
     ]
    },
    {
     "name": "stdout",
     "output_type": "stream",
     "text": [
      "Epoch 11, Average Training Loss: 0.2686\n",
      "Epoch 11, Validation AUC: 0.9335\n"
     ]
    },
    {
     "name": "stderr",
     "output_type": "stream",
     "text": [
      "Epoch 12: 100%|█████████████████████████████████████████████████████████████████████| 458/458 [00:03<00:00, 150.12it/s]\n"
     ]
    },
    {
     "name": "stdout",
     "output_type": "stream",
     "text": [
      "Epoch 12, Average Training Loss: 0.2657\n",
      "Epoch 12, Validation AUC: 0.9337\n"
     ]
    },
    {
     "name": "stderr",
     "output_type": "stream",
     "text": [
      "Epoch 13: 100%|█████████████████████████████████████████████████████████████████████| 458/458 [00:03<00:00, 152.66it/s]\n"
     ]
    },
    {
     "name": "stdout",
     "output_type": "stream",
     "text": [
      "Epoch 13, Average Training Loss: 0.2596\n",
      "Epoch 13, Validation AUC: 0.9338\n"
     ]
    },
    {
     "name": "stderr",
     "output_type": "stream",
     "text": [
      "Epoch 14: 100%|█████████████████████████████████████████████████████████████████████| 458/458 [00:02<00:00, 154.71it/s]\n"
     ]
    },
    {
     "name": "stdout",
     "output_type": "stream",
     "text": [
      "Epoch 14, Average Training Loss: 0.2573\n",
      "Epoch 14, Validation AUC: 0.9340\n"
     ]
    },
    {
     "name": "stderr",
     "output_type": "stream",
     "text": [
      "Epoch 15: 100%|█████████████████████████████████████████████████████████████████████| 458/458 [00:02<00:00, 154.68it/s]\n"
     ]
    },
    {
     "name": "stdout",
     "output_type": "stream",
     "text": [
      "Epoch 15, Average Training Loss: 0.2561\n",
      "Epoch 15, Validation AUC: 0.9360\n"
     ]
    },
    {
     "name": "stderr",
     "output_type": "stream",
     "text": [
      "Epoch 16: 100%|█████████████████████████████████████████████████████████████████████| 458/458 [00:02<00:00, 154.59it/s]\n"
     ]
    },
    {
     "name": "stdout",
     "output_type": "stream",
     "text": [
      "Epoch 16, Average Training Loss: 0.2515\n",
      "Epoch 16, Validation AUC: 0.9352\n"
     ]
    },
    {
     "name": "stderr",
     "output_type": "stream",
     "text": [
      "Epoch 17: 100%|█████████████████████████████████████████████████████████████████████| 458/458 [00:03<00:00, 152.47it/s]\n"
     ]
    },
    {
     "name": "stdout",
     "output_type": "stream",
     "text": [
      "Epoch 17, Average Training Loss: 0.2493\n",
      "Epoch 17, Validation AUC: 0.9365\n"
     ]
    },
    {
     "name": "stderr",
     "output_type": "stream",
     "text": [
      "Epoch 18: 100%|█████████████████████████████████████████████████████████████████████| 458/458 [00:02<00:00, 153.90it/s]\n"
     ]
    },
    {
     "name": "stdout",
     "output_type": "stream",
     "text": [
      "Epoch 18, Average Training Loss: 0.2475\n",
      "Epoch 18, Validation AUC: 0.9373\n"
     ]
    },
    {
     "name": "stderr",
     "output_type": "stream",
     "text": [
      "Epoch 19: 100%|█████████████████████████████████████████████████████████████████████| 458/458 [00:02<00:00, 154.78it/s]\n"
     ]
    },
    {
     "name": "stdout",
     "output_type": "stream",
     "text": [
      "Epoch 19, Average Training Loss: 0.2451\n",
      "Epoch 19, Validation AUC: 0.9352\n"
     ]
    },
    {
     "name": "stderr",
     "output_type": "stream",
     "text": [
      "Epoch 20: 100%|█████████████████████████████████████████████████████████████████████| 458/458 [00:02<00:00, 155.11it/s]\n"
     ]
    },
    {
     "name": "stdout",
     "output_type": "stream",
     "text": [
      "Epoch 20, Average Training Loss: 0.2420\n",
      "Epoch 20, Validation AUC: 0.9354\n"
     ]
    },
    {
     "name": "stderr",
     "output_type": "stream",
     "text": [
      "Epoch 21: 100%|█████████████████████████████████████████████████████████████████████| 458/458 [00:02<00:00, 153.35it/s]\n"
     ]
    },
    {
     "name": "stdout",
     "output_type": "stream",
     "text": [
      "Epoch 21, Average Training Loss: 0.2406\n",
      "Epoch 21, Validation AUC: 0.9356\n"
     ]
    },
    {
     "name": "stderr",
     "output_type": "stream",
     "text": [
      "Epoch 22: 100%|█████████████████████████████████████████████████████████████████████| 458/458 [00:03<00:00, 152.27it/s]\n"
     ]
    },
    {
     "name": "stdout",
     "output_type": "stream",
     "text": [
      "Epoch 22, Average Training Loss: 0.2388\n",
      "Epoch 22, Validation AUC: 0.9377\n"
     ]
    },
    {
     "name": "stderr",
     "output_type": "stream",
     "text": [
      "Epoch 23: 100%|█████████████████████████████████████████████████████████████████████| 458/458 [00:03<00:00, 152.49it/s]\n"
     ]
    },
    {
     "name": "stdout",
     "output_type": "stream",
     "text": [
      "Epoch 23, Average Training Loss: 0.2362\n",
      "Epoch 23, Validation AUC: 0.9350\n"
     ]
    },
    {
     "name": "stderr",
     "output_type": "stream",
     "text": [
      "Epoch 24: 100%|█████████████████████████████████████████████████████████████████████| 458/458 [00:02<00:00, 155.90it/s]\n"
     ]
    },
    {
     "name": "stdout",
     "output_type": "stream",
     "text": [
      "Epoch 24, Average Training Loss: 0.2362\n",
      "Epoch 24, Validation AUC: 0.9363\n"
     ]
    },
    {
     "name": "stderr",
     "output_type": "stream",
     "text": [
      "Epoch 25: 100%|█████████████████████████████████████████████████████████████████████| 458/458 [00:02<00:00, 156.64it/s]\n"
     ]
    },
    {
     "name": "stdout",
     "output_type": "stream",
     "text": [
      "Epoch 25, Average Training Loss: 0.2325\n",
      "Epoch 25, Validation AUC: 0.9380\n"
     ]
    },
    {
     "name": "stderr",
     "output_type": "stream",
     "text": [
      "Epoch 26: 100%|█████████████████████████████████████████████████████████████████████| 458/458 [00:02<00:00, 158.55it/s]\n"
     ]
    },
    {
     "name": "stdout",
     "output_type": "stream",
     "text": [
      "Epoch 26, Average Training Loss: 0.2322\n",
      "Epoch 26, Validation AUC: 0.9360\n"
     ]
    },
    {
     "name": "stderr",
     "output_type": "stream",
     "text": [
      "Epoch 27: 100%|█████████████████████████████████████████████████████████████████████| 458/458 [00:02<00:00, 158.37it/s]\n"
     ]
    },
    {
     "name": "stdout",
     "output_type": "stream",
     "text": [
      "Epoch 27, Average Training Loss: 0.2301\n",
      "Epoch 27, Validation AUC: 0.9374\n"
     ]
    },
    {
     "name": "stderr",
     "output_type": "stream",
     "text": [
      "Epoch 28: 100%|█████████████████████████████████████████████████████████████████████| 458/458 [00:02<00:00, 154.04it/s]\n"
     ]
    },
    {
     "name": "stdout",
     "output_type": "stream",
     "text": [
      "Epoch 28, Average Training Loss: 0.2281\n",
      "Epoch 28, Validation AUC: 0.9383\n"
     ]
    },
    {
     "name": "stderr",
     "output_type": "stream",
     "text": [
      "Epoch 29: 100%|█████████████████████████████████████████████████████████████████████| 458/458 [00:02<00:00, 155.95it/s]\n"
     ]
    },
    {
     "name": "stdout",
     "output_type": "stream",
     "text": [
      "Epoch 29, Average Training Loss: 0.2297\n",
      "Epoch 29, Validation AUC: 0.9374\n"
     ]
    },
    {
     "name": "stderr",
     "output_type": "stream",
     "text": [
      "Epoch 30: 100%|█████████████████████████████████████████████████████████████████████| 458/458 [00:02<00:00, 156.30it/s]\n"
     ]
    },
    {
     "name": "stdout",
     "output_type": "stream",
     "text": [
      "Epoch 30, Average Training Loss: 0.2263\n",
      "Epoch 30, Validation AUC: 0.9368\n"
     ]
    },
    {
     "name": "stderr",
     "output_type": "stream",
     "text": [
      "Epoch 31: 100%|█████████████████████████████████████████████████████████████████████| 458/458 [00:02<00:00, 156.15it/s]\n"
     ]
    },
    {
     "name": "stdout",
     "output_type": "stream",
     "text": [
      "Epoch 31, Average Training Loss: 0.2236\n",
      "Epoch 31, Validation AUC: 0.9381\n"
     ]
    },
    {
     "name": "stderr",
     "output_type": "stream",
     "text": [
      "Epoch 32: 100%|█████████████████████████████████████████████████████████████████████| 458/458 [00:02<00:00, 156.18it/s]\n"
     ]
    },
    {
     "name": "stdout",
     "output_type": "stream",
     "text": [
      "Epoch 32, Average Training Loss: 0.2231\n",
      "Epoch 32, Validation AUC: 0.9377\n"
     ]
    },
    {
     "name": "stderr",
     "output_type": "stream",
     "text": [
      "Epoch 33: 100%|█████████████████████████████████████████████████████████████████████| 458/458 [00:02<00:00, 157.15it/s]\n"
     ]
    },
    {
     "name": "stdout",
     "output_type": "stream",
     "text": [
      "Epoch 33, Average Training Loss: 0.2186\n",
      "Epoch 33, Validation AUC: 0.9372\n",
      "Early stopping at epoch 33\n",
      "Best AUC: 0.9383 (Epoch 33)\n",
      "Training Fold 5...\n"
     ]
    },
    {
     "name": "stderr",
     "output_type": "stream",
     "text": [
      "Epoch 1: 100%|██████████████████████████████████████████████████████████████████████| 457/457 [00:03<00:00, 125.75it/s]\n"
     ]
    },
    {
     "name": "stdout",
     "output_type": "stream",
     "text": [
      "Epoch 1, Average Training Loss: 0.4378\n",
      "Epoch 1, Validation AUC: 0.8716\n"
     ]
    },
    {
     "name": "stderr",
     "output_type": "stream",
     "text": [
      "Epoch 2: 100%|██████████████████████████████████████████████████████████████████████| 457/457 [00:03<00:00, 131.69it/s]\n"
     ]
    },
    {
     "name": "stdout",
     "output_type": "stream",
     "text": [
      "Epoch 2, Average Training Loss: 0.3438\n",
      "Epoch 2, Validation AUC: 0.8925\n"
     ]
    },
    {
     "name": "stderr",
     "output_type": "stream",
     "text": [
      "Epoch 3: 100%|██████████████████████████████████████████████████████████████████████| 457/457 [00:03<00:00, 130.76it/s]\n"
     ]
    },
    {
     "name": "stdout",
     "output_type": "stream",
     "text": [
      "Epoch 3, Average Training Loss: 0.3251\n",
      "Epoch 3, Validation AUC: 0.9037\n"
     ]
    },
    {
     "name": "stderr",
     "output_type": "stream",
     "text": [
      "Epoch 4: 100%|██████████████████████████████████████████████████████████████████████| 457/457 [00:03<00:00, 130.41it/s]\n"
     ]
    },
    {
     "name": "stdout",
     "output_type": "stream",
     "text": [
      "Epoch 4, Average Training Loss: 0.3085\n",
      "Epoch 4, Validation AUC: 0.9073\n"
     ]
    },
    {
     "name": "stderr",
     "output_type": "stream",
     "text": [
      "Epoch 5: 100%|██████████████████████████████████████████████████████████████████████| 457/457 [00:03<00:00, 130.87it/s]\n"
     ]
    },
    {
     "name": "stdout",
     "output_type": "stream",
     "text": [
      "Epoch 5, Average Training Loss: 0.3007\n",
      "Epoch 5, Validation AUC: 0.9163\n"
     ]
    },
    {
     "name": "stderr",
     "output_type": "stream",
     "text": [
      "Epoch 6: 100%|██████████████████████████████████████████████████████████████████████| 457/457 [00:03<00:00, 131.21it/s]\n"
     ]
    },
    {
     "name": "stdout",
     "output_type": "stream",
     "text": [
      "Epoch 6, Average Training Loss: 0.2922\n",
      "Epoch 6, Validation AUC: 0.9200\n"
     ]
    },
    {
     "name": "stderr",
     "output_type": "stream",
     "text": [
      "Epoch 7: 100%|██████████████████████████████████████████████████████████████████████| 457/457 [00:03<00:00, 130.87it/s]\n"
     ]
    },
    {
     "name": "stdout",
     "output_type": "stream",
     "text": [
      "Epoch 7, Average Training Loss: 0.2864\n",
      "Epoch 7, Validation AUC: 0.9178\n"
     ]
    },
    {
     "name": "stderr",
     "output_type": "stream",
     "text": [
      "Epoch 8: 100%|██████████████████████████████████████████████████████████████████████| 457/457 [00:03<00:00, 130.31it/s]\n"
     ]
    },
    {
     "name": "stdout",
     "output_type": "stream",
     "text": [
      "Epoch 8, Average Training Loss: 0.2800\n",
      "Epoch 8, Validation AUC: 0.9230\n"
     ]
    },
    {
     "name": "stderr",
     "output_type": "stream",
     "text": [
      "Epoch 9: 100%|██████████████████████████████████████████████████████████████████████| 457/457 [00:03<00:00, 131.00it/s]\n"
     ]
    },
    {
     "name": "stdout",
     "output_type": "stream",
     "text": [
      "Epoch 9, Average Training Loss: 0.2748\n",
      "Epoch 9, Validation AUC: 0.9256\n"
     ]
    },
    {
     "name": "stderr",
     "output_type": "stream",
     "text": [
      "Epoch 10: 100%|█████████████████████████████████████████████████████████████████████| 457/457 [00:03<00:00, 131.12it/s]\n"
     ]
    },
    {
     "name": "stdout",
     "output_type": "stream",
     "text": [
      "Epoch 10, Average Training Loss: 0.2701\n",
      "Epoch 10, Validation AUC: 0.9259\n"
     ]
    },
    {
     "name": "stderr",
     "output_type": "stream",
     "text": [
      "Epoch 11: 100%|█████████████████████████████████████████████████████████████████████| 457/457 [00:03<00:00, 130.43it/s]\n"
     ]
    },
    {
     "name": "stdout",
     "output_type": "stream",
     "text": [
      "Epoch 11, Average Training Loss: 0.2684\n",
      "Epoch 11, Validation AUC: 0.9270\n"
     ]
    },
    {
     "name": "stderr",
     "output_type": "stream",
     "text": [
      "Epoch 12: 100%|█████████████████████████████████████████████████████████████████████| 457/457 [00:03<00:00, 130.60it/s]\n"
     ]
    },
    {
     "name": "stdout",
     "output_type": "stream",
     "text": [
      "Epoch 12, Average Training Loss: 0.2631\n",
      "Epoch 12, Validation AUC: 0.9286\n"
     ]
    },
    {
     "name": "stderr",
     "output_type": "stream",
     "text": [
      "Epoch 13: 100%|█████████████████████████████████████████████████████████████████████| 457/457 [00:03<00:00, 131.20it/s]\n"
     ]
    },
    {
     "name": "stdout",
     "output_type": "stream",
     "text": [
      "Epoch 13, Average Training Loss: 0.2613\n",
      "Epoch 13, Validation AUC: 0.9317\n"
     ]
    },
    {
     "name": "stderr",
     "output_type": "stream",
     "text": [
      "Epoch 14: 100%|█████████████████████████████████████████████████████████████████████| 457/457 [00:03<00:00, 131.36it/s]\n"
     ]
    },
    {
     "name": "stdout",
     "output_type": "stream",
     "text": [
      "Epoch 14, Average Training Loss: 0.2561\n",
      "Epoch 14, Validation AUC: 0.9296\n"
     ]
    },
    {
     "name": "stderr",
     "output_type": "stream",
     "text": [
      "Epoch 15: 100%|█████████████████████████████████████████████████████████████████████| 457/457 [00:03<00:00, 131.09it/s]\n"
     ]
    },
    {
     "name": "stdout",
     "output_type": "stream",
     "text": [
      "Epoch 15, Average Training Loss: 0.2553\n",
      "Epoch 15, Validation AUC: 0.9324\n"
     ]
    },
    {
     "name": "stderr",
     "output_type": "stream",
     "text": [
      "Epoch 16: 100%|█████████████████████████████████████████████████████████████████████| 457/457 [00:03<00:00, 130.42it/s]\n"
     ]
    },
    {
     "name": "stdout",
     "output_type": "stream",
     "text": [
      "Epoch 16, Average Training Loss: 0.2528\n",
      "Epoch 16, Validation AUC: 0.9294\n"
     ]
    },
    {
     "name": "stderr",
     "output_type": "stream",
     "text": [
      "Epoch 17: 100%|█████████████████████████████████████████████████████████████████████| 457/457 [00:03<00:00, 130.82it/s]\n"
     ]
    },
    {
     "name": "stdout",
     "output_type": "stream",
     "text": [
      "Epoch 17, Average Training Loss: 0.2481\n",
      "Epoch 17, Validation AUC: 0.9323\n"
     ]
    },
    {
     "name": "stderr",
     "output_type": "stream",
     "text": [
      "Epoch 18: 100%|█████████████████████████████████████████████████████████████████████| 457/457 [00:03<00:00, 131.64it/s]\n"
     ]
    },
    {
     "name": "stdout",
     "output_type": "stream",
     "text": [
      "Epoch 18, Average Training Loss: 0.2463\n",
      "Epoch 18, Validation AUC: 0.9328\n"
     ]
    },
    {
     "name": "stderr",
     "output_type": "stream",
     "text": [
      "Epoch 19: 100%|█████████████████████████████████████████████████████████████████████| 457/457 [00:03<00:00, 130.85it/s]\n"
     ]
    },
    {
     "name": "stdout",
     "output_type": "stream",
     "text": [
      "Epoch 19, Average Training Loss: 0.2438\n",
      "Epoch 19, Validation AUC: 0.9318\n"
     ]
    },
    {
     "name": "stderr",
     "output_type": "stream",
     "text": [
      "Epoch 20: 100%|█████████████████████████████████████████████████████████████████████| 457/457 [00:03<00:00, 131.43it/s]\n"
     ]
    },
    {
     "name": "stdout",
     "output_type": "stream",
     "text": [
      "Epoch 20, Average Training Loss: 0.2412\n",
      "Epoch 20, Validation AUC: 0.9336\n"
     ]
    },
    {
     "name": "stderr",
     "output_type": "stream",
     "text": [
      "Epoch 21: 100%|█████████████████████████████████████████████████████████████████████| 457/457 [00:03<00:00, 131.04it/s]\n"
     ]
    },
    {
     "name": "stdout",
     "output_type": "stream",
     "text": [
      "Epoch 21, Average Training Loss: 0.2391\n",
      "Epoch 21, Validation AUC: 0.9336\n"
     ]
    },
    {
     "name": "stderr",
     "output_type": "stream",
     "text": [
      "Epoch 22: 100%|█████████████████████████████████████████████████████████████████████| 457/457 [00:03<00:00, 130.48it/s]\n"
     ]
    },
    {
     "name": "stdout",
     "output_type": "stream",
     "text": [
      "Epoch 22, Average Training Loss: 0.2371\n",
      "Epoch 22, Validation AUC: 0.9341\n"
     ]
    },
    {
     "name": "stderr",
     "output_type": "stream",
     "text": [
      "Epoch 23: 100%|█████████████████████████████████████████████████████████████████████| 457/457 [00:03<00:00, 131.37it/s]\n"
     ]
    },
    {
     "name": "stdout",
     "output_type": "stream",
     "text": [
      "Epoch 23, Average Training Loss: 0.2347\n",
      "Epoch 23, Validation AUC: 0.9340\n"
     ]
    },
    {
     "name": "stderr",
     "output_type": "stream",
     "text": [
      "Epoch 24: 100%|█████████████████████████████████████████████████████████████████████| 457/457 [00:03<00:00, 130.65it/s]\n"
     ]
    },
    {
     "name": "stdout",
     "output_type": "stream",
     "text": [
      "Epoch 24, Average Training Loss: 0.2344\n",
      "Epoch 24, Validation AUC: 0.9348\n"
     ]
    },
    {
     "name": "stderr",
     "output_type": "stream",
     "text": [
      "Epoch 25: 100%|█████████████████████████████████████████████████████████████████████| 457/457 [00:03<00:00, 131.85it/s]\n"
     ]
    },
    {
     "name": "stdout",
     "output_type": "stream",
     "text": [
      "Epoch 25, Average Training Loss: 0.2309\n",
      "Epoch 25, Validation AUC: 0.9331\n"
     ]
    },
    {
     "name": "stderr",
     "output_type": "stream",
     "text": [
      "Epoch 26: 100%|█████████████████████████████████████████████████████████████████████| 457/457 [00:03<00:00, 131.44it/s]\n"
     ]
    },
    {
     "name": "stdout",
     "output_type": "stream",
     "text": [
      "Epoch 26, Average Training Loss: 0.2289\n",
      "Epoch 26, Validation AUC: 0.9357\n"
     ]
    },
    {
     "name": "stderr",
     "output_type": "stream",
     "text": [
      "Epoch 27: 100%|█████████████████████████████████████████████████████████████████████| 457/457 [00:03<00:00, 131.23it/s]\n"
     ]
    },
    {
     "name": "stdout",
     "output_type": "stream",
     "text": [
      "Epoch 27, Average Training Loss: 0.2301\n",
      "Epoch 27, Validation AUC: 0.9339\n"
     ]
    },
    {
     "name": "stderr",
     "output_type": "stream",
     "text": [
      "Epoch 28: 100%|█████████████████████████████████████████████████████████████████████| 457/457 [00:03<00:00, 131.65it/s]\n"
     ]
    },
    {
     "name": "stdout",
     "output_type": "stream",
     "text": [
      "Epoch 28, Average Training Loss: 0.2278\n",
      "Epoch 28, Validation AUC: 0.9333\n"
     ]
    },
    {
     "name": "stderr",
     "output_type": "stream",
     "text": [
      "Epoch 29: 100%|█████████████████████████████████████████████████████████████████████| 457/457 [00:03<00:00, 131.41it/s]\n"
     ]
    },
    {
     "name": "stdout",
     "output_type": "stream",
     "text": [
      "Epoch 29, Average Training Loss: 0.2244\n",
      "Epoch 29, Validation AUC: 0.9330\n"
     ]
    },
    {
     "name": "stderr",
     "output_type": "stream",
     "text": [
      "Epoch 30: 100%|█████████████████████████████████████████████████████████████████████| 457/457 [00:03<00:00, 131.27it/s]\n"
     ]
    },
    {
     "name": "stdout",
     "output_type": "stream",
     "text": [
      "Epoch 30, Average Training Loss: 0.2229\n",
      "Epoch 30, Validation AUC: 0.9346\n"
     ]
    },
    {
     "name": "stderr",
     "output_type": "stream",
     "text": [
      "Epoch 31: 100%|█████████████████████████████████████████████████████████████████████| 457/457 [00:03<00:00, 131.90it/s]\n"
     ]
    },
    {
     "name": "stdout",
     "output_type": "stream",
     "text": [
      "Epoch 31, Average Training Loss: 0.2207\n",
      "Epoch 31, Validation AUC: 0.9344\n",
      "Early stopping at epoch 31\n",
      "Best AUC: 0.9357 (Epoch 31)\n"
     ]
    },
    {
     "data": {
      "image/png": "[encoded data removed]",
      "text/plain": [
       "<Figure size 800x600 with 1 Axes>"
      ]
     },
     "metadata": {},
     "output_type": "display_data"
    }
   ],
   "source": [
    "# 폴드 별 학습 및 평가\n",
    "for fold, (train_idx, val_idx) in enumerate(skf.split(X_train, y_train_encoded)):\n",
    "    print(f\"Training Fold {fold + 1}...\")\n",
    "    \n",
    "    # model, optimizer, loss function 초기화\n",
    "    model = CNN1D(num_classes).to(device)\n",
    "    optimizer = optim.Adam(model.parameters(), lr=learning_rate)\n",
    "    criterion = nn.BCELoss()  # Since we are using sigmoid activation in the model\n",
    "\n",
    "    # 현재 폴드에 대한 데이터 로더 재정의\n",
    "    train_loader = DataLoader(TensorDataset(X_train[train_idx].to(device).float(), y_train_tensor[train_idx].to(device).float()), batch_size=batch_size, shuffle=True)\n",
    "    val_loader = DataLoader(TensorDataset(X_train[val_idx].to(device).float(), y_train_tensor[val_idx].to(device).float()), batch_size=batch_size, shuffle=False)\n",
    "\n",
    "    best_auc = 0.0\n",
    "    no_improvement_epochs = 0\n",
    "    \n",
    "    # tqdm을 통해 학습 과정 표시\n",
    "    for epoch in range(epochs):\n",
    "        model.train()\n",
    "        train_loss = 0.0\n",
    "        for batch_x, batch_y in tqdm(train_loader, desc=f\"Epoch {epoch + 1}\"):\n",
    "            optimizer.zero_grad()\n",
    "            output = model(batch_x)\n",
    "            loss = criterion(output, batch_y)\n",
    "            loss.backward()\n",
    "            optimizer.step()\n",
    "            train_loss += loss.item() * batch_x.size(0)\n",
    "        average_train_loss = train_loss / len(train_loader.dataset)\n",
    "        print(f\"Epoch {epoch + 1}, Average Training Loss: {average_train_loss:.4f}\")\n",
    "\n",
    "        # Validation set evaluation\n",
    "        model.eval()\n",
    "        y_scores = []\n",
    "        y_true = []\n",
    "        with torch.no_grad():\n",
    "            with torch.cuda.amp.autocast():\n",
    "                for batch_x, batch_y in val_loader:\n",
    "                    output = model(batch_x)\n",
    "                    output = nn.functional.sigmoid(output)\n",
    "                    y_scores.append(output.cpu().numpy())\n",
    "                    y_true.append(batch_y.cpu().numpy())\n",
    "\n",
    "        y_scores = np.vstack(y_scores)\n",
    "        y_true = np.vstack(y_true)\n",
    "        \n",
    "        # 각 label 별로 ROC curve 계산\n",
    "        fpr = dict()\n",
    "        tpr = dict()\n",
    "        roc_auc = dict()\n",
    "        for i in range(num_classes):\n",
    "            fpr[i], tpr[i], _ = roc_curve(y_true[:, i], y_scores[:, i])\n",
    "            roc_auc[i] = auc(fpr[i], tpr[i])\n",
    "            all_fpr.append(fpr[i])\n",
    "            all_tpr.append(tpr[i])\n",
    "\n",
    "        # validation set에 대한 AUC score 계산\n",
    "        auc_score = roc_auc_score(y_true, y_scores)\n",
    "\n",
    "        print(f\"Epoch {epoch + 1}, Validation AUC: {auc_score:.4f}\")\n",
    "\n",
    "        # AUC score 확인 후 갱신\n",
    "        if auc_score > best_auc:\n",
    "            best_auc = auc_score\n",
    "            no_improvement_epochs = 0\n",
    "        else:\n",
    "            # Early stopping 확인\n",
    "            no_improvement_epochs += 1\n",
    "            if no_improvement_epochs >= patience:\n",
    "                print(f\"Early stopping at epoch {epoch + 1}\")\n",
    "                break\n",
    "\n",
    "    print(f\"Best AUC: {best_auc:.4f} (Epoch {epoch + 1})\")\n",
    "\n",
    "# 각 label 별로 ROC curve를 plot\n",
    "plt.figure(figsize=(8, 6))\n",
    "for i in range(num_classes):\n",
    "    plt.plot(all_fpr[i], all_tpr[i], lw=1, label=f'Class {i} (AUC = {roc_auc[i]:.2f})')\n",
    "\n",
    "# Micro-average ROC curve 계산 및 plot\n",
    "micro_fpr, micro_tpr, _ = roc_curve(y_true.ravel(), y_scores.ravel())\n",
    "micro_auc = auc(micro_fpr, micro_tpr)\n",
    "plt.plot(micro_fpr, micro_tpr, color='red', linestyle='--', lw=2, label=f'Micro-average ROC (AUC = {micro_auc:.2f})')\n",
    "\n",
    "# Labels 과 legend 추가\n",
    "plt.xlabel('False Positive Rate')\n",
    "plt.ylabel('True Positive Rate')\n",
    "plt.title('ROC Curve for Validation Data (Multi-label Classification)')\n",
    "plt.legend(loc='lower right')\n",
    "plt.show()"
   ]
  },
  {
   "cell_type": "code",
   "execution_count": 7,
   "metadata": {
    "scrolled": false
   },
   "outputs": [
    {
     "data": {
      "image/png": "[encoded data removed]",
      "text/plain": [
       "<Figure size 800x600 with 1 Axes>"
      ]
     },
     "metadata": {},
     "output_type": "display_data"
    }
   ],
   "source": [
    "# 테스트 데이터 로더 정의\n",
    "test_loader = DataLoader(TensorDataset(X_test.to(device).float(), y_test_tensor.to(device).float()), batch_size=batch_size, shuffle=False)\n",
    "\n",
    "# 테스트 데이터에 대한 예측 확률 계산\n",
    "model.eval()\n",
    "y_scores_test = []\n",
    "y_true_test = []\n",
    "\n",
    "with torch.no_grad():\n",
    "    for batch_x, batch_y in test_loader:\n",
    "        output = model(batch_x)\n",
    "        y_scores_test.append(output.cpu().numpy())\n",
    "        y_true_test.append(batch_y.cpu().numpy())\n",
    "\n",
    "y_scores_test = np.vstack(y_scores_test)\n",
    "y_true_test = np.vstack(y_true_test)\n",
    "\n",
    "# 각 label 별로 ROC curve 계산\n",
    "fpr_test = dict()\n",
    "tpr_test = dict()\n",
    "roc_auc_test = dict()\n",
    "\n",
    "for i in range(num_classes):\n",
    "    fpr_test[i], tpr_test[i], _ = roc_curve(y_true_test[:, i], y_scores_test[:, i])\n",
    "    roc_auc_test[i] = auc(fpr_test[i], tpr_test[i])\n",
    "\n",
    "# 테스트 데이터에 대한 ROC curve를 plot\n",
    "plt.figure(figsize=(8, 6))\n",
    "for i in range(num_classes):\n",
    "    plt.plot(fpr_test[i], tpr_test[i], lw=1, label=f'Class {i} (AUC = {roc_auc_test[i]:.2f})')\n",
    "\n",
    "# Test 데이터 전체에 대한 Micro-average ROC curve 계산 및 plot\n",
    "micro_fpr_test, micro_tpr_test, _ = roc_curve(y_true_test.ravel(), y_scores_test.ravel())\n",
    "micro_auc_test = auc(micro_fpr_test, micro_tpr_test)\n",
    "plt.plot(micro_fpr_test, micro_tpr_test, color='red', linestyle='--', lw=2, label=f'Micro-average ROC (AUC = {micro_auc_test:.2f})')\n",
    "\n",
    "# Labels 과 legend 추가\n",
    "plt.xlabel('False Positive Rate')\n",
    "plt.ylabel('True Positive Rate')\n",
    "plt.title('ROC Curve for Test Data (Multi-label Classification)')\n",
    "plt.legend(loc='lower right')\n",
    "plt.show()"
   ]
  },
  {
   "cell_type": "code",
   "execution_count": 8,
   "metadata": {},
   "outputs": [
    {
     "name": "stdout",
     "output_type": "stream",
     "text": [
      "Training Fold 1...\n"
     ]
    },
    {
     "name": "stderr",
     "output_type": "stream",
     "text": [
      "C:\\Users\\ajmok\\anaconda3\\Lib\\site-packages\\torch\\ao\\quantization\\observer.py:214: UserWarning: Please use quant_min and quant_max to specify the range for observers.                     reduce_range will be deprecated in a future release of PyTorch.\n",
      "  warnings.warn(\n",
      "Epoch 1: 100%|███████████████████████████████████████████████████████████████████████| 458/458 [01:41<00:00,  4.51it/s]\n"
     ]
    },
    {
     "name": "stdout",
     "output_type": "stream",
     "text": [
      "Epoch 1, Average Training Loss: 0.5404\n",
      "Epoch 1, Validation AUC: 0.7763\n"
     ]
    },
    {
     "name": "stderr",
     "output_type": "stream",
     "text": [
      "Epoch 2: 100%|███████████████████████████████████████████████████████████████████████| 458/458 [01:52<00:00,  4.06it/s]\n"
     ]
    },
    {
     "name": "stdout",
     "output_type": "stream",
     "text": [
      "Epoch 2, Average Training Loss: 0.5952\n",
      "Epoch 2, Validation AUC: 0.6029\n"
     ]
    },
    {
     "name": "stderr",
     "output_type": "stream",
     "text": [
      "Epoch 3: 100%|███████████████████████████████████████████████████████████████████████| 458/458 [01:59<00:00,  3.82it/s]\n"
     ]
    },
    {
     "name": "stdout",
     "output_type": "stream",
     "text": [
      "Epoch 3, Average Training Loss: 0.7745\n",
      "Epoch 3, Validation AUC: 0.7311\n"
     ]
    },
    {
     "name": "stderr",
     "output_type": "stream",
     "text": [
      "Epoch 4: 100%|███████████████████████████████████████████████████████████████████████| 458/458 [02:04<00:00,  3.68it/s]\n"
     ]
    },
    {
     "name": "stdout",
     "output_type": "stream",
     "text": [
      "Epoch 4, Average Training Loss: 0.6677\n",
      "Epoch 4, Validation AUC: 0.6997\n"
     ]
    },
    {
     "name": "stderr",
     "output_type": "stream",
     "text": [
      "Epoch 5: 100%|███████████████████████████████████████████████████████████████████████| 458/458 [02:03<00:00,  3.72it/s]\n"
     ]
    },
    {
     "name": "stdout",
     "output_type": "stream",
     "text": [
      "Epoch 5, Average Training Loss: 0.8948\n",
      "Epoch 5, Validation AUC: 0.6389\n"
     ]
    },
    {
     "name": "stderr",
     "output_type": "stream",
     "text": [
      "Epoch 6: 100%|███████████████████████████████████████████████████████████████████████| 458/458 [02:10<00:00,  3.51it/s]\n"
     ]
    },
    {
     "name": "stdout",
     "output_type": "stream",
     "text": [
      "Epoch 6, Average Training Loss: 3.1218\n",
      "Epoch 6, Validation AUC: 0.5120\n",
      "Early stopping at epoch 6\n",
      "Best AUC: 0.7763 (Epoch 6)\n",
      "Training Fold 2...\n"
     ]
    },
    {
     "name": "stderr",
     "output_type": "stream",
     "text": [
      "C:\\Users\\ajmok\\anaconda3\\Lib\\site-packages\\torch\\ao\\quantization\\observer.py:214: UserWarning: Please use quant_min and quant_max to specify the range for observers.                     reduce_range will be deprecated in a future release of PyTorch.\n",
      "  warnings.warn(\n",
      "Epoch 1: 100%|███████████████████████████████████████████████████████████████████████| 457/457 [01:57<00:00,  3.89it/s]\n"
     ]
    },
    {
     "name": "stdout",
     "output_type": "stream",
     "text": [
      "Epoch 1, Average Training Loss: 0.5540\n",
      "Epoch 1, Validation AUC: 0.4203\n"
     ]
    },
    {
     "name": "stderr",
     "output_type": "stream",
     "text": [
      "Epoch 2: 100%|███████████████████████████████████████████████████████████████████████| 457/457 [01:59<00:00,  3.83it/s]\n"
     ]
    },
    {
     "name": "stdout",
     "output_type": "stream",
     "text": [
      "Epoch 2, Average Training Loss: 0.5271\n",
      "Epoch 2, Validation AUC: 0.7906\n"
     ]
    },
    {
     "name": "stderr",
     "output_type": "stream",
     "text": [
      "Epoch 3: 100%|███████████████████████████████████████████████████████████████████████| 457/457 [02:00<00:00,  3.79it/s]\n"
     ]
    },
    {
     "name": "stdout",
     "output_type": "stream",
     "text": [
      "Epoch 3, Average Training Loss: 0.5208\n",
      "Epoch 3, Validation AUC: 0.7040\n"
     ]
    },
    {
     "name": "stderr",
     "output_type": "stream",
     "text": [
      "Epoch 4: 100%|███████████████████████████████████████████████████████████████████████| 457/457 [02:01<00:00,  3.77it/s]\n"
     ]
    },
    {
     "name": "stdout",
     "output_type": "stream",
     "text": [
      "Epoch 4, Average Training Loss: 0.5595\n",
      "Epoch 4, Validation AUC: 0.7206\n"
     ]
    },
    {
     "name": "stderr",
     "output_type": "stream",
     "text": [
      "Epoch 5: 100%|███████████████████████████████████████████████████████████████████████| 457/457 [02:01<00:00,  3.76it/s]\n"
     ]
    },
    {
     "name": "stdout",
     "output_type": "stream",
     "text": [
      "Epoch 5, Average Training Loss: 0.5382\n",
      "Epoch 5, Validation AUC: 0.6538\n"
     ]
    },
    {
     "name": "stderr",
     "output_type": "stream",
     "text": [
      "Epoch 6: 100%|███████████████████████████████████████████████████████████████████████| 457/457 [02:00<00:00,  3.80it/s]\n"
     ]
    },
    {
     "name": "stdout",
     "output_type": "stream",
     "text": [
      "Epoch 6, Average Training Loss: 0.5402\n",
      "Epoch 6, Validation AUC: 0.5164\n"
     ]
    },
    {
     "name": "stderr",
     "output_type": "stream",
     "text": [
      "Epoch 7: 100%|███████████████████████████████████████████████████████████████████████| 457/457 [02:01<00:00,  3.76it/s]\n"
     ]
    },
    {
     "name": "stdout",
     "output_type": "stream",
     "text": [
      "Epoch 7, Average Training Loss: 0.5530\n",
      "Epoch 7, Validation AUC: 0.6914\n",
      "Early stopping at epoch 7\n",
      "Best AUC: 0.7906 (Epoch 7)\n",
      "Training Fold 3...\n"
     ]
    },
    {
     "name": "stderr",
     "output_type": "stream",
     "text": [
      "C:\\Users\\ajmok\\anaconda3\\Lib\\site-packages\\torch\\ao\\quantization\\observer.py:214: UserWarning: Please use quant_min and quant_max to specify the range for observers.                     reduce_range will be deprecated in a future release of PyTorch.\n",
      "  warnings.warn(\n",
      "Epoch 1: 100%|███████████████████████████████████████████████████████████████████████| 457/457 [01:57<00:00,  3.89it/s]\n"
     ]
    },
    {
     "name": "stdout",
     "output_type": "stream",
     "text": [
      "Epoch 1, Average Training Loss: 0.5144\n",
      "Epoch 1, Validation AUC: 0.8428\n"
     ]
    },
    {
     "name": "stderr",
     "output_type": "stream",
     "text": [
      "Epoch 2: 100%|███████████████████████████████████████████████████████████████████████| 457/457 [01:58<00:00,  3.85it/s]\n"
     ]
    },
    {
     "name": "stdout",
     "output_type": "stream",
     "text": [
      "Epoch 2, Average Training Loss: 0.5346\n",
      "Epoch 2, Validation AUC: 0.8050\n"
     ]
    },
    {
     "name": "stderr",
     "output_type": "stream",
     "text": [
      "Epoch 3: 100%|███████████████████████████████████████████████████████████████████████| 457/457 [02:01<00:00,  3.76it/s]\n"
     ]
    },
    {
     "name": "stdout",
     "output_type": "stream",
     "text": [
      "Epoch 3, Average Training Loss: 0.5517\n",
      "Epoch 3, Validation AUC: 0.7067\n"
     ]
    },
    {
     "name": "stderr",
     "output_type": "stream",
     "text": [
      "Epoch 4: 100%|███████████████████████████████████████████████████████████████████████| 457/457 [02:01<00:00,  3.77it/s]\n"
     ]
    },
    {
     "name": "stdout",
     "output_type": "stream",
     "text": [
      "Epoch 4, Average Training Loss: 0.5263\n",
      "Epoch 4, Validation AUC: 0.7527\n"
     ]
    },
    {
     "name": "stderr",
     "output_type": "stream",
     "text": [
      "Epoch 5: 100%|███████████████████████████████████████████████████████████████████████| 457/457 [02:01<00:00,  3.75it/s]\n"
     ]
    },
    {
     "name": "stdout",
     "output_type": "stream",
     "text": [
      "Epoch 5, Average Training Loss: 0.6335\n",
      "Epoch 5, Validation AUC: 0.7094\n"
     ]
    },
    {
     "name": "stderr",
     "output_type": "stream",
     "text": [
      "Epoch 6: 100%|███████████████████████████████████████████████████████████████████████| 457/457 [02:01<00:00,  3.77it/s]\n"
     ]
    },
    {
     "name": "stdout",
     "output_type": "stream",
     "text": [
      "Epoch 6, Average Training Loss: 2.2616\n",
      "Epoch 6, Validation AUC: 0.5279\n",
      "Early stopping at epoch 6\n",
      "Best AUC: 0.8428 (Epoch 6)\n",
      "Training Fold 4...\n"
     ]
    },
    {
     "name": "stderr",
     "output_type": "stream",
     "text": [
      "C:\\Users\\ajmok\\anaconda3\\Lib\\site-packages\\torch\\ao\\quantization\\observer.py:214: UserWarning: Please use quant_min and quant_max to specify the range for observers.                     reduce_range will be deprecated in a future release of PyTorch.\n",
      "  warnings.warn(\n",
      "Epoch 1: 100%|███████████████████████████████████████████████████████████████████████| 458/458 [01:57<00:00,  3.90it/s]\n"
     ]
    },
    {
     "name": "stdout",
     "output_type": "stream",
     "text": [
      "Epoch 1, Average Training Loss: 0.5190\n",
      "Epoch 1, Validation AUC: 0.8029\n"
     ]
    },
    {
     "name": "stderr",
     "output_type": "stream",
     "text": [
      "Epoch 2: 100%|███████████████████████████████████████████████████████████████████████| 458/458 [01:59<00:00,  3.85it/s]\n"
     ]
    },
    {
     "name": "stdout",
     "output_type": "stream",
     "text": [
      "Epoch 2, Average Training Loss: 0.5024\n",
      "Epoch 2, Validation AUC: 0.5824\n"
     ]
    },
    {
     "name": "stderr",
     "output_type": "stream",
     "text": [
      "Epoch 3: 100%|███████████████████████████████████████████████████████████████████████| 458/458 [02:01<00:00,  3.78it/s]\n"
     ]
    },
    {
     "name": "stdout",
     "output_type": "stream",
     "text": [
      "Epoch 3, Average Training Loss: 0.5587\n",
      "Epoch 3, Validation AUC: 0.6028\n"
     ]
    },
    {
     "name": "stderr",
     "output_type": "stream",
     "text": [
      "Epoch 4: 100%|███████████████████████████████████████████████████████████████████████| 458/458 [02:02<00:00,  3.75it/s]\n"
     ]
    },
    {
     "name": "stdout",
     "output_type": "stream",
     "text": [
      "Epoch 4, Average Training Loss: 0.6552\n",
      "Epoch 4, Validation AUC: 0.6304\n"
     ]
    },
    {
     "name": "stderr",
     "output_type": "stream",
     "text": [
      "Epoch 5: 100%|███████████████████████████████████████████████████████████████████████| 458/458 [02:01<00:00,  3.76it/s]\n"
     ]
    },
    {
     "name": "stdout",
     "output_type": "stream",
     "text": [
      "Epoch 5, Average Training Loss: 0.4719\n",
      "Epoch 5, Validation AUC: 0.8091\n"
     ]
    },
    {
     "name": "stderr",
     "output_type": "stream",
     "text": [
      "Epoch 6: 100%|███████████████████████████████████████████████████████████████████████| 458/458 [02:02<00:00,  3.73it/s]\n"
     ]
    },
    {
     "name": "stdout",
     "output_type": "stream",
     "text": [
      "Epoch 6, Average Training Loss: 0.4799\n",
      "Epoch 6, Validation AUC: 0.7800\n"
     ]
    },
    {
     "name": "stderr",
     "output_type": "stream",
     "text": [
      "Epoch 7: 100%|███████████████████████████████████████████████████████████████████████| 458/458 [02:02<00:00,  3.73it/s]\n"
     ]
    },
    {
     "name": "stdout",
     "output_type": "stream",
     "text": [
      "Epoch 7, Average Training Loss: 0.6136\n",
      "Epoch 7, Validation AUC: 0.6711\n"
     ]
    },
    {
     "name": "stderr",
     "output_type": "stream",
     "text": [
      "Epoch 8: 100%|███████████████████████████████████████████████████████████████████████| 458/458 [02:01<00:00,  3.78it/s]\n"
     ]
    },
    {
     "name": "stdout",
     "output_type": "stream",
     "text": [
      "Epoch 8, Average Training Loss: 0.5647\n",
      "Epoch 8, Validation AUC: 0.6659\n"
     ]
    },
    {
     "name": "stderr",
     "output_type": "stream",
     "text": [
      "Epoch 9: 100%|███████████████████████████████████████████████████████████████████████| 458/458 [02:01<00:00,  3.76it/s]\n"
     ]
    },
    {
     "name": "stdout",
     "output_type": "stream",
     "text": [
      "Epoch 9, Average Training Loss: 0.5350\n",
      "Epoch 9, Validation AUC: 0.7128\n"
     ]
    },
    {
     "name": "stderr",
     "output_type": "stream",
     "text": [
      "Epoch 10: 100%|██████████████████████████████████████████████████████████████████████| 458/458 [02:02<00:00,  3.73it/s]\n"
     ]
    },
    {
     "name": "stdout",
     "output_type": "stream",
     "text": [
      "Epoch 10, Average Training Loss: 0.6027\n",
      "Epoch 10, Validation AUC: 0.6866\n",
      "Early stopping at epoch 10\n",
      "Best AUC: 0.8091 (Epoch 10)\n",
      "Training Fold 5...\n"
     ]
    },
    {
     "name": "stderr",
     "output_type": "stream",
     "text": [
      "C:\\Users\\ajmok\\anaconda3\\Lib\\site-packages\\torch\\ao\\quantization\\observer.py:214: UserWarning: Please use quant_min and quant_max to specify the range for observers.                     reduce_range will be deprecated in a future release of PyTorch.\n",
      "  warnings.warn(\n",
      "Epoch 1: 100%|███████████████████████████████████████████████████████████████████████| 457/457 [01:58<00:00,  3.86it/s]\n"
     ]
    },
    {
     "name": "stdout",
     "output_type": "stream",
     "text": [
      "Epoch 1, Average Training Loss: 0.5222\n",
      "Epoch 1, Validation AUC: 0.8123\n"
     ]
    },
    {
     "name": "stderr",
     "output_type": "stream",
     "text": [
      "Epoch 2: 100%|███████████████████████████████████████████████████████████████████████| 457/457 [01:59<00:00,  3.81it/s]\n"
     ]
    },
    {
     "name": "stdout",
     "output_type": "stream",
     "text": [
      "Epoch 2, Average Training Loss: 0.5513\n",
      "Epoch 2, Validation AUC: 0.6155\n"
     ]
    },
    {
     "name": "stderr",
     "output_type": "stream",
     "text": [
      "Epoch 3: 100%|███████████████████████████████████████████████████████████████████████| 457/457 [02:02<00:00,  3.72it/s]\n"
     ]
    },
    {
     "name": "stdout",
     "output_type": "stream",
     "text": [
      "Epoch 3, Average Training Loss: 0.6115\n",
      "Epoch 3, Validation AUC: 0.6322\n"
     ]
    },
    {
     "name": "stderr",
     "output_type": "stream",
     "text": [
      "Epoch 4: 100%|███████████████████████████████████████████████████████████████████████| 457/457 [02:03<00:00,  3.71it/s]\n"
     ]
    },
    {
     "name": "stdout",
     "output_type": "stream",
     "text": [
      "Epoch 4, Average Training Loss: 1.2603\n",
      "Epoch 4, Validation AUC: 0.6897\n"
     ]
    },
    {
     "name": "stderr",
     "output_type": "stream",
     "text": [
      "Epoch 5: 100%|███████████████████████████████████████████████████████████████████████| 457/457 [02:02<00:00,  3.74it/s]\n"
     ]
    },
    {
     "name": "stdout",
     "output_type": "stream",
     "text": [
      "Epoch 5, Average Training Loss: 1.0916\n",
      "Epoch 5, Validation AUC: 0.5147\n"
     ]
    },
    {
     "name": "stderr",
     "output_type": "stream",
     "text": [
      "Epoch 6: 100%|███████████████████████████████████████████████████████████████████████| 457/457 [02:01<00:00,  3.77it/s]\n"
     ]
    },
    {
     "name": "stdout",
     "output_type": "stream",
     "text": [
      "Epoch 6, Average Training Loss: 2.2111\n",
      "Epoch 6, Validation AUC: 0.5835\n",
      "Early stopping at epoch 6\n",
      "Best AUC: 0.8123 (Epoch 6)\n"
     ]
    },
    {
     "data": {
      "image/png": "[encoded data removed]",
      "text/plain": [
       "<Figure size 800x600 with 1 Axes>"
      ]
     },
     "metadata": {},
     "output_type": "display_data"
    }
   ],
   "source": [
    "import torch.quantization\n",
    "from torch.quantization import QuantStub, DeQuantStub\n",
    "\n",
    "class QuantizedCNN1D(nn.Module):\n",
    "    def __init__(self, num_classes):\n",
    "        super(QuantizedCNN1D, self).__init__()\n",
    "        self.quant = QuantStub()\n",
    "        self.dequant = DeQuantStub()\n",
    "        self.model = CNN1D(num_classes)\n",
    "\n",
    "    def forward(self, x):\n",
    "        x = self.quant(x)\n",
    "        x = self.model(x)\n",
    "        x = self.dequant(x)\n",
    "        return x\n",
    "\n",
    "# Hyperparameters\n",
    "num_classes = len(all_labels)\n",
    "batch_size = 64\n",
    "epochs = 30\n",
    "learning_rate = 0.001\n",
    "k_folds = 5\n",
    "\n",
    "# K-Fold cross-validation initialization\n",
    "skf = MultilabelStratifiedKFold(n_splits=k_folds, shuffle=True, random_state=42)\n",
    "\n",
    "# ROC data lists for each label for all folds\n",
    "all_fpr = []\n",
    "all_tpr = []\n",
    "\n",
    "# Early stopping parameters\n",
    "patience = 5\n",
    "\n",
    "device = 'cpu'\n",
    "\n",
    "# Training and evaluation for each fold\n",
    "for fold, (train_idx, val_idx) in enumerate(skf.split(X_train, y_train_encoded)):\n",
    "    print(f\"Training Fold {fold + 1}...\")\n",
    "    \n",
    "    # Initialize the model, optimizer, and loss function\n",
    "    Quantized_model = QuantizedCNN1D(num_classes).to(device)\n",
    "    Quantized_model.qconfig = torch.quantization.get_default_qat_qconfig('fbgemm')\n",
    "    torch.quantization.prepare_qat(Quantized_model, inplace=True)\n",
    "    \n",
    "    optimizer = optim.Adam(Quantized_model.parameters(), lr=learning_rate)\n",
    "    criterion = nn.BCELoss()\n",
    "\n",
    "    # Redefine data loaders for the current fold\n",
    "    train_loader = DataLoader(TensorDataset(X_train[train_idx].to(device).float(), y_train_tensor[train_idx].to(device).float()), batch_size=batch_size, shuffle=True)\n",
    "    val_loader = DataLoader(TensorDataset(X_train[val_idx].to(device).float(), y_train_tensor[val_idx].to(device).float()), batch_size=batch_size, shuffle=False)\n",
    "\n",
    "    best_auc = 0.0\n",
    "    no_improvement_epochs = 0\n",
    "\n",
    "    for epoch in range(epochs):\n",
    "        Quantized_model.train()\n",
    "        train_loss = 0.0\n",
    "        for batch_x, batch_y in tqdm(train_loader, desc=f\"Epoch {epoch + 1}\"):\n",
    "            optimizer.zero_grad()\n",
    "            output = Quantized_model(batch_x)\n",
    "            loss = criterion(output, batch_y)\n",
    "            loss.backward()\n",
    "            optimizer.step()\n",
    "            train_loss += loss.item() * batch_x.size(0)\n",
    "        average_train_loss = train_loss / len(train_loader.dataset)\n",
    "        print(f\"Epoch {epoch + 1}, Average Training Loss: {average_train_loss:.4f}\")\n",
    "\n",
    "        # Validation set evaluation\n",
    "        Quantized_model.eval()\n",
    "        y_scores = []\n",
    "        y_true = []\n",
    "        with torch.no_grad():\n",
    "            with torch.cuda.amp.autocast():\n",
    "                for batch_x, batch_y in val_loader:\n",
    "                    output = Quantized_model(batch_x)\n",
    "                    output = nn.functional.sigmoid(output)\n",
    "                    y_scores.append(output.cpu().numpy())\n",
    "                    y_true.append(batch_y.cpu().numpy())\n",
    "\n",
    "        y_scores = np.vstack(y_scores)\n",
    "        y_true = np.vstack(y_true)\n",
    "        \n",
    "        # Calculate ROC curve for each label\n",
    "        fpr = dict()\n",
    "        tpr = dict()\n",
    "        roc_auc = dict()\n",
    "        for i in range(num_classes):\n",
    "            fpr[i], tpr[i], _ = roc_curve(y_true[:, i], y_scores[:, i])\n",
    "            roc_auc[i] = auc(fpr[i], tpr[i])\n",
    "            all_fpr.append(fpr[i])\n",
    "            all_tpr.append(tpr[i])\n",
    "\n",
    "        # Calculate AUC score for the validation set\n",
    "        auc_score = roc_auc_score(y_true, y_scores)\n",
    "\n",
    "        print(f\"Epoch {epoch + 1}, Validation AUC: {auc_score:.4f}\")\n",
    "\n",
    "        # Check and update best AUC score\n",
    "        if auc_score > best_auc:\n",
    "            best_auc = auc_score\n",
    "            no_improvement_epochs = 0\n",
    "        else:\n",
    "            # Early stopping check\n",
    "            no_improvement_epochs += 1\n",
    "            if no_improvement_epochs >= patience:\n",
    "                print(f\"Early stopping at epoch {epoch + 1}\")\n",
    "                break\n",
    "\n",
    "    print(f\"Best AUC: {best_auc:.4f} (Epoch {epoch + 1})\")\n",
    "\n",
    "# Plot ROC curves for each label\n",
    "plt.figure(figsize=(8, 6))\n",
    "for i in range(num_classes):\n",
    "    plt.plot(all_fpr[i], all_tpr[i], lw=1, label=f'Class {i} (AUC = {roc_auc[i]:.2f})')\n",
    "\n",
    "# Calculate and plot micro-average ROC curve\n",
    "micro_fpr, micro_tpr, _ = roc_curve(y_true.ravel(), y_scores.ravel())\n",
    "micro_auc = auc(micro_fpr, micro_tpr)\n",
    "plt.plot(micro_fpr, micro_tpr, color='red', linestyle='--', lw=2, label=f'Micro-average ROC (AUC = {micro_auc:.2f})')\n",
    "\n",
    "# Add labels and legend\n",
    "plt.xlabel('False Positive Rate')\n",
    "plt.ylabel('True Positive Rate')\n",
    "plt.title('ROC Curve for Validation Data (Multi-label Classification)')\n",
    "plt.legend(loc='lower right')\n",
    "plt.show()"
   ]
  },
  {
   "cell_type": "code",
   "execution_count": 20,
   "metadata": {},
   "outputs": [
    {
     "name": "stdout",
     "output_type": "stream",
     "text": [
      "Previous model parameter count: 614055\n",
      "Quantized model parameter count: 614055\n",
      "Quantized model is larger.\n"
     ]
    }
   ],
   "source": [
    "from torchmetrics.functional import accuracy\n",
    "\n",
    "# 이전 모델의 파라미터 수 계산\n",
    "previous_model_param_count = sum(p.numel() for p in model.parameters())\n",
    "\n",
    "# 양자화된 모델의 파라미터 수 계산\n",
    "quantized_model_param_count = sum(p.numel() for p in Quantized_model.parameters())\n",
    "\n",
    "print(f\"Previous model parameter count: {previous_model_param_count}\")\n",
    "print(f\"Quantized model parameter count: {quantized_model_param_count}\")\n",
    "\n",
    "# 모델 크기 비교\n",
    "if quantized_model_param_count < previous_model_param_count:\n",
    "    print(\"Quantized model is smaller.\")\n",
    "else:\n",
    "    print(\"Quantized model is larger.\")"
   ]
  }
 ],
 "metadata": {
  "kernelspec": {
   "display_name": "Python 3 (ipykernel)",
   "language": "python",
   "name": "python3"
  },
  "language_info": {
   "codemirror_mode": {
    "name": "ipython",
    "version": 3
   },
   "file_extension": ".py",
   "mimetype": "text/x-python",
   "name": "python",
   "nbconvert_exporter": "python",
   "pygments_lexer": "ipython3",
   "version": "3.11.4"
  }
 },
 "nbformat": 4,
 "nbformat_minor": 2
}
