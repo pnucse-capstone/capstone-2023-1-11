{
 "cells": [
  {
   "cell_type": "code",
   "execution_count": 1,
   "id": "6fda3046",
   "metadata": {},
   "outputs": [],
   "source": [
    "import pandas as pd\n",
    "import numpy as np\n",
    "import wfdb\n",
    "import ast\n",
    "import torch\n",
    "import torch.nn as nn\n",
    "import torch.optim as optim\n",
    "from torch.utils.data import DataLoader, TensorDataset\n",
    "from sklearn.preprocessing import LabelEncoder\n",
    "from sklearn.preprocessing import OneHotEncoder\n",
    "from sklearn.model_selection import train_test_split\n",
    "\n",
    "import warnings\n",
    "\n",
    "# 경고 메시지 숨기기\n",
    "warnings.filterwarnings(action='ignore')\n",
    "\n",
    "# GPU 사용 여부 확인\n",
    "device = torch.device(\"cuda\" if torch.cuda.is_available() else \"cpu\")\n",
    "\n",
    "# 데이터 로드 함수\n",
    "def load_raw_data(df, sampling_rate, path):\n",
    "    if sampling_rate == 100:\n",
    "        data = [wfdb.rdsamp(path+f) for f in df.filename_lr]\n",
    "    else:\n",
    "        data = [wfdb.rdsamp(path+f) for f in df.filename_hr]\n",
    "    \n",
    "    data = np.array([signal for signal, meta in data])\n",
    "    return data\n",
    "\n",
    "path = './ecg_dataset/'\n",
    "sampling_rate = 100\n",
    "\n",
    "# load and convert annotation data\n",
    "Y = pd.read_csv(path + 'ptbxl_database.csv', index_col='ecg_id')\n",
    "Y.scp_codes = Y.scp_codes.apply(lambda x: ast.literal_eval(x))\n",
    "\n",
    "# Load raw signal data\n",
    "X = load_raw_data(Y, sampling_rate, path)\n",
    "\n",
    "# Load scp_statements.csv for diagnostic aggregation\n",
    "agg_df = pd.read_csv(path + 'scp_statements.csv', index_col=0)\n",
    "agg_df = agg_df[agg_df.diagnostic == 1]\n",
    "\n",
    "def aggregate_diagnostic(y_dic):\n",
    "    tmp = []\n",
    "    for key in y_dic.keys():\n",
    "        if key in agg_df.index:\n",
    "            tmp.append(agg_df.loc[key].diagnostic_class)\n",
    "    return list(set(tmp))\n",
    "\n",
    "# Apply diagnostic superclass\n",
    "Y['diagnostic_superclass'] = Y.scp_codes.apply(aggregate_diagnostic)\n",
    "\n",
    "# Train과 Test 데이터 분할 (8:2)\n",
    "X_train, X_test, y_train_encoded, y_test_encoded = train_test_split(X, Y.diagnostic_superclass, test_size=0.2, random_state=42)"
   ]
  },
  {
   "cell_type": "code",
   "execution_count": 2,
   "id": "3d82d809",
   "metadata": {},
   "outputs": [],
   "source": [
    "# 레이블 처리\n",
    "y_train_labels = [set(labels) for labels in y_train_encoded]\n",
    "y_test_labels = [set(labels) for labels in y_test_encoded]\n",
    "\n",
    "# 데이터 전처리\n",
    "X_train = [x for x, labels in zip(X_train, y_train_labels) if len(labels) > 0]\n",
    "X_train = [torch.from_numpy(x) for x in X_train]  # Convert NumPy arrays to PyTorch tensors\n",
    "X_train = torch.stack(X_train) if len(X_train) > 0 else None  # 리스트를 PyTorch Tensor로 변환\n",
    "y_train_labels = [labels for labels in y_train_labels if len(labels) > 0]\n",
    "\n",
    "X_test = [x for x, labels in zip(X_test, y_test_labels) if len(labels) > 0]\n",
    "X_test = [torch.from_numpy(x) for x in X_test]  # Convert NumPy arrays to PyTorch tensors\n",
    "X_test = torch.stack(X_test) if len(X_test) > 0 else None  # 리스트를 PyTorch Tensor로 변환\n",
    "y_test_labels = [labels for labels in y_test_labels if len(labels) > 0]\n",
    "\n",
    "# 데이터가 비어있는 경우에 대한 예외 처리\n",
    "if X_train is not None:\n",
    "    X_train = X_train.permute(0, 2, 1)\n",
    "\n",
    "if X_test is not None:\n",
    "    X_test = X_test.permute(0, 2, 1)\n",
    "\n",
    "# 전체 레이블 목록 생성\n",
    "all_labels = list(set(label for labels in y_train_labels for label in labels))\n",
    "\n",
    "# 레이블을 이진 벡터로 인코딩\n",
    "def encode_labels(labels, all_labels):\n",
    "    encoded_labels = [1 if label in labels else 0 for label in all_labels]\n",
    "    return torch.tensor(encoded_labels, dtype=torch.float32)\n",
    "\n",
    "y_train_encoded = torch.stack([encode_labels(labels, all_labels) for labels in y_train_labels])\n",
    "y_test_encoded = torch.stack([encode_labels(labels, all_labels) for labels in y_test_labels])\n",
    "\n",
    "y_train_tensor = torch.tensor(y_train_encoded, dtype=torch.float32).to(device)\n",
    "y_test_tensor = torch.tensor(y_test_encoded, dtype=torch.float32).to(device)"
   ]
  },
  {
   "cell_type": "code",
   "execution_count": 3,
   "id": "0150b1d9",
   "metadata": {
    "scrolled": true
   },
   "outputs": [
    {
     "name": "stdout",
     "output_type": "stream",
     "text": [
      "Training Fold 1...\n"
     ]
    },
    {
     "name": "stderr",
     "output_type": "stream",
     "text": [
      "Epoch 1: 100%|███████████████████████████████████████████████████████████████████████| 458/458 [00:24<00:00, 18.60it/s]\n"
     ]
    },
    {
     "name": "stdout",
     "output_type": "stream",
     "text": [
      "Epoch 1, Average Training Loss: 0.3702\n",
      "Epoch 1, Validation AUC: 0.9070\n"
     ]
    },
    {
     "name": "stderr",
     "output_type": "stream",
     "text": [
      "Epoch 2: 100%|███████████████████████████████████████████████████████████████████████| 458/458 [00:10<00:00, 43.21it/s]\n"
     ]
    },
    {
     "name": "stdout",
     "output_type": "stream",
     "text": [
      "Epoch 2, Average Training Loss: 0.3228\n",
      "Epoch 2, Validation AUC: 0.9148\n"
     ]
    },
    {
     "name": "stderr",
     "output_type": "stream",
     "text": [
      "Epoch 3: 100%|███████████████████████████████████████████████████████████████████████| 458/458 [00:10<00:00, 42.98it/s]\n"
     ]
    },
    {
     "name": "stdout",
     "output_type": "stream",
     "text": [
      "Epoch 3, Average Training Loss: 0.3104\n",
      "Epoch 3, Validation AUC: 0.9178\n"
     ]
    },
    {
     "name": "stderr",
     "output_type": "stream",
     "text": [
      "Epoch 4: 100%|███████████████████████████████████████████████████████████████████████| 458/458 [00:10<00:00, 42.96it/s]\n"
     ]
    },
    {
     "name": "stdout",
     "output_type": "stream",
     "text": [
      "Epoch 4, Average Training Loss: 0.3009\n",
      "Epoch 4, Validation AUC: 0.9256\n"
     ]
    },
    {
     "name": "stderr",
     "output_type": "stream",
     "text": [
      "Epoch 5: 100%|███████████████████████████████████████████████████████████████████████| 458/458 [00:10<00:00, 43.07it/s]\n"
     ]
    },
    {
     "name": "stdout",
     "output_type": "stream",
     "text": [
      "Epoch 5, Average Training Loss: 0.2917\n",
      "Epoch 5, Validation AUC: 0.9263\n"
     ]
    },
    {
     "name": "stderr",
     "output_type": "stream",
     "text": [
      "Epoch 6: 100%|███████████████████████████████████████████████████████████████████████| 458/458 [00:10<00:00, 43.17it/s]\n"
     ]
    },
    {
     "name": "stdout",
     "output_type": "stream",
     "text": [
      "Epoch 6, Average Training Loss: 0.2866\n",
      "Epoch 6, Validation AUC: 0.9278\n"
     ]
    },
    {
     "name": "stderr",
     "output_type": "stream",
     "text": [
      "Epoch 7: 100%|███████████████████████████████████████████████████████████████████████| 458/458 [00:10<00:00, 43.26it/s]\n"
     ]
    },
    {
     "name": "stdout",
     "output_type": "stream",
     "text": [
      "Epoch 7, Average Training Loss: 0.2824\n",
      "Epoch 7, Validation AUC: 0.9237\n"
     ]
    },
    {
     "name": "stderr",
     "output_type": "stream",
     "text": [
      "Epoch 8: 100%|███████████████████████████████████████████████████████████████████████| 458/458 [00:10<00:00, 43.21it/s]\n"
     ]
    },
    {
     "name": "stdout",
     "output_type": "stream",
     "text": [
      "Epoch 8, Average Training Loss: 0.2762\n",
      "Epoch 8, Validation AUC: 0.9298\n"
     ]
    },
    {
     "name": "stderr",
     "output_type": "stream",
     "text": [
      "Epoch 9: 100%|███████████████████████████████████████████████████████████████████████| 458/458 [00:10<00:00, 43.20it/s]\n"
     ]
    },
    {
     "name": "stdout",
     "output_type": "stream",
     "text": [
      "Epoch 9, Average Training Loss: 0.2735\n",
      "Epoch 9, Validation AUC: 0.9340\n"
     ]
    },
    {
     "name": "stderr",
     "output_type": "stream",
     "text": [
      "Epoch 10: 100%|██████████████████████████████████████████████████████████████████████| 458/458 [00:10<00:00, 43.10it/s]\n"
     ]
    },
    {
     "name": "stdout",
     "output_type": "stream",
     "text": [
      "Epoch 10, Average Training Loss: 0.2686\n",
      "Epoch 10, Validation AUC: 0.9332\n"
     ]
    },
    {
     "name": "stderr",
     "output_type": "stream",
     "text": [
      "Epoch 11: 100%|██████████████████████████████████████████████████████████████████████| 458/458 [00:10<00:00, 43.14it/s]\n"
     ]
    },
    {
     "name": "stdout",
     "output_type": "stream",
     "text": [
      "Epoch 11, Average Training Loss: 0.2661\n",
      "Epoch 11, Validation AUC: 0.9318\n"
     ]
    },
    {
     "name": "stderr",
     "output_type": "stream",
     "text": [
      "Epoch 12: 100%|██████████████████████████████████████████████████████████████████████| 458/458 [00:10<00:00, 42.96it/s]\n"
     ]
    },
    {
     "name": "stdout",
     "output_type": "stream",
     "text": [
      "Epoch 12, Average Training Loss: 0.2622\n",
      "Epoch 12, Validation AUC: 0.9354\n"
     ]
    },
    {
     "name": "stderr",
     "output_type": "stream",
     "text": [
      "Epoch 13: 100%|██████████████████████████████████████████████████████████████████████| 458/458 [00:10<00:00, 42.85it/s]\n"
     ]
    },
    {
     "name": "stdout",
     "output_type": "stream",
     "text": [
      "Epoch 13, Average Training Loss: 0.2587\n",
      "Epoch 13, Validation AUC: 0.9360\n"
     ]
    },
    {
     "name": "stderr",
     "output_type": "stream",
     "text": [
      "Epoch 14: 100%|██████████████████████████████████████████████████████████████████████| 458/458 [00:10<00:00, 42.84it/s]\n"
     ]
    },
    {
     "name": "stdout",
     "output_type": "stream",
     "text": [
      "Epoch 14, Average Training Loss: 0.2561\n",
      "Epoch 14, Validation AUC: 0.9343\n"
     ]
    },
    {
     "name": "stderr",
     "output_type": "stream",
     "text": [
      "Epoch 15: 100%|██████████████████████████████████████████████████████████████████████| 458/458 [00:10<00:00, 42.86it/s]\n"
     ]
    },
    {
     "name": "stdout",
     "output_type": "stream",
     "text": [
      "Epoch 15, Average Training Loss: 0.2544\n",
      "Epoch 15, Validation AUC: 0.9364\n"
     ]
    },
    {
     "name": "stderr",
     "output_type": "stream",
     "text": [
      "Epoch 16: 100%|██████████████████████████████████████████████████████████████████████| 458/458 [00:10<00:00, 42.78it/s]\n"
     ]
    },
    {
     "name": "stdout",
     "output_type": "stream",
     "text": [
      "Epoch 16, Average Training Loss: 0.2485\n",
      "Epoch 16, Validation AUC: 0.9383\n"
     ]
    },
    {
     "name": "stderr",
     "output_type": "stream",
     "text": [
      "Epoch 17: 100%|██████████████████████████████████████████████████████████████████████| 458/458 [00:10<00:00, 42.85it/s]\n"
     ]
    },
    {
     "name": "stdout",
     "output_type": "stream",
     "text": [
      "Epoch 17, Average Training Loss: 0.2462\n",
      "Epoch 17, Validation AUC: 0.9368\n"
     ]
    },
    {
     "name": "stderr",
     "output_type": "stream",
     "text": [
      "Epoch 18: 100%|██████████████████████████████████████████████████████████████████████| 458/458 [00:10<00:00, 43.11it/s]\n"
     ]
    },
    {
     "name": "stdout",
     "output_type": "stream",
     "text": [
      "Epoch 18, Average Training Loss: 0.2458\n",
      "Epoch 18, Validation AUC: 0.9368\n"
     ]
    },
    {
     "name": "stderr",
     "output_type": "stream",
     "text": [
      "Epoch 19: 100%|██████████████████████████████████████████████████████████████████████| 458/458 [00:10<00:00, 43.11it/s]\n"
     ]
    },
    {
     "name": "stdout",
     "output_type": "stream",
     "text": [
      "Epoch 19, Average Training Loss: 0.2418\n",
      "Epoch 19, Validation AUC: 0.9383\n"
     ]
    },
    {
     "name": "stderr",
     "output_type": "stream",
     "text": [
      "Epoch 20: 100%|██████████████████████████████████████████████████████████████████████| 458/458 [00:10<00:00, 43.10it/s]\n"
     ]
    },
    {
     "name": "stdout",
     "output_type": "stream",
     "text": [
      "Epoch 20, Average Training Loss: 0.2392\n",
      "Epoch 20, Validation AUC: 0.9371\n"
     ]
    },
    {
     "name": "stderr",
     "output_type": "stream",
     "text": [
      "Epoch 21: 100%|██████████████████████████████████████████████████████████████████████| 458/458 [00:10<00:00, 43.01it/s]\n"
     ]
    },
    {
     "name": "stdout",
     "output_type": "stream",
     "text": [
      "Epoch 21, Average Training Loss: 0.2351\n",
      "Epoch 21, Validation AUC: 0.9345\n",
      "Early stopping at epoch 21\n",
      "Best AUC: 0.9383 (Epoch 21)\n",
      "Training Fold 2...\n"
     ]
    },
    {
     "name": "stderr",
     "output_type": "stream",
     "text": [
      "Epoch 1: 100%|███████████████████████████████████████████████████████████████████████| 457/457 [00:10<00:00, 42.55it/s]\n"
     ]
    },
    {
     "name": "stdout",
     "output_type": "stream",
     "text": [
      "Epoch 1, Average Training Loss: 0.3752\n",
      "Epoch 1, Validation AUC: 0.9056\n"
     ]
    },
    {
     "name": "stderr",
     "output_type": "stream",
     "text": [
      "Epoch 2: 100%|███████████████████████████████████████████████████████████████████████| 457/457 [00:10<00:00, 42.98it/s]\n"
     ]
    },
    {
     "name": "stdout",
     "output_type": "stream",
     "text": [
      "Epoch 2, Average Training Loss: 0.3248\n",
      "Epoch 2, Validation AUC: 0.9159\n"
     ]
    },
    {
     "name": "stderr",
     "output_type": "stream",
     "text": [
      "Epoch 3: 100%|███████████████████████████████████████████████████████████████████████| 457/457 [00:10<00:00, 43.02it/s]\n"
     ]
    },
    {
     "name": "stdout",
     "output_type": "stream",
     "text": [
      "Epoch 3, Average Training Loss: 0.3141\n",
      "Epoch 3, Validation AUC: 0.9158\n"
     ]
    },
    {
     "name": "stderr",
     "output_type": "stream",
     "text": [
      "Epoch 4: 100%|███████████████████████████████████████████████████████████████████████| 457/457 [00:10<00:00, 42.99it/s]\n"
     ]
    },
    {
     "name": "stdout",
     "output_type": "stream",
     "text": [
      "Epoch 4, Average Training Loss: 0.3011\n",
      "Epoch 4, Validation AUC: 0.9236\n"
     ]
    },
    {
     "name": "stderr",
     "output_type": "stream",
     "text": [
      "Epoch 5: 100%|███████████████████████████████████████████████████████████████████████| 457/457 [00:10<00:00, 43.08it/s]\n"
     ]
    },
    {
     "name": "stdout",
     "output_type": "stream",
     "text": [
      "Epoch 5, Average Training Loss: 0.2942\n",
      "Epoch 5, Validation AUC: 0.9250\n"
     ]
    },
    {
     "name": "stderr",
     "output_type": "stream",
     "text": [
      "Epoch 6: 100%|███████████████████████████████████████████████████████████████████████| 457/457 [00:10<00:00, 43.28it/s]\n"
     ]
    },
    {
     "name": "stdout",
     "output_type": "stream",
     "text": [
      "Epoch 6, Average Training Loss: 0.2883\n",
      "Epoch 6, Validation AUC: 0.9280\n"
     ]
    },
    {
     "name": "stderr",
     "output_type": "stream",
     "text": [
      "Epoch 7: 100%|███████████████████████████████████████████████████████████████████████| 457/457 [00:10<00:00, 43.05it/s]\n"
     ]
    },
    {
     "name": "stdout",
     "output_type": "stream",
     "text": [
      "Epoch 7, Average Training Loss: 0.2842\n",
      "Epoch 7, Validation AUC: 0.9310\n"
     ]
    },
    {
     "name": "stderr",
     "output_type": "stream",
     "text": [
      "Epoch 8: 100%|███████████████████████████████████████████████████████████████████████| 457/457 [00:10<00:00, 42.98it/s]\n"
     ]
    },
    {
     "name": "stdout",
     "output_type": "stream",
     "text": [
      "Epoch 8, Average Training Loss: 0.2780\n",
      "Epoch 8, Validation AUC: 0.9311\n"
     ]
    },
    {
     "name": "stderr",
     "output_type": "stream",
     "text": [
      "Epoch 9: 100%|███████████████████████████████████████████████████████████████████████| 457/457 [00:10<00:00, 42.94it/s]\n"
     ]
    },
    {
     "name": "stdout",
     "output_type": "stream",
     "text": [
      "Epoch 9, Average Training Loss: 0.2739\n",
      "Epoch 9, Validation AUC: 0.9301\n"
     ]
    },
    {
     "name": "stderr",
     "output_type": "stream",
     "text": [
      "Epoch 10: 100%|██████████████████████████████████████████████████████████████████████| 457/457 [00:10<00:00, 42.99it/s]\n"
     ]
    },
    {
     "name": "stdout",
     "output_type": "stream",
     "text": [
      "Epoch 10, Average Training Loss: 0.2690\n",
      "Epoch 10, Validation AUC: 0.9347\n"
     ]
    },
    {
     "name": "stderr",
     "output_type": "stream",
     "text": [
      "Epoch 11: 100%|██████████████████████████████████████████████████████████████████████| 457/457 [00:10<00:00, 43.06it/s]\n"
     ]
    },
    {
     "name": "stdout",
     "output_type": "stream",
     "text": [
      "Epoch 11, Average Training Loss: 0.2659\n",
      "Epoch 11, Validation AUC: 0.9319\n"
     ]
    },
    {
     "name": "stderr",
     "output_type": "stream",
     "text": [
      "Epoch 12: 100%|██████████████████████████████████████████████████████████████████████| 457/457 [00:10<00:00, 42.90it/s]\n"
     ]
    },
    {
     "name": "stdout",
     "output_type": "stream",
     "text": [
      "Epoch 12, Average Training Loss: 0.2650\n",
      "Epoch 12, Validation AUC: 0.9363\n"
     ]
    },
    {
     "name": "stderr",
     "output_type": "stream",
     "text": [
      "Epoch 13: 100%|██████████████████████████████████████████████████████████████████████| 457/457 [00:10<00:00, 42.76it/s]\n"
     ]
    },
    {
     "name": "stdout",
     "output_type": "stream",
     "text": [
      "Epoch 13, Average Training Loss: 0.2601\n",
      "Epoch 13, Validation AUC: 0.9351\n"
     ]
    },
    {
     "name": "stderr",
     "output_type": "stream",
     "text": [
      "Epoch 14: 100%|██████████████████████████████████████████████████████████████████████| 457/457 [00:10<00:00, 42.97it/s]\n"
     ]
    },
    {
     "name": "stdout",
     "output_type": "stream",
     "text": [
      "Epoch 14, Average Training Loss: 0.2556\n",
      "Epoch 14, Validation AUC: 0.9393\n"
     ]
    },
    {
     "name": "stderr",
     "output_type": "stream",
     "text": [
      "Epoch 15: 100%|██████████████████████████████████████████████████████████████████████| 457/457 [00:10<00:00, 42.95it/s]\n"
     ]
    },
    {
     "name": "stdout",
     "output_type": "stream",
     "text": [
      "Epoch 15, Average Training Loss: 0.2540\n",
      "Epoch 15, Validation AUC: 0.9367\n"
     ]
    },
    {
     "name": "stderr",
     "output_type": "stream",
     "text": [
      "Epoch 16: 100%|██████████████████████████████████████████████████████████████████████| 457/457 [00:10<00:00, 42.77it/s]\n"
     ]
    },
    {
     "name": "stdout",
     "output_type": "stream",
     "text": [
      "Epoch 16, Average Training Loss: 0.2512\n",
      "Epoch 16, Validation AUC: 0.9361\n"
     ]
    },
    {
     "name": "stderr",
     "output_type": "stream",
     "text": [
      "Epoch 17: 100%|██████████████████████████████████████████████████████████████████████| 457/457 [00:10<00:00, 42.71it/s]\n"
     ]
    },
    {
     "name": "stdout",
     "output_type": "stream",
     "text": [
      "Epoch 17, Average Training Loss: 0.2472\n",
      "Epoch 17, Validation AUC: 0.9369\n"
     ]
    },
    {
     "name": "stderr",
     "output_type": "stream",
     "text": [
      "Epoch 18: 100%|██████████████████████████████████████████████████████████████████████| 457/457 [00:10<00:00, 42.93it/s]\n"
     ]
    },
    {
     "name": "stdout",
     "output_type": "stream",
     "text": [
      "Epoch 18, Average Training Loss: 0.2459\n",
      "Epoch 18, Validation AUC: 0.9365\n"
     ]
    },
    {
     "name": "stderr",
     "output_type": "stream",
     "text": [
      "Epoch 19: 100%|██████████████████████████████████████████████████████████████████████| 457/457 [00:10<00:00, 43.09it/s]\n"
     ]
    },
    {
     "name": "stdout",
     "output_type": "stream",
     "text": [
      "Epoch 19, Average Training Loss: 0.2441\n",
      "Epoch 19, Validation AUC: 0.9360\n",
      "Early stopping at epoch 19\n",
      "Best AUC: 0.9393 (Epoch 19)\n",
      "Training Fold 3...\n"
     ]
    },
    {
     "name": "stderr",
     "output_type": "stream",
     "text": [
      "Epoch 1: 100%|███████████████████████████████████████████████████████████████████████| 457/457 [00:10<00:00, 42.76it/s]\n"
     ]
    },
    {
     "name": "stdout",
     "output_type": "stream",
     "text": [
      "Epoch 1, Average Training Loss: 0.3671\n",
      "Epoch 1, Validation AUC: 0.8933\n"
     ]
    },
    {
     "name": "stderr",
     "output_type": "stream",
     "text": [
      "Epoch 2: 100%|███████████████████████████████████████████████████████████████████████| 457/457 [00:10<00:00, 42.91it/s]\n"
     ]
    },
    {
     "name": "stdout",
     "output_type": "stream",
     "text": [
      "Epoch 2, Average Training Loss: 0.3214\n",
      "Epoch 2, Validation AUC: 0.9084\n"
     ]
    },
    {
     "name": "stderr",
     "output_type": "stream",
     "text": [
      "Epoch 3: 100%|███████████████████████████████████████████████████████████████████████| 457/457 [00:10<00:00, 43.03it/s]\n"
     ]
    },
    {
     "name": "stdout",
     "output_type": "stream",
     "text": [
      "Epoch 3, Average Training Loss: 0.3111\n",
      "Epoch 3, Validation AUC: 0.9151\n"
     ]
    },
    {
     "name": "stderr",
     "output_type": "stream",
     "text": [
      "Epoch 4: 100%|███████████████████████████████████████████████████████████████████████| 457/457 [00:10<00:00, 43.02it/s]\n"
     ]
    },
    {
     "name": "stdout",
     "output_type": "stream",
     "text": [
      "Epoch 4, Average Training Loss: 0.2993\n",
      "Epoch 4, Validation AUC: 0.9181\n"
     ]
    },
    {
     "name": "stderr",
     "output_type": "stream",
     "text": [
      "Epoch 5: 100%|███████████████████████████████████████████████████████████████████████| 457/457 [00:10<00:00, 42.99it/s]\n"
     ]
    },
    {
     "name": "stdout",
     "output_type": "stream",
     "text": [
      "Epoch 5, Average Training Loss: 0.2927\n",
      "Epoch 5, Validation AUC: 0.9202\n"
     ]
    },
    {
     "name": "stderr",
     "output_type": "stream",
     "text": [
      "Epoch 6: 100%|███████████████████████████████████████████████████████████████████████| 457/457 [00:10<00:00, 42.92it/s]\n"
     ]
    },
    {
     "name": "stdout",
     "output_type": "stream",
     "text": [
      "Epoch 6, Average Training Loss: 0.2854\n",
      "Epoch 6, Validation AUC: 0.9179\n"
     ]
    },
    {
     "name": "stderr",
     "output_type": "stream",
     "text": [
      "Epoch 7: 100%|███████████████████████████████████████████████████████████████████████| 457/457 [00:10<00:00, 43.06it/s]\n"
     ]
    },
    {
     "name": "stdout",
     "output_type": "stream",
     "text": [
      "Epoch 7, Average Training Loss: 0.2822\n",
      "Epoch 7, Validation AUC: 0.9239\n"
     ]
    },
    {
     "name": "stderr",
     "output_type": "stream",
     "text": [
      "Epoch 8: 100%|███████████████████████████████████████████████████████████████████████| 457/457 [00:10<00:00, 43.09it/s]\n"
     ]
    },
    {
     "name": "stdout",
     "output_type": "stream",
     "text": [
      "Epoch 8, Average Training Loss: 0.2738\n",
      "Epoch 8, Validation AUC: 0.9290\n"
     ]
    },
    {
     "name": "stderr",
     "output_type": "stream",
     "text": [
      "Epoch 9: 100%|███████████████████████████████████████████████████████████████████████| 457/457 [00:10<00:00, 43.12it/s]\n"
     ]
    },
    {
     "name": "stdout",
     "output_type": "stream",
     "text": [
      "Epoch 9, Average Training Loss: 0.2723\n",
      "Epoch 9, Validation AUC: 0.9266\n"
     ]
    },
    {
     "name": "stderr",
     "output_type": "stream",
     "text": [
      "Epoch 10: 100%|██████████████████████████████████████████████████████████████████████| 457/457 [00:10<00:00, 43.02it/s]\n"
     ]
    },
    {
     "name": "stdout",
     "output_type": "stream",
     "text": [
      "Epoch 10, Average Training Loss: 0.2689\n",
      "Epoch 10, Validation AUC: 0.9306\n"
     ]
    },
    {
     "name": "stderr",
     "output_type": "stream",
     "text": [
      "Epoch 11: 100%|██████████████████████████████████████████████████████████████████████| 457/457 [00:10<00:00, 42.78it/s]\n"
     ]
    },
    {
     "name": "stdout",
     "output_type": "stream",
     "text": [
      "Epoch 11, Average Training Loss: 0.2640\n",
      "Epoch 11, Validation AUC: 0.9303\n"
     ]
    },
    {
     "name": "stderr",
     "output_type": "stream",
     "text": [
      "Epoch 12: 100%|██████████████████████████████████████████████████████████████████████| 457/457 [00:10<00:00, 42.84it/s]\n"
     ]
    },
    {
     "name": "stdout",
     "output_type": "stream",
     "text": [
      "Epoch 12, Average Training Loss: 0.2604\n",
      "Epoch 12, Validation AUC: 0.9292\n"
     ]
    },
    {
     "name": "stderr",
     "output_type": "stream",
     "text": [
      "Epoch 13: 100%|██████████████████████████████████████████████████████████████████████| 457/457 [00:10<00:00, 42.94it/s]\n"
     ]
    },
    {
     "name": "stdout",
     "output_type": "stream",
     "text": [
      "Epoch 13, Average Training Loss: 0.2578\n",
      "Epoch 13, Validation AUC: 0.9331\n"
     ]
    },
    {
     "name": "stderr",
     "output_type": "stream",
     "text": [
      "Epoch 14: 100%|██████████████████████████████████████████████████████████████████████| 457/457 [00:10<00:00, 42.90it/s]\n"
     ]
    },
    {
     "name": "stdout",
     "output_type": "stream",
     "text": [
      "Epoch 14, Average Training Loss: 0.2546\n",
      "Epoch 14, Validation AUC: 0.9277\n"
     ]
    },
    {
     "name": "stderr",
     "output_type": "stream",
     "text": [
      "Epoch 15: 100%|██████████████████████████████████████████████████████████████████████| 457/457 [00:10<00:00, 42.91it/s]\n"
     ]
    },
    {
     "name": "stdout",
     "output_type": "stream",
     "text": [
      "Epoch 15, Average Training Loss: 0.2516\n",
      "Epoch 15, Validation AUC: 0.9318\n"
     ]
    },
    {
     "name": "stderr",
     "output_type": "stream",
     "text": [
      "Epoch 16: 100%|██████████████████████████████████████████████████████████████████████| 457/457 [00:10<00:00, 42.80it/s]\n"
     ]
    },
    {
     "name": "stdout",
     "output_type": "stream",
     "text": [
      "Epoch 16, Average Training Loss: 0.2479\n",
      "Epoch 16, Validation AUC: 0.9358\n"
     ]
    },
    {
     "name": "stderr",
     "output_type": "stream",
     "text": [
      "Epoch 17: 100%|██████████████████████████████████████████████████████████████████████| 457/457 [00:10<00:00, 42.93it/s]\n"
     ]
    },
    {
     "name": "stdout",
     "output_type": "stream",
     "text": [
      "Epoch 17, Average Training Loss: 0.2463\n",
      "Epoch 17, Validation AUC: 0.9315\n"
     ]
    },
    {
     "name": "stderr",
     "output_type": "stream",
     "text": [
      "Epoch 18: 100%|██████████████████████████████████████████████████████████████████████| 457/457 [00:10<00:00, 43.14it/s]\n"
     ]
    },
    {
     "name": "stdout",
     "output_type": "stream",
     "text": [
      "Epoch 18, Average Training Loss: 0.2441\n",
      "Epoch 18, Validation AUC: 0.9329\n"
     ]
    },
    {
     "name": "stderr",
     "output_type": "stream",
     "text": [
      "Epoch 19: 100%|██████████████████████████████████████████████████████████████████████| 457/457 [00:10<00:00, 43.03it/s]\n"
     ]
    },
    {
     "name": "stdout",
     "output_type": "stream",
     "text": [
      "Epoch 19, Average Training Loss: 0.2410\n",
      "Epoch 19, Validation AUC: 0.9366\n"
     ]
    },
    {
     "name": "stderr",
     "output_type": "stream",
     "text": [
      "Epoch 20: 100%|██████████████████████████████████████████████████████████████████████| 457/457 [00:10<00:00, 42.85it/s]\n"
     ]
    },
    {
     "name": "stdout",
     "output_type": "stream",
     "text": [
      "Epoch 20, Average Training Loss: 0.2383\n",
      "Epoch 20, Validation AUC: 0.9369\n"
     ]
    },
    {
     "name": "stderr",
     "output_type": "stream",
     "text": [
      "Epoch 21: 100%|██████████████████████████████████████████████████████████████████████| 457/457 [00:10<00:00, 42.99it/s]\n"
     ]
    },
    {
     "name": "stdout",
     "output_type": "stream",
     "text": [
      "Epoch 21, Average Training Loss: 0.2360\n",
      "Epoch 21, Validation AUC: 0.9359\n"
     ]
    },
    {
     "name": "stderr",
     "output_type": "stream",
     "text": [
      "Epoch 22: 100%|██████████████████████████████████████████████████████████████████████| 457/457 [00:10<00:00, 42.93it/s]\n"
     ]
    },
    {
     "name": "stdout",
     "output_type": "stream",
     "text": [
      "Epoch 22, Average Training Loss: 0.2324\n",
      "Epoch 22, Validation AUC: 0.9317\n"
     ]
    },
    {
     "name": "stderr",
     "output_type": "stream",
     "text": [
      "Epoch 23: 100%|██████████████████████████████████████████████████████████████████████| 457/457 [00:10<00:00, 43.07it/s]\n"
     ]
    },
    {
     "name": "stdout",
     "output_type": "stream",
     "text": [
      "Epoch 23, Average Training Loss: 0.2291\n",
      "Epoch 23, Validation AUC: 0.9338\n"
     ]
    },
    {
     "name": "stderr",
     "output_type": "stream",
     "text": [
      "Epoch 24: 100%|██████████████████████████████████████████████████████████████████████| 457/457 [00:10<00:00, 43.01it/s]\n"
     ]
    },
    {
     "name": "stdout",
     "output_type": "stream",
     "text": [
      "Epoch 24, Average Training Loss: 0.2255\n",
      "Epoch 24, Validation AUC: 0.9374\n"
     ]
    },
    {
     "name": "stderr",
     "output_type": "stream",
     "text": [
      "Epoch 25: 100%|██████████████████████████████████████████████████████████████████████| 457/457 [00:10<00:00, 42.97it/s]\n"
     ]
    },
    {
     "name": "stdout",
     "output_type": "stream",
     "text": [
      "Epoch 25, Average Training Loss: 0.2258\n",
      "Epoch 25, Validation AUC: 0.9322\n"
     ]
    },
    {
     "name": "stderr",
     "output_type": "stream",
     "text": [
      "Epoch 26: 100%|██████████████████████████████████████████████████████████████████████| 457/457 [00:10<00:00, 43.06it/s]\n"
     ]
    },
    {
     "name": "stdout",
     "output_type": "stream",
     "text": [
      "Epoch 26, Average Training Loss: 0.2221\n",
      "Epoch 26, Validation AUC: 0.9369\n"
     ]
    },
    {
     "name": "stderr",
     "output_type": "stream",
     "text": [
      "Epoch 27: 100%|██████████████████████████████████████████████████████████████████████| 457/457 [00:10<00:00, 42.99it/s]\n"
     ]
    },
    {
     "name": "stdout",
     "output_type": "stream",
     "text": [
      "Epoch 27, Average Training Loss: 0.2196\n",
      "Epoch 27, Validation AUC: 0.9373\n"
     ]
    },
    {
     "name": "stderr",
     "output_type": "stream",
     "text": [
      "Epoch 28: 100%|██████████████████████████████████████████████████████████████████████| 457/457 [00:10<00:00, 43.12it/s]\n"
     ]
    },
    {
     "name": "stdout",
     "output_type": "stream",
     "text": [
      "Epoch 28, Average Training Loss: 0.2172\n",
      "Epoch 28, Validation AUC: 0.9345\n"
     ]
    },
    {
     "name": "stderr",
     "output_type": "stream",
     "text": [
      "Epoch 29: 100%|██████████████████████████████████████████████████████████████████████| 457/457 [00:10<00:00, 43.04it/s]\n"
     ]
    },
    {
     "name": "stdout",
     "output_type": "stream",
     "text": [
      "Epoch 29, Average Training Loss: 0.2142\n",
      "Epoch 29, Validation AUC: 0.9347\n",
      "Early stopping at epoch 29\n",
      "Best AUC: 0.9374 (Epoch 29)\n",
      "Training Fold 4...\n"
     ]
    },
    {
     "name": "stderr",
     "output_type": "stream",
     "text": [
      "Epoch 1: 100%|███████████████████████████████████████████████████████████████████████| 458/458 [00:10<00:00, 42.88it/s]\n"
     ]
    },
    {
     "name": "stdout",
     "output_type": "stream",
     "text": [
      "Epoch 1, Average Training Loss: 0.3702\n",
      "Epoch 1, Validation AUC: 0.9000\n"
     ]
    },
    {
     "name": "stderr",
     "output_type": "stream",
     "text": [
      "Epoch 2: 100%|███████████████████████████████████████████████████████████████████████| 458/458 [00:10<00:00, 43.02it/s]\n"
     ]
    },
    {
     "name": "stdout",
     "output_type": "stream",
     "text": [
      "Epoch 2, Average Training Loss: 0.3255\n",
      "Epoch 2, Validation AUC: 0.9162\n"
     ]
    },
    {
     "name": "stderr",
     "output_type": "stream",
     "text": [
      "Epoch 3: 100%|███████████████████████████████████████████████████████████████████████| 458/458 [00:10<00:00, 43.11it/s]\n"
     ]
    },
    {
     "name": "stdout",
     "output_type": "stream",
     "text": [
      "Epoch 3, Average Training Loss: 0.3076\n",
      "Epoch 3, Validation AUC: 0.9228\n"
     ]
    },
    {
     "name": "stderr",
     "output_type": "stream",
     "text": [
      "Epoch 4: 100%|███████████████████████████████████████████████████████████████████████| 458/458 [00:10<00:00, 43.06it/s]\n"
     ]
    },
    {
     "name": "stdout",
     "output_type": "stream",
     "text": [
      "Epoch 4, Average Training Loss: 0.2988\n",
      "Epoch 4, Validation AUC: 0.9238\n"
     ]
    },
    {
     "name": "stderr",
     "output_type": "stream",
     "text": [
      "Epoch 5: 100%|███████████████████████████████████████████████████████████████████████| 458/458 [00:10<00:00, 43.13it/s]\n"
     ]
    },
    {
     "name": "stdout",
     "output_type": "stream",
     "text": [
      "Epoch 5, Average Training Loss: 0.2916\n",
      "Epoch 5, Validation AUC: 0.9252\n"
     ]
    },
    {
     "name": "stderr",
     "output_type": "stream",
     "text": [
      "Epoch 6: 100%|███████████████████████████████████████████████████████████████████████| 458/458 [00:10<00:00, 43.11it/s]\n"
     ]
    },
    {
     "name": "stdout",
     "output_type": "stream",
     "text": [
      "Epoch 6, Average Training Loss: 0.2852\n",
      "Epoch 6, Validation AUC: 0.9271\n"
     ]
    },
    {
     "name": "stderr",
     "output_type": "stream",
     "text": [
      "Epoch 7: 100%|███████████████████████████████████████████████████████████████████████| 458/458 [00:10<00:00, 42.99it/s]\n"
     ]
    },
    {
     "name": "stdout",
     "output_type": "stream",
     "text": [
      "Epoch 7, Average Training Loss: 0.2824\n",
      "Epoch 7, Validation AUC: 0.9305\n"
     ]
    },
    {
     "name": "stderr",
     "output_type": "stream",
     "text": [
      "Epoch 8: 100%|███████████████████████████████████████████████████████████████████████| 458/458 [00:10<00:00, 42.85it/s]\n"
     ]
    },
    {
     "name": "stdout",
     "output_type": "stream",
     "text": [
      "Epoch 8, Average Training Loss: 0.2769\n",
      "Epoch 8, Validation AUC: 0.9313\n"
     ]
    },
    {
     "name": "stderr",
     "output_type": "stream",
     "text": [
      "Epoch 9: 100%|███████████████████████████████████████████████████████████████████████| 458/458 [00:10<00:00, 42.90it/s]\n"
     ]
    },
    {
     "name": "stdout",
     "output_type": "stream",
     "text": [
      "Epoch 9, Average Training Loss: 0.2733\n",
      "Epoch 9, Validation AUC: 0.9306\n"
     ]
    },
    {
     "name": "stderr",
     "output_type": "stream",
     "text": [
      "Epoch 10: 100%|██████████████████████████████████████████████████████████████████████| 458/458 [00:10<00:00, 42.88it/s]\n"
     ]
    },
    {
     "name": "stdout",
     "output_type": "stream",
     "text": [
      "Epoch 10, Average Training Loss: 0.2704\n",
      "Epoch 10, Validation AUC: 0.9312\n"
     ]
    },
    {
     "name": "stderr",
     "output_type": "stream",
     "text": [
      "Epoch 11: 100%|██████████████████████████████████████████████████████████████████████| 458/458 [00:10<00:00, 42.82it/s]\n"
     ]
    },
    {
     "name": "stdout",
     "output_type": "stream",
     "text": [
      "Epoch 11, Average Training Loss: 0.2652\n",
      "Epoch 11, Validation AUC: 0.9291\n"
     ]
    },
    {
     "name": "stderr",
     "output_type": "stream",
     "text": [
      "Epoch 12: 100%|██████████████████████████████████████████████████████████████████████| 458/458 [00:10<00:00, 42.85it/s]\n"
     ]
    },
    {
     "name": "stdout",
     "output_type": "stream",
     "text": [
      "Epoch 12, Average Training Loss: 0.2622\n",
      "Epoch 12, Validation AUC: 0.9330\n"
     ]
    },
    {
     "name": "stderr",
     "output_type": "stream",
     "text": [
      "Epoch 13: 100%|██████████████████████████████████████████████████████████████████████| 458/458 [00:10<00:00, 42.84it/s]\n"
     ]
    },
    {
     "name": "stdout",
     "output_type": "stream",
     "text": [
      "Epoch 13, Average Training Loss: 0.2588\n",
      "Epoch 13, Validation AUC: 0.9347\n"
     ]
    },
    {
     "name": "stderr",
     "output_type": "stream",
     "text": [
      "Epoch 14: 100%|██████████████████████████████████████████████████████████████████████| 458/458 [00:10<00:00, 43.05it/s]\n"
     ]
    },
    {
     "name": "stdout",
     "output_type": "stream",
     "text": [
      "Epoch 14, Average Training Loss: 0.2563\n",
      "Epoch 14, Validation AUC: 0.9350\n"
     ]
    },
    {
     "name": "stderr",
     "output_type": "stream",
     "text": [
      "Epoch 15: 100%|██████████████████████████████████████████████████████████████████████| 458/458 [00:10<00:00, 43.04it/s]\n"
     ]
    },
    {
     "name": "stdout",
     "output_type": "stream",
     "text": [
      "Epoch 15, Average Training Loss: 0.2534\n",
      "Epoch 15, Validation AUC: 0.9363\n"
     ]
    },
    {
     "name": "stderr",
     "output_type": "stream",
     "text": [
      "Epoch 16: 100%|██████████████████████████████████████████████████████████████████████| 458/458 [00:10<00:00, 42.98it/s]\n"
     ]
    },
    {
     "name": "stdout",
     "output_type": "stream",
     "text": [
      "Epoch 16, Average Training Loss: 0.2513\n",
      "Epoch 16, Validation AUC: 0.9340\n"
     ]
    },
    {
     "name": "stderr",
     "output_type": "stream",
     "text": [
      "Epoch 17: 100%|██████████████████████████████████████████████████████████████████████| 458/458 [00:10<00:00, 43.04it/s]\n"
     ]
    },
    {
     "name": "stdout",
     "output_type": "stream",
     "text": [
      "Epoch 17, Average Training Loss: 0.2467\n",
      "Epoch 17, Validation AUC: 0.9375\n"
     ]
    },
    {
     "name": "stderr",
     "output_type": "stream",
     "text": [
      "Epoch 18: 100%|██████████████████████████████████████████████████████████████████████| 458/458 [00:10<00:00, 43.15it/s]\n"
     ]
    },
    {
     "name": "stdout",
     "output_type": "stream",
     "text": [
      "Epoch 18, Average Training Loss: 0.2455\n",
      "Epoch 18, Validation AUC: 0.9329\n"
     ]
    },
    {
     "name": "stderr",
     "output_type": "stream",
     "text": [
      "Epoch 19: 100%|██████████████████████████████████████████████████████████████████████| 458/458 [00:10<00:00, 43.17it/s]\n"
     ]
    },
    {
     "name": "stdout",
     "output_type": "stream",
     "text": [
      "Epoch 19, Average Training Loss: 0.2412\n",
      "Epoch 19, Validation AUC: 0.9370\n"
     ]
    },
    {
     "name": "stderr",
     "output_type": "stream",
     "text": [
      "Epoch 20: 100%|██████████████████████████████████████████████████████████████████████| 458/458 [00:10<00:00, 43.15it/s]\n"
     ]
    },
    {
     "name": "stdout",
     "output_type": "stream",
     "text": [
      "Epoch 20, Average Training Loss: 0.2402\n",
      "Epoch 20, Validation AUC: 0.9348\n"
     ]
    },
    {
     "name": "stderr",
     "output_type": "stream",
     "text": [
      "Epoch 21: 100%|██████████████████████████████████████████████████████████████████████| 458/458 [00:10<00:00, 43.37it/s]\n"
     ]
    },
    {
     "name": "stdout",
     "output_type": "stream",
     "text": [
      "Epoch 21, Average Training Loss: 0.2357\n",
      "Epoch 21, Validation AUC: 0.9347\n"
     ]
    },
    {
     "name": "stderr",
     "output_type": "stream",
     "text": [
      "Epoch 22: 100%|██████████████████████████████████████████████████████████████████████| 458/458 [00:10<00:00, 43.31it/s]\n"
     ]
    },
    {
     "name": "stdout",
     "output_type": "stream",
     "text": [
      "Epoch 22, Average Training Loss: 0.2370\n",
      "Epoch 22, Validation AUC: 0.9365\n",
      "Early stopping at epoch 22\n",
      "Best AUC: 0.9375 (Epoch 22)\n",
      "Training Fold 5...\n"
     ]
    },
    {
     "name": "stderr",
     "output_type": "stream",
     "text": [
      "Epoch 1: 100%|███████████████████████████████████████████████████████████████████████| 457/457 [00:10<00:00, 42.94it/s]\n"
     ]
    },
    {
     "name": "stdout",
     "output_type": "stream",
     "text": [
      "Epoch 1, Average Training Loss: 0.3665\n",
      "Epoch 1, Validation AUC: 0.9033\n"
     ]
    },
    {
     "name": "stderr",
     "output_type": "stream",
     "text": [
      "Epoch 2: 100%|███████████████████████████████████████████████████████████████████████| 457/457 [00:10<00:00, 43.11it/s]\n"
     ]
    },
    {
     "name": "stdout",
     "output_type": "stream",
     "text": [
      "Epoch 2, Average Training Loss: 0.3233\n",
      "Epoch 2, Validation AUC: 0.9082\n"
     ]
    },
    {
     "name": "stderr",
     "output_type": "stream",
     "text": [
      "Epoch 3: 100%|███████████████████████████████████████████████████████████████████████| 457/457 [00:10<00:00, 43.10it/s]\n"
     ]
    },
    {
     "name": "stdout",
     "output_type": "stream",
     "text": [
      "Epoch 3, Average Training Loss: 0.3088\n",
      "Epoch 3, Validation AUC: 0.9140\n"
     ]
    },
    {
     "name": "stderr",
     "output_type": "stream",
     "text": [
      "Epoch 4: 100%|███████████████████████████████████████████████████████████████████████| 457/457 [00:10<00:00, 43.15it/s]\n"
     ]
    },
    {
     "name": "stdout",
     "output_type": "stream",
     "text": [
      "Epoch 4, Average Training Loss: 0.2976\n",
      "Epoch 4, Validation AUC: 0.9172\n"
     ]
    },
    {
     "name": "stderr",
     "output_type": "stream",
     "text": [
      "Epoch 5: 100%|███████████████████████████████████████████████████████████████████████| 457/457 [00:10<00:00, 43.11it/s]\n"
     ]
    },
    {
     "name": "stdout",
     "output_type": "stream",
     "text": [
      "Epoch 5, Average Training Loss: 0.2910\n",
      "Epoch 5, Validation AUC: 0.9191\n"
     ]
    },
    {
     "name": "stderr",
     "output_type": "stream",
     "text": [
      "Epoch 6: 100%|███████████████████████████████████████████████████████████████████████| 457/457 [00:10<00:00, 43.18it/s]\n"
     ]
    },
    {
     "name": "stdout",
     "output_type": "stream",
     "text": [
      "Epoch 6, Average Training Loss: 0.2869\n",
      "Epoch 6, Validation AUC: 0.9270\n"
     ]
    },
    {
     "name": "stderr",
     "output_type": "stream",
     "text": [
      "Epoch 7: 100%|███████████████████████████████████████████████████████████████████████| 457/457 [00:10<00:00, 42.99it/s]\n"
     ]
    },
    {
     "name": "stdout",
     "output_type": "stream",
     "text": [
      "Epoch 7, Average Training Loss: 0.2798\n",
      "Epoch 7, Validation AUC: 0.9293\n"
     ]
    },
    {
     "name": "stderr",
     "output_type": "stream",
     "text": [
      "Epoch 8: 100%|███████████████████████████████████████████████████████████████████████| 457/457 [00:10<00:00, 43.09it/s]\n"
     ]
    },
    {
     "name": "stdout",
     "output_type": "stream",
     "text": [
      "Epoch 8, Average Training Loss: 0.2766\n",
      "Epoch 8, Validation AUC: 0.9293\n"
     ]
    },
    {
     "name": "stderr",
     "output_type": "stream",
     "text": [
      "Epoch 9: 100%|███████████████████████████████████████████████████████████████████████| 457/457 [00:10<00:00, 43.01it/s]\n"
     ]
    },
    {
     "name": "stdout",
     "output_type": "stream",
     "text": [
      "Epoch 9, Average Training Loss: 0.2718\n",
      "Epoch 9, Validation AUC: 0.9271\n"
     ]
    },
    {
     "name": "stderr",
     "output_type": "stream",
     "text": [
      "Epoch 10: 100%|██████████████████████████████████████████████████████████████████████| 457/457 [00:10<00:00, 42.98it/s]\n"
     ]
    },
    {
     "name": "stdout",
     "output_type": "stream",
     "text": [
      "Epoch 10, Average Training Loss: 0.2678\n",
      "Epoch 10, Validation AUC: 0.9315\n"
     ]
    },
    {
     "name": "stderr",
     "output_type": "stream",
     "text": [
      "Epoch 11: 100%|██████████████████████████████████████████████████████████████████████| 457/457 [00:10<00:00, 42.83it/s]\n"
     ]
    },
    {
     "name": "stdout",
     "output_type": "stream",
     "text": [
      "Epoch 11, Average Training Loss: 0.2649\n",
      "Epoch 11, Validation AUC: 0.9325\n"
     ]
    },
    {
     "name": "stderr",
     "output_type": "stream",
     "text": [
      "Epoch 12: 100%|██████████████████████████████████████████████████████████████████████| 457/457 [00:10<00:00, 42.96it/s]\n"
     ]
    },
    {
     "name": "stdout",
     "output_type": "stream",
     "text": [
      "Epoch 12, Average Training Loss: 0.2622\n",
      "Epoch 12, Validation AUC: 0.9313\n"
     ]
    },
    {
     "name": "stderr",
     "output_type": "stream",
     "text": [
      "Epoch 13: 100%|██████████████████████████████████████████████████████████████████████| 457/457 [00:10<00:00, 43.09it/s]\n"
     ]
    },
    {
     "name": "stdout",
     "output_type": "stream",
     "text": [
      "Epoch 13, Average Training Loss: 0.2576\n",
      "Epoch 13, Validation AUC: 0.9339\n"
     ]
    },
    {
     "name": "stderr",
     "output_type": "stream",
     "text": [
      "Epoch 14: 100%|██████████████████████████████████████████████████████████████████████| 457/457 [00:10<00:00, 43.20it/s]\n"
     ]
    },
    {
     "name": "stdout",
     "output_type": "stream",
     "text": [
      "Epoch 14, Average Training Loss: 0.2552\n",
      "Epoch 14, Validation AUC: 0.9351\n"
     ]
    },
    {
     "name": "stderr",
     "output_type": "stream",
     "text": [
      "Epoch 15: 100%|██████████████████████████████████████████████████████████████████████| 457/457 [00:10<00:00, 43.04it/s]\n"
     ]
    },
    {
     "name": "stdout",
     "output_type": "stream",
     "text": [
      "Epoch 15, Average Training Loss: 0.2507\n",
      "Epoch 15, Validation AUC: 0.9351\n"
     ]
    },
    {
     "name": "stderr",
     "output_type": "stream",
     "text": [
      "Epoch 16: 100%|██████████████████████████████████████████████████████████████████████| 457/457 [00:10<00:00, 43.10it/s]\n"
     ]
    },
    {
     "name": "stdout",
     "output_type": "stream",
     "text": [
      "Epoch 16, Average Training Loss: 0.2493\n",
      "Epoch 16, Validation AUC: 0.9332\n"
     ]
    },
    {
     "name": "stderr",
     "output_type": "stream",
     "text": [
      "Epoch 17: 100%|██████████████████████████████████████████████████████████████████████| 457/457 [00:10<00:00, 43.07it/s]\n"
     ]
    },
    {
     "name": "stdout",
     "output_type": "stream",
     "text": [
      "Epoch 17, Average Training Loss: 0.2430\n",
      "Epoch 17, Validation AUC: 0.9347\n"
     ]
    },
    {
     "name": "stderr",
     "output_type": "stream",
     "text": [
      "Epoch 18: 100%|██████████████████████████████████████████████████████████████████████| 457/457 [00:10<00:00, 43.15it/s]\n"
     ]
    },
    {
     "name": "stdout",
     "output_type": "stream",
     "text": [
      "Epoch 18, Average Training Loss: 0.2418\n",
      "Epoch 18, Validation AUC: 0.9346\n"
     ]
    },
    {
     "name": "stderr",
     "output_type": "stream",
     "text": [
      "Epoch 19: 100%|██████████████████████████████████████████████████████████████████████| 457/457 [00:10<00:00, 43.15it/s]\n"
     ]
    },
    {
     "name": "stdout",
     "output_type": "stream",
     "text": [
      "Epoch 19, Average Training Loss: 0.2398\n",
      "Epoch 19, Validation AUC: 0.9357\n"
     ]
    },
    {
     "name": "stderr",
     "output_type": "stream",
     "text": [
      "Epoch 20: 100%|██████████████████████████████████████████████████████████████████████| 457/457 [00:10<00:00, 43.15it/s]\n"
     ]
    },
    {
     "name": "stdout",
     "output_type": "stream",
     "text": [
      "Epoch 20, Average Training Loss: 0.2358\n",
      "Epoch 20, Validation AUC: 0.9357\n"
     ]
    },
    {
     "name": "stderr",
     "output_type": "stream",
     "text": [
      "Epoch 21: 100%|██████████████████████████████████████████████████████████████████████| 457/457 [00:10<00:00, 43.19it/s]\n"
     ]
    },
    {
     "name": "stdout",
     "output_type": "stream",
     "text": [
      "Epoch 21, Average Training Loss: 0.2339\n",
      "Epoch 21, Validation AUC: 0.9363\n"
     ]
    },
    {
     "name": "stderr",
     "output_type": "stream",
     "text": [
      "Epoch 22: 100%|██████████████████████████████████████████████████████████████████████| 457/457 [00:10<00:00, 43.30it/s]\n"
     ]
    },
    {
     "name": "stdout",
     "output_type": "stream",
     "text": [
      "Epoch 22, Average Training Loss: 0.2305\n",
      "Epoch 22, Validation AUC: 0.9359\n"
     ]
    },
    {
     "name": "stderr",
     "output_type": "stream",
     "text": [
      "Epoch 23: 100%|██████████████████████████████████████████████████████████████████████| 457/457 [00:10<00:00, 43.06it/s]\n"
     ]
    },
    {
     "name": "stdout",
     "output_type": "stream",
     "text": [
      "Epoch 23, Average Training Loss: 0.2279\n",
      "Epoch 23, Validation AUC: 0.9352\n"
     ]
    },
    {
     "name": "stderr",
     "output_type": "stream",
     "text": [
      "Epoch 24: 100%|██████████████████████████████████████████████████████████████████████| 457/457 [00:10<00:00, 43.01it/s]\n"
     ]
    },
    {
     "name": "stdout",
     "output_type": "stream",
     "text": [
      "Epoch 24, Average Training Loss: 0.2268\n",
      "Epoch 24, Validation AUC: 0.9360\n"
     ]
    },
    {
     "name": "stderr",
     "output_type": "stream",
     "text": [
      "Epoch 25: 100%|██████████████████████████████████████████████████████████████████████| 457/457 [00:10<00:00, 43.12it/s]\n"
     ]
    },
    {
     "name": "stdout",
     "output_type": "stream",
     "text": [
      "Epoch 25, Average Training Loss: 0.2226\n",
      "Epoch 25, Validation AUC: 0.9341\n"
     ]
    },
    {
     "name": "stderr",
     "output_type": "stream",
     "text": [
      "Epoch 26: 100%|██████████████████████████████████████████████████████████████████████| 457/457 [00:10<00:00, 43.09it/s]\n"
     ]
    },
    {
     "name": "stdout",
     "output_type": "stream",
     "text": [
      "Epoch 26, Average Training Loss: 0.2183\n",
      "Epoch 26, Validation AUC: 0.9336\n",
      "Early stopping at epoch 26\n",
      "Best AUC: 0.9363 (Epoch 26)\n"
     ]
    },
    {
     "data": {
      "image/png": "[encoded data removed]",
      "text/plain": [
       "<Figure size 800x600 with 1 Axes>"
      ]
     },
     "metadata": {},
     "output_type": "display_data"
    }
   ],
   "source": [
    "from tqdm import tqdm\n",
    "from sklearn.metrics import roc_curve, auc, roc_auc_score\n",
    "from iterstrat.ml_stratifiers import MultilabelStratifiedKFold\n",
    "import matplotlib.pyplot as plt\n",
    "\n",
    "# 1차원 CNN Teacher 모델 정의\n",
    "class CNN1D(nn.Module):\n",
    "    def __init__(self, num_classes):\n",
    "        super(CNN1D, self).__init__()\n",
    "        \n",
    "        self.conv1 = nn.Conv1d(in_channels=12, out_channels=100, kernel_size=10)\n",
    "        self.conv2 = nn.Conv1d(in_channels=100, out_channels=250, kernel_size=10)\n",
    "        self.conv3 = nn.Conv1d(in_channels=250, out_channels=500, kernel_size=10)\n",
    "        self.conv4 = nn.Conv1d(in_channels=500, out_channels=1000, kernel_size=10)\n",
    "        self.relu = nn.ReLU()\n",
    "        \n",
    "        self.bn1 = nn.BatchNorm1d(100)\n",
    "        self.bn2 = nn.BatchNorm1d(250)\n",
    "        self.bn3 = nn.BatchNorm1d(500)\n",
    "        self.bn4 = nn.BatchNorm1d(1000)\n",
    "\n",
    "        self.pool = nn.MaxPool1d(kernel_size=2)\n",
    "        self.global_avg_pool = nn.AdaptiveAvgPool1d(1)  # Global Average Pooling 레이어\n",
    "        self.dropout1 = nn.Dropout(0.5, inplace=False)\n",
    "        self.fc = nn.Linear(1000, num_classes)\n",
    "        self.sigmoid = nn.Sigmoid()\n",
    "        \n",
    "\n",
    "    def forward(self, x, y=None):\n",
    "\n",
    "        x = self.conv1(x)\n",
    "        x = self.bn1(x)\n",
    "        x = self.relu(x)\n",
    "        x = self.pool(x)\n",
    "        x = self.dropout1(x)\n",
    "        \n",
    "        x = self.conv2(x)\n",
    "        x = self.bn2(x)\n",
    "        x = self.relu(x)\n",
    "        x = self.pool(x)\n",
    "        x = self.dropout1(x)\n",
    "        \n",
    "        x = self.conv3(x)\n",
    "        x = self.bn3(x)\n",
    "        x = self.relu(x)\n",
    "        x = self.pool(x)\n",
    "        x = self.dropout1(x)\n",
    "        \n",
    "        x = self.conv4(x)\n",
    "        x = self.bn4(x)\n",
    "        x = self.relu(x)\n",
    "        x = self.pool(x)\n",
    "        \n",
    "        # Global Average Pooling\n",
    "        x = self.global_avg_pool(x)\n",
    "        x = x.view(x.size(0), -1)\n",
    "        x = self.dropout1(x)\n",
    "        \n",
    "        x = self.fc(x)\n",
    "        x = self.sigmoid(x)\n",
    "        return x\n",
    "\n",
    "# Hyperparameters\n",
    "num_classes = len(all_labels)\n",
    "batch_size = 64\n",
    "epochs = 50\n",
    "learning_rate = 0.001\n",
    "k_folds = 5\n",
    "\n",
    "# K-Fold cross-validation 초기화\n",
    "skf = MultilabelStratifiedKFold(n_splits=k_folds, shuffle=True, random_state=42)\n",
    "\n",
    "# 폴드 별 각 label의 ROC data를 위한 list\n",
    "all_fpr = []\n",
    "all_tpr = []\n",
    "\n",
    "# Early stopping parameters\n",
    "patience = 5\n",
    "\n",
    "# Teacher 모델 학습\n",
    "# 폴드 별 학습 및 평가\n",
    "for fold, (train_idx, val_idx) in enumerate(skf.split(X_train, y_train_encoded)):\n",
    "    print(f\"Training Fold {fold + 1}...\")\n",
    "    \n",
    "    # model, optimizer, loss function 초기화\n",
    "    model = CNN1D(num_classes).to(device)\n",
    "    optimizer = optim.Adam(model.parameters(), lr=learning_rate)\n",
    "    criterion = nn.BCELoss()  # Since we are using sigmoid activation in the model\n",
    "\n",
    "    # 현재 폴드에 대한 데이터 로더 재정의\n",
    "    train_loader = DataLoader(TensorDataset(X_train[train_idx].to(device).float(), y_train_tensor[train_idx].to(device).float()), batch_size=batch_size, shuffle=True)\n",
    "    val_loader = DataLoader(TensorDataset(X_train[val_idx].to(device).float(), y_train_tensor[val_idx].to(device).float()), batch_size=batch_size, shuffle=False)\n",
    "\n",
    "    best_auc = 0.0\n",
    "    no_improvement_epochs = 0\n",
    "    \n",
    "    # tqdm을 통해 학습 과정 표시\n",
    "    for epoch in range(epochs):\n",
    "        model.train()\n",
    "        train_loss = 0.0\n",
    "        for batch_x, batch_y in tqdm(train_loader, desc=f\"Epoch {epoch + 1}\"):\n",
    "            optimizer.zero_grad()\n",
    "            output = model(batch_x)\n",
    "            loss = criterion(output, batch_y)\n",
    "            loss.backward()\n",
    "            optimizer.step()\n",
    "            train_loss += loss.item() * batch_x.size(0)\n",
    "        average_train_loss = train_loss / len(train_loader.dataset)\n",
    "        print(f\"Epoch {epoch + 1}, Average Training Loss: {average_train_loss:.4f}\")\n",
    "\n",
    "        # Validation set evaluation\n",
    "        model.eval()\n",
    "        y_scores = []\n",
    "        y_true = []\n",
    "        with torch.no_grad():\n",
    "            with torch.cuda.amp.autocast():\n",
    "                for batch_x, batch_y in val_loader:\n",
    "                    output = model(batch_x)\n",
    "                    output = nn.functional.sigmoid(output)\n",
    "                    y_scores.append(output.cpu().numpy())\n",
    "                    y_true.append(batch_y.cpu().numpy())\n",
    "\n",
    "        y_scores = np.vstack(y_scores)\n",
    "        y_true = np.vstack(y_true)\n",
    "        \n",
    "        # 각 label 별로 ROC curve 계산\n",
    "        fpr = dict()\n",
    "        tpr = dict()\n",
    "        roc_auc = dict()\n",
    "        for i in range(num_classes):\n",
    "            fpr[i], tpr[i], _ = roc_curve(y_true[:, i], y_scores[:, i])\n",
    "            roc_auc[i] = auc(fpr[i], tpr[i])\n",
    "            all_fpr.append(fpr[i])\n",
    "            all_tpr.append(tpr[i])\n",
    "\n",
    "        # validation set에 대한 AUC score 계산\n",
    "        auc_score = roc_auc_score(y_true, y_scores)\n",
    "\n",
    "        print(f\"Epoch {epoch + 1}, Validation AUC: {auc_score:.4f}\")\n",
    "\n",
    "        # AUC score 확인 후 갱신\n",
    "        if auc_score > best_auc:\n",
    "            best_auc = auc_score\n",
    "            no_improvement_epochs = 0\n",
    "        else:\n",
    "            # Early stopping 확인\n",
    "            no_improvement_epochs += 1\n",
    "            if no_improvement_epochs >= patience:\n",
    "                print(f\"Early stopping at epoch {epoch + 1}\")\n",
    "                break\n",
    "\n",
    "    print(f\"Best AUC: {best_auc:.4f} (Epoch {epoch + 1})\")\n",
    "\n",
    "# 각 label 별로 ROC curve를 plot\n",
    "plt.figure(figsize=(8, 6))\n",
    "for i in range(num_classes):\n",
    "    plt.plot(all_fpr[i], all_tpr[i], lw=1, label=f'Class {i} (AUC = {roc_auc[i]:.2f})')\n",
    "\n",
    "# Micro-average ROC curve 계산 및 plot\n",
    "micro_fpr, micro_tpr, _ = roc_curve(y_true.ravel(), y_scores.ravel())\n",
    "micro_auc = auc(micro_fpr, micro_tpr)\n",
    "plt.plot(micro_fpr, micro_tpr, color='red', linestyle='--', lw=2, label=f'Micro-average ROC (AUC = {micro_auc:.2f})')\n",
    "\n",
    "# Labels 과 legend 추가\n",
    "plt.xlabel('False Positive Rate')\n",
    "plt.ylabel('True Positive Rate')\n",
    "plt.title('ROC Curve for Validation Data (Multi-label Classification)')\n",
    "plt.legend(loc='lower right')\n",
    "plt.show()"
   ]
  },
  {
   "cell_type": "code",
   "execution_count": 4,
   "id": "4a0389bf",
   "metadata": {},
   "outputs": [],
   "source": [
    "# 지식 증류 학습을 위한 Knowledge Distillation Loss 함수 정의\n",
    "def knowledge_distillation_loss(student_output, labels, teacher_output, T=1.0, alpha=0.7):\n",
    "\n",
    "    #  student_output: Student 모델의 출력\n",
    "    #  teacher_scores: Teacher 모델의 출력\n",
    "    #  labels: 실제 레이블\n",
    "    #  T: 온도 파라미터 (temperature)\n",
    "    #  alpha: loss 가중치 파라미터\n",
    "\n",
    "    # Cross-Entropy Loss (Soft Target)\n",
    "    soft_loss = nn.KLDivLoss()(nn.functional.log_softmax(student_output / T, dim=1),\n",
    "                                nn.functional.softmax(teacher_output / T, dim=1)) * (T * T)\n",
    "    \n",
    "    # Cross-Entropy Loss (Hard Target)\n",
    "    hard_loss = nn.CrossEntropyLoss()(student_output, labels)\n",
    "    \n",
    "    # 최종 Loss = Hard Loss + alpha * Soft Loss\n",
    "    loss = (1.0 - alpha) * hard_loss + alpha * soft_loss\n",
    "    \n",
    "    return loss"
   ]
  },
  {
   "cell_type": "code",
   "execution_count": 5,
   "id": "3eb31980",
   "metadata": {
    "scrolled": true
   },
   "outputs": [
    {
     "name": "stdout",
     "output_type": "stream",
     "text": [
      "Training Fold 1...\n"
     ]
    },
    {
     "name": "stderr",
     "output_type": "stream",
     "text": [
      "Epoch 1: 100%|███████████████████████████████████████████████████████████████████████| 458/458 [00:06<00:00, 74.22it/s]\n"
     ]
    },
    {
     "name": "stdout",
     "output_type": "stream",
     "text": [
      "Epoch 1, Average Training Loss: 0.8994\n",
      "Epoch 1, Validation AUC: 0.9036\n"
     ]
    },
    {
     "name": "stderr",
     "output_type": "stream",
     "text": [
      "Epoch 2: 100%|███████████████████████████████████████████████████████████████████████| 458/458 [00:06<00:00, 75.29it/s]\n"
     ]
    },
    {
     "name": "stdout",
     "output_type": "stream",
     "text": [
      "Epoch 2, Average Training Loss: 0.8372\n",
      "Epoch 2, Validation AUC: 0.9156\n"
     ]
    },
    {
     "name": "stderr",
     "output_type": "stream",
     "text": [
      "Epoch 3: 100%|███████████████████████████████████████████████████████████████████████| 458/458 [00:06<00:00, 73.74it/s]\n"
     ]
    },
    {
     "name": "stdout",
     "output_type": "stream",
     "text": [
      "Epoch 3, Average Training Loss: 0.8178\n",
      "Epoch 3, Validation AUC: 0.9186\n"
     ]
    },
    {
     "name": "stderr",
     "output_type": "stream",
     "text": [
      "Epoch 4: 100%|███████████████████████████████████████████████████████████████████████| 458/458 [00:06<00:00, 73.94it/s]\n"
     ]
    },
    {
     "name": "stdout",
     "output_type": "stream",
     "text": [
      "Epoch 4, Average Training Loss: 0.8053\n",
      "Epoch 4, Validation AUC: 0.9213\n"
     ]
    },
    {
     "name": "stderr",
     "output_type": "stream",
     "text": [
      "Epoch 5: 100%|███████████████████████████████████████████████████████████████████████| 458/458 [00:06<00:00, 74.09it/s]\n"
     ]
    },
    {
     "name": "stdout",
     "output_type": "stream",
     "text": [
      "Epoch 5, Average Training Loss: 0.7987\n",
      "Epoch 5, Validation AUC: 0.9255\n"
     ]
    },
    {
     "name": "stderr",
     "output_type": "stream",
     "text": [
      "Epoch 6: 100%|███████████████████████████████████████████████████████████████████████| 458/458 [00:06<00:00, 73.45it/s]\n"
     ]
    },
    {
     "name": "stdout",
     "output_type": "stream",
     "text": [
      "Epoch 6, Average Training Loss: 0.7899\n",
      "Epoch 6, Validation AUC: 0.9254\n"
     ]
    },
    {
     "name": "stderr",
     "output_type": "stream",
     "text": [
      "Epoch 7: 100%|███████████████████████████████████████████████████████████████████████| 458/458 [00:06<00:00, 68.60it/s]\n"
     ]
    },
    {
     "name": "stdout",
     "output_type": "stream",
     "text": [
      "Epoch 7, Average Training Loss: 0.7856\n",
      "Epoch 7, Validation AUC: 0.9248\n"
     ]
    },
    {
     "name": "stderr",
     "output_type": "stream",
     "text": [
      "Epoch 8: 100%|███████████████████████████████████████████████████████████████████████| 458/458 [00:06<00:00, 74.49it/s]\n"
     ]
    },
    {
     "name": "stdout",
     "output_type": "stream",
     "text": [
      "Epoch 8, Average Training Loss: 0.7794\n",
      "Epoch 8, Validation AUC: 0.9275\n"
     ]
    },
    {
     "name": "stderr",
     "output_type": "stream",
     "text": [
      "Epoch 9: 100%|███████████████████████████████████████████████████████████████████████| 458/458 [00:06<00:00, 74.72it/s]\n"
     ]
    },
    {
     "name": "stdout",
     "output_type": "stream",
     "text": [
      "Epoch 9, Average Training Loss: 0.7736\n",
      "Epoch 9, Validation AUC: 0.9312\n"
     ]
    },
    {
     "name": "stderr",
     "output_type": "stream",
     "text": [
      "Epoch 10: 100%|██████████████████████████████████████████████████████████████████████| 458/458 [00:06<00:00, 74.69it/s]\n"
     ]
    },
    {
     "name": "stdout",
     "output_type": "stream",
     "text": [
      "Epoch 10, Average Training Loss: 0.7698\n",
      "Epoch 10, Validation AUC: 0.9313\n"
     ]
    },
    {
     "name": "stderr",
     "output_type": "stream",
     "text": [
      "Epoch 11: 100%|██████████████████████████████████████████████████████████████████████| 458/458 [00:06<00:00, 74.14it/s]\n"
     ]
    },
    {
     "name": "stdout",
     "output_type": "stream",
     "text": [
      "Epoch 11, Average Training Loss: 0.7671\n",
      "Epoch 11, Validation AUC: 0.9332\n"
     ]
    },
    {
     "name": "stderr",
     "output_type": "stream",
     "text": [
      "Epoch 12: 100%|██████████████████████████████████████████████████████████████████████| 458/458 [00:06<00:00, 74.97it/s]\n"
     ]
    },
    {
     "name": "stdout",
     "output_type": "stream",
     "text": [
      "Epoch 12, Average Training Loss: 0.7656\n",
      "Epoch 12, Validation AUC: 0.9306\n"
     ]
    },
    {
     "name": "stderr",
     "output_type": "stream",
     "text": [
      "Epoch 13: 100%|██████████████████████████████████████████████████████████████████████| 458/458 [00:06<00:00, 75.11it/s]\n"
     ]
    },
    {
     "name": "stdout",
     "output_type": "stream",
     "text": [
      "Epoch 13, Average Training Loss: 0.7599\n",
      "Epoch 13, Validation AUC: 0.9334\n"
     ]
    },
    {
     "name": "stderr",
     "output_type": "stream",
     "text": [
      "Epoch 14: 100%|██████████████████████████████████████████████████████████████████████| 458/458 [00:06<00:00, 75.17it/s]\n"
     ]
    },
    {
     "name": "stdout",
     "output_type": "stream",
     "text": [
      "Epoch 14, Average Training Loss: 0.7550\n",
      "Epoch 14, Validation AUC: 0.9318\n"
     ]
    },
    {
     "name": "stderr",
     "output_type": "stream",
     "text": [
      "Epoch 15: 100%|██████████████████████████████████████████████████████████████████████| 458/458 [00:06<00:00, 75.80it/s]\n"
     ]
    },
    {
     "name": "stdout",
     "output_type": "stream",
     "text": [
      "Epoch 15, Average Training Loss: 0.7538\n",
      "Epoch 15, Validation AUC: 0.9347\n"
     ]
    },
    {
     "name": "stderr",
     "output_type": "stream",
     "text": [
      "Epoch 16: 100%|██████████████████████████████████████████████████████████████████████| 458/458 [00:06<00:00, 74.83it/s]\n"
     ]
    },
    {
     "name": "stdout",
     "output_type": "stream",
     "text": [
      "Epoch 16, Average Training Loss: 0.7523\n",
      "Epoch 16, Validation AUC: 0.9336\n"
     ]
    },
    {
     "name": "stderr",
     "output_type": "stream",
     "text": [
      "Epoch 17: 100%|██████████████████████████████████████████████████████████████████████| 458/458 [00:06<00:00, 75.24it/s]\n"
     ]
    },
    {
     "name": "stdout",
     "output_type": "stream",
     "text": [
      "Epoch 17, Average Training Loss: 0.7487\n",
      "Epoch 17, Validation AUC: 0.9351\n"
     ]
    },
    {
     "name": "stderr",
     "output_type": "stream",
     "text": [
      "Epoch 18: 100%|██████████████████████████████████████████████████████████████████████| 458/458 [00:06<00:00, 74.53it/s]\n"
     ]
    },
    {
     "name": "stdout",
     "output_type": "stream",
     "text": [
      "Epoch 18, Average Training Loss: 0.7445\n",
      "Epoch 18, Validation AUC: 0.9360\n"
     ]
    },
    {
     "name": "stderr",
     "output_type": "stream",
     "text": [
      "Epoch 19: 100%|██████████████████████████████████████████████████████████████████████| 458/458 [00:06<00:00, 75.08it/s]\n"
     ]
    },
    {
     "name": "stdout",
     "output_type": "stream",
     "text": [
      "Epoch 19, Average Training Loss: 0.7429\n",
      "Epoch 19, Validation AUC: 0.9347\n"
     ]
    },
    {
     "name": "stderr",
     "output_type": "stream",
     "text": [
      "Epoch 20: 100%|██████████████████████████████████████████████████████████████████████| 458/458 [00:06<00:00, 74.26it/s]\n"
     ]
    },
    {
     "name": "stdout",
     "output_type": "stream",
     "text": [
      "Epoch 20, Average Training Loss: 0.7396\n",
      "Epoch 20, Validation AUC: 0.9353\n"
     ]
    },
    {
     "name": "stderr",
     "output_type": "stream",
     "text": [
      "Epoch 21: 100%|██████████████████████████████████████████████████████████████████████| 458/458 [00:06<00:00, 74.88it/s]\n"
     ]
    },
    {
     "name": "stdout",
     "output_type": "stream",
     "text": [
      "Epoch 21, Average Training Loss: 0.7374\n",
      "Epoch 21, Validation AUC: 0.9342\n"
     ]
    },
    {
     "name": "stderr",
     "output_type": "stream",
     "text": [
      "Epoch 22: 100%|██████████████████████████████████████████████████████████████████████| 458/458 [00:06<00:00, 75.94it/s]\n"
     ]
    },
    {
     "name": "stdout",
     "output_type": "stream",
     "text": [
      "Epoch 22, Average Training Loss: 0.7343\n",
      "Epoch 22, Validation AUC: 0.9368\n"
     ]
    },
    {
     "name": "stderr",
     "output_type": "stream",
     "text": [
      "Epoch 23: 100%|██████████████████████████████████████████████████████████████████████| 458/458 [00:06<00:00, 75.54it/s]\n"
     ]
    },
    {
     "name": "stdout",
     "output_type": "stream",
     "text": [
      "Epoch 23, Average Training Loss: 0.7308\n",
      "Epoch 23, Validation AUC: 0.9350\n"
     ]
    },
    {
     "name": "stderr",
     "output_type": "stream",
     "text": [
      "Epoch 24: 100%|██████████████████████████████████████████████████████████████████████| 458/458 [00:06<00:00, 75.46it/s]\n"
     ]
    },
    {
     "name": "stdout",
     "output_type": "stream",
     "text": [
      "Epoch 24, Average Training Loss: 0.7305\n",
      "Epoch 24, Validation AUC: 0.9370\n"
     ]
    },
    {
     "name": "stderr",
     "output_type": "stream",
     "text": [
      "Epoch 25: 100%|██████████████████████████████████████████████████████████████████████| 458/458 [00:06<00:00, 74.77it/s]\n"
     ]
    },
    {
     "name": "stdout",
     "output_type": "stream",
     "text": [
      "Epoch 25, Average Training Loss: 0.7280\n",
      "Epoch 25, Validation AUC: 0.9343\n"
     ]
    },
    {
     "name": "stderr",
     "output_type": "stream",
     "text": [
      "Epoch 26: 100%|██████████████████████████████████████████████████████████████████████| 458/458 [00:06<00:00, 75.18it/s]\n"
     ]
    },
    {
     "name": "stdout",
     "output_type": "stream",
     "text": [
      "Epoch 26, Average Training Loss: 0.7251\n",
      "Epoch 26, Validation AUC: 0.9375\n"
     ]
    },
    {
     "name": "stderr",
     "output_type": "stream",
     "text": [
      "Epoch 27: 100%|██████████████████████████████████████████████████████████████████████| 458/458 [00:06<00:00, 75.30it/s]\n"
     ]
    },
    {
     "name": "stdout",
     "output_type": "stream",
     "text": [
      "Epoch 27, Average Training Loss: 0.7257\n",
      "Epoch 27, Validation AUC: 0.9385\n"
     ]
    },
    {
     "name": "stderr",
     "output_type": "stream",
     "text": [
      "Epoch 28: 100%|██████████████████████████████████████████████████████████████████████| 458/458 [00:06<00:00, 75.60it/s]\n"
     ]
    },
    {
     "name": "stdout",
     "output_type": "stream",
     "text": [
      "Epoch 28, Average Training Loss: 0.7199\n",
      "Epoch 28, Validation AUC: 0.9354\n"
     ]
    },
    {
     "name": "stderr",
     "output_type": "stream",
     "text": [
      "Epoch 29: 100%|██████████████████████████████████████████████████████████████████████| 458/458 [00:06<00:00, 75.05it/s]\n"
     ]
    },
    {
     "name": "stdout",
     "output_type": "stream",
     "text": [
      "Epoch 29, Average Training Loss: 0.7195\n",
      "Epoch 29, Validation AUC: 0.9366\n"
     ]
    },
    {
     "name": "stderr",
     "output_type": "stream",
     "text": [
      "Epoch 30: 100%|██████████████████████████████████████████████████████████████████████| 458/458 [00:06<00:00, 75.41it/s]\n"
     ]
    },
    {
     "name": "stdout",
     "output_type": "stream",
     "text": [
      "Epoch 30, Average Training Loss: 0.7166\n",
      "Epoch 30, Validation AUC: 0.9380\n"
     ]
    },
    {
     "name": "stderr",
     "output_type": "stream",
     "text": [
      "Epoch 31: 100%|██████████████████████████████████████████████████████████████████████| 458/458 [00:06<00:00, 75.28it/s]\n"
     ]
    },
    {
     "name": "stdout",
     "output_type": "stream",
     "text": [
      "Epoch 31, Average Training Loss: 0.7177\n",
      "Epoch 31, Validation AUC: 0.9366\n"
     ]
    },
    {
     "name": "stderr",
     "output_type": "stream",
     "text": [
      "Epoch 32: 100%|██████████████████████████████████████████████████████████████████████| 458/458 [00:06<00:00, 75.31it/s]\n"
     ]
    },
    {
     "name": "stdout",
     "output_type": "stream",
     "text": [
      "Epoch 32, Average Training Loss: 0.7117\n",
      "Epoch 32, Validation AUC: 0.9378\n",
      "Early stopping at epoch 32\n",
      "Best AUC: 0.9385 (Epoch 32)\n",
      "Training Fold 2...\n"
     ]
    },
    {
     "name": "stderr",
     "output_type": "stream",
     "text": [
      "Epoch 1: 100%|███████████████████████████████████████████████████████████████████████| 457/457 [00:06<00:00, 73.07it/s]\n"
     ]
    },
    {
     "name": "stdout",
     "output_type": "stream",
     "text": [
      "Epoch 1, Average Training Loss: 0.8969\n",
      "Epoch 1, Validation AUC: 0.8986\n"
     ]
    },
    {
     "name": "stderr",
     "output_type": "stream",
     "text": [
      "Epoch 2: 100%|███████████████████████████████████████████████████████████████████████| 457/457 [00:06<00:00, 75.01it/s]\n"
     ]
    },
    {
     "name": "stdout",
     "output_type": "stream",
     "text": [
      "Epoch 2, Average Training Loss: 0.8424\n",
      "Epoch 2, Validation AUC: 0.9125\n"
     ]
    },
    {
     "name": "stderr",
     "output_type": "stream",
     "text": [
      "Epoch 3: 100%|███████████████████████████████████████████████████████████████████████| 457/457 [00:06<00:00, 75.14it/s]\n"
     ]
    },
    {
     "name": "stdout",
     "output_type": "stream",
     "text": [
      "Epoch 3, Average Training Loss: 0.8210\n",
      "Epoch 3, Validation AUC: 0.9178\n"
     ]
    },
    {
     "name": "stderr",
     "output_type": "stream",
     "text": [
      "Epoch 4: 100%|███████████████████████████████████████████████████████████████████████| 457/457 [00:06<00:00, 75.37it/s]\n"
     ]
    },
    {
     "name": "stdout",
     "output_type": "stream",
     "text": [
      "Epoch 4, Average Training Loss: 0.8108\n",
      "Epoch 4, Validation AUC: 0.9143\n"
     ]
    },
    {
     "name": "stderr",
     "output_type": "stream",
     "text": [
      "Epoch 5: 100%|███████████████████████████████████████████████████████████████████████| 457/457 [00:06<00:00, 75.04it/s]\n"
     ]
    },
    {
     "name": "stdout",
     "output_type": "stream",
     "text": [
      "Epoch 5, Average Training Loss: 0.8005\n",
      "Epoch 5, Validation AUC: 0.9246\n"
     ]
    },
    {
     "name": "stderr",
     "output_type": "stream",
     "text": [
      "Epoch 6: 100%|███████████████████████████████████████████████████████████████████████| 457/457 [00:06<00:00, 75.50it/s]\n"
     ]
    },
    {
     "name": "stdout",
     "output_type": "stream",
     "text": [
      "Epoch 6, Average Training Loss: 0.7910\n",
      "Epoch 6, Validation AUC: 0.9271\n"
     ]
    },
    {
     "name": "stderr",
     "output_type": "stream",
     "text": [
      "Epoch 7: 100%|███████████████████████████████████████████████████████████████████████| 457/457 [00:06<00:00, 75.58it/s]\n"
     ]
    },
    {
     "name": "stdout",
     "output_type": "stream",
     "text": [
      "Epoch 7, Average Training Loss: 0.7861\n",
      "Epoch 7, Validation AUC: 0.9294\n"
     ]
    },
    {
     "name": "stderr",
     "output_type": "stream",
     "text": [
      "Epoch 8: 100%|███████████████████████████████████████████████████████████████████████| 457/457 [00:06<00:00, 74.62it/s]\n"
     ]
    },
    {
     "name": "stdout",
     "output_type": "stream",
     "text": [
      "Epoch 8, Average Training Loss: 0.7815\n",
      "Epoch 8, Validation AUC: 0.9302\n"
     ]
    },
    {
     "name": "stderr",
     "output_type": "stream",
     "text": [
      "Epoch 9: 100%|███████████████████████████████████████████████████████████████████████| 457/457 [00:06<00:00, 75.00it/s]\n"
     ]
    },
    {
     "name": "stdout",
     "output_type": "stream",
     "text": [
      "Epoch 9, Average Training Loss: 0.7773\n",
      "Epoch 9, Validation AUC: 0.9326\n"
     ]
    },
    {
     "name": "stderr",
     "output_type": "stream",
     "text": [
      "Epoch 10: 100%|██████████████████████████████████████████████████████████████████████| 457/457 [00:06<00:00, 74.65it/s]\n"
     ]
    },
    {
     "name": "stdout",
     "output_type": "stream",
     "text": [
      "Epoch 10, Average Training Loss: 0.7748\n",
      "Epoch 10, Validation AUC: 0.9300\n"
     ]
    },
    {
     "name": "stderr",
     "output_type": "stream",
     "text": [
      "Epoch 11: 100%|██████████████████████████████████████████████████████████████████████| 457/457 [00:06<00:00, 73.94it/s]\n"
     ]
    },
    {
     "name": "stdout",
     "output_type": "stream",
     "text": [
      "Epoch 11, Average Training Loss: 0.7697\n",
      "Epoch 11, Validation AUC: 0.9322\n"
     ]
    },
    {
     "name": "stderr",
     "output_type": "stream",
     "text": [
      "Epoch 12: 100%|██████████████████████████████████████████████████████████████████████| 457/457 [00:06<00:00, 74.17it/s]\n"
     ]
    },
    {
     "name": "stdout",
     "output_type": "stream",
     "text": [
      "Epoch 12, Average Training Loss: 0.7663\n",
      "Epoch 12, Validation AUC: 0.9336\n"
     ]
    },
    {
     "name": "stderr",
     "output_type": "stream",
     "text": [
      "Epoch 13: 100%|██████████████████████████████████████████████████████████████████████| 457/457 [00:06<00:00, 73.77it/s]\n"
     ]
    },
    {
     "name": "stdout",
     "output_type": "stream",
     "text": [
      "Epoch 13, Average Training Loss: 0.7620\n",
      "Epoch 13, Validation AUC: 0.9335\n"
     ]
    },
    {
     "name": "stderr",
     "output_type": "stream",
     "text": [
      "Epoch 14: 100%|██████████████████████████████████████████████████████████████████████| 457/457 [00:06<00:00, 74.66it/s]\n"
     ]
    },
    {
     "name": "stdout",
     "output_type": "stream",
     "text": [
      "Epoch 14, Average Training Loss: 0.7572\n",
      "Epoch 14, Validation AUC: 0.9359\n"
     ]
    },
    {
     "name": "stderr",
     "output_type": "stream",
     "text": [
      "Epoch 15: 100%|██████████████████████████████████████████████████████████████████████| 457/457 [00:06<00:00, 74.49it/s]\n"
     ]
    },
    {
     "name": "stdout",
     "output_type": "stream",
     "text": [
      "Epoch 15, Average Training Loss: 0.7569\n",
      "Epoch 15, Validation AUC: 0.9363\n"
     ]
    },
    {
     "name": "stderr",
     "output_type": "stream",
     "text": [
      "Epoch 16: 100%|██████████████████████████████████████████████████████████████████████| 457/457 [00:06<00:00, 74.18it/s]\n"
     ]
    },
    {
     "name": "stdout",
     "output_type": "stream",
     "text": [
      "Epoch 16, Average Training Loss: 0.7515\n",
      "Epoch 16, Validation AUC: 0.9363\n"
     ]
    },
    {
     "name": "stderr",
     "output_type": "stream",
     "text": [
      "Epoch 17: 100%|██████████████████████████████████████████████████████████████████████| 457/457 [00:06<00:00, 74.70it/s]\n"
     ]
    },
    {
     "name": "stdout",
     "output_type": "stream",
     "text": [
      "Epoch 17, Average Training Loss: 0.7493\n",
      "Epoch 17, Validation AUC: 0.9375\n"
     ]
    },
    {
     "name": "stderr",
     "output_type": "stream",
     "text": [
      "Epoch 18: 100%|██████████████████████████████████████████████████████████████████████| 457/457 [00:06<00:00, 75.41it/s]\n"
     ]
    },
    {
     "name": "stdout",
     "output_type": "stream",
     "text": [
      "Epoch 18, Average Training Loss: 0.7482\n",
      "Epoch 18, Validation AUC: 0.9372\n"
     ]
    },
    {
     "name": "stderr",
     "output_type": "stream",
     "text": [
      "Epoch 19: 100%|██████████████████████████████████████████████████████████████████████| 457/457 [00:06<00:00, 74.96it/s]\n"
     ]
    },
    {
     "name": "stdout",
     "output_type": "stream",
     "text": [
      "Epoch 19, Average Training Loss: 0.7435\n",
      "Epoch 19, Validation AUC: 0.9363\n"
     ]
    },
    {
     "name": "stderr",
     "output_type": "stream",
     "text": [
      "Epoch 20: 100%|██████████████████████████████████████████████████████████████████████| 457/457 [00:06<00:00, 75.23it/s]\n"
     ]
    },
    {
     "name": "stdout",
     "output_type": "stream",
     "text": [
      "Epoch 20, Average Training Loss: 0.7411\n",
      "Epoch 20, Validation AUC: 0.9368\n"
     ]
    },
    {
     "name": "stderr",
     "output_type": "stream",
     "text": [
      "Epoch 21: 100%|██████████████████████████████████████████████████████████████████████| 457/457 [00:06<00:00, 75.33it/s]\n"
     ]
    },
    {
     "name": "stdout",
     "output_type": "stream",
     "text": [
      "Epoch 21, Average Training Loss: 0.7389\n",
      "Epoch 21, Validation AUC: 0.9374\n"
     ]
    },
    {
     "name": "stderr",
     "output_type": "stream",
     "text": [
      "Epoch 22: 100%|██████████████████████████████████████████████████████████████████████| 457/457 [00:06<00:00, 75.70it/s]\n"
     ]
    },
    {
     "name": "stdout",
     "output_type": "stream",
     "text": [
      "Epoch 22, Average Training Loss: 0.7378\n",
      "Epoch 22, Validation AUC: 0.9365\n",
      "Early stopping at epoch 22\n",
      "Best AUC: 0.9375 (Epoch 22)\n",
      "Training Fold 3...\n"
     ]
    },
    {
     "name": "stderr",
     "output_type": "stream",
     "text": [
      "Epoch 1: 100%|███████████████████████████████████████████████████████████████████████| 457/457 [00:06<00:00, 74.23it/s]\n"
     ]
    },
    {
     "name": "stdout",
     "output_type": "stream",
     "text": [
      "Epoch 1, Average Training Loss: 0.8911\n",
      "Epoch 1, Validation AUC: 0.9008\n"
     ]
    },
    {
     "name": "stderr",
     "output_type": "stream",
     "text": [
      "Epoch 2: 100%|███████████████████████████████████████████████████████████████████████| 457/457 [00:06<00:00, 75.16it/s]\n"
     ]
    },
    {
     "name": "stdout",
     "output_type": "stream",
     "text": [
      "Epoch 2, Average Training Loss: 0.8329\n",
      "Epoch 2, Validation AUC: 0.9071\n"
     ]
    },
    {
     "name": "stderr",
     "output_type": "stream",
     "text": [
      "Epoch 3: 100%|███████████████████████████████████████████████████████████████████████| 457/457 [00:06<00:00, 75.23it/s]\n"
     ]
    },
    {
     "name": "stdout",
     "output_type": "stream",
     "text": [
      "Epoch 3, Average Training Loss: 0.8152\n",
      "Epoch 3, Validation AUC: 0.9128\n"
     ]
    },
    {
     "name": "stderr",
     "output_type": "stream",
     "text": [
      "Epoch 4: 100%|███████████████████████████████████████████████████████████████████████| 457/457 [00:06<00:00, 75.12it/s]\n"
     ]
    },
    {
     "name": "stdout",
     "output_type": "stream",
     "text": [
      "Epoch 4, Average Training Loss: 0.8059\n",
      "Epoch 4, Validation AUC: 0.9180\n"
     ]
    },
    {
     "name": "stderr",
     "output_type": "stream",
     "text": [
      "Epoch 5: 100%|███████████████████████████████████████████████████████████████████████| 457/457 [00:06<00:00, 74.60it/s]\n"
     ]
    },
    {
     "name": "stdout",
     "output_type": "stream",
     "text": [
      "Epoch 5, Average Training Loss: 0.7960\n",
      "Epoch 5, Validation AUC: 0.9215\n"
     ]
    },
    {
     "name": "stderr",
     "output_type": "stream",
     "text": [
      "Epoch 6: 100%|███████████████████████████████████████████████████████████████████████| 457/457 [00:06<00:00, 75.61it/s]\n"
     ]
    },
    {
     "name": "stdout",
     "output_type": "stream",
     "text": [
      "Epoch 6, Average Training Loss: 0.7905\n",
      "Epoch 6, Validation AUC: 0.9212\n"
     ]
    },
    {
     "name": "stderr",
     "output_type": "stream",
     "text": [
      "Epoch 7: 100%|███████████████████████████████████████████████████████████████████████| 457/457 [00:06<00:00, 75.58it/s]\n"
     ]
    },
    {
     "name": "stdout",
     "output_type": "stream",
     "text": [
      "Epoch 7, Average Training Loss: 0.7835\n",
      "Epoch 7, Validation AUC: 0.9251\n"
     ]
    },
    {
     "name": "stderr",
     "output_type": "stream",
     "text": [
      "Epoch 8: 100%|███████████████████████████████████████████████████████████████████████| 457/457 [00:06<00:00, 75.38it/s]\n"
     ]
    },
    {
     "name": "stdout",
     "output_type": "stream",
     "text": [
      "Epoch 8, Average Training Loss: 0.7792\n",
      "Epoch 8, Validation AUC: 0.9263\n"
     ]
    },
    {
     "name": "stderr",
     "output_type": "stream",
     "text": [
      "Epoch 9: 100%|███████████████████████████████████████████████████████████████████████| 457/457 [00:06<00:00, 75.44it/s]\n"
     ]
    },
    {
     "name": "stdout",
     "output_type": "stream",
     "text": [
      "Epoch 9, Average Training Loss: 0.7751\n",
      "Epoch 9, Validation AUC: 0.9265\n"
     ]
    },
    {
     "name": "stderr",
     "output_type": "stream",
     "text": [
      "Epoch 10: 100%|██████████████████████████████████████████████████████████████████████| 457/457 [00:06<00:00, 75.72it/s]\n"
     ]
    },
    {
     "name": "stdout",
     "output_type": "stream",
     "text": [
      "Epoch 10, Average Training Loss: 0.7705\n",
      "Epoch 10, Validation AUC: 0.9276\n"
     ]
    },
    {
     "name": "stderr",
     "output_type": "stream",
     "text": [
      "Epoch 11: 100%|██████████████████████████████████████████████████████████████████████| 457/457 [00:06<00:00, 75.45it/s]\n"
     ]
    },
    {
     "name": "stdout",
     "output_type": "stream",
     "text": [
      "Epoch 11, Average Training Loss: 0.7648\n",
      "Epoch 11, Validation AUC: 0.9272\n"
     ]
    },
    {
     "name": "stderr",
     "output_type": "stream",
     "text": [
      "Epoch 12: 100%|██████████████████████████████████████████████████████████████████████| 457/457 [00:06<00:00, 75.37it/s]\n"
     ]
    },
    {
     "name": "stdout",
     "output_type": "stream",
     "text": [
      "Epoch 12, Average Training Loss: 0.7615\n",
      "Epoch 12, Validation AUC: 0.9279\n"
     ]
    },
    {
     "name": "stderr",
     "output_type": "stream",
     "text": [
      "Epoch 13: 100%|██████████████████████████████████████████████████████████████████████| 457/457 [00:06<00:00, 75.13it/s]\n"
     ]
    },
    {
     "name": "stdout",
     "output_type": "stream",
     "text": [
      "Epoch 13, Average Training Loss: 0.7617\n",
      "Epoch 13, Validation AUC: 0.9301\n"
     ]
    },
    {
     "name": "stderr",
     "output_type": "stream",
     "text": [
      "Epoch 14: 100%|██████████████████████████████████████████████████████████████████████| 457/457 [00:06<00:00, 74.60it/s]\n"
     ]
    },
    {
     "name": "stdout",
     "output_type": "stream",
     "text": [
      "Epoch 14, Average Training Loss: 0.7563\n",
      "Epoch 14, Validation AUC: 0.9302\n"
     ]
    },
    {
     "name": "stderr",
     "output_type": "stream",
     "text": [
      "Epoch 15: 100%|██████████████████████████████████████████████████████████████████████| 457/457 [00:06<00:00, 74.81it/s]\n"
     ]
    },
    {
     "name": "stdout",
     "output_type": "stream",
     "text": [
      "Epoch 15, Average Training Loss: 0.7538\n",
      "Epoch 15, Validation AUC: 0.9264\n"
     ]
    },
    {
     "name": "stderr",
     "output_type": "stream",
     "text": [
      "Epoch 16: 100%|██████████████████████████████████████████████████████████████████████| 457/457 [00:06<00:00, 74.18it/s]\n"
     ]
    },
    {
     "name": "stdout",
     "output_type": "stream",
     "text": [
      "Epoch 16, Average Training Loss: 0.7500\n",
      "Epoch 16, Validation AUC: 0.9336\n"
     ]
    },
    {
     "name": "stderr",
     "output_type": "stream",
     "text": [
      "Epoch 17: 100%|██████████████████████████████████████████████████████████████████████| 457/457 [00:06<00:00, 74.81it/s]\n"
     ]
    },
    {
     "name": "stdout",
     "output_type": "stream",
     "text": [
      "Epoch 17, Average Training Loss: 0.7485\n",
      "Epoch 17, Validation AUC: 0.9317\n"
     ]
    },
    {
     "name": "stderr",
     "output_type": "stream",
     "text": [
      "Epoch 18: 100%|██████████████████████████████████████████████████████████████████████| 457/457 [00:06<00:00, 75.19it/s]\n"
     ]
    },
    {
     "name": "stdout",
     "output_type": "stream",
     "text": [
      "Epoch 18, Average Training Loss: 0.7463\n",
      "Epoch 18, Validation AUC: 0.9308\n"
     ]
    },
    {
     "name": "stderr",
     "output_type": "stream",
     "text": [
      "Epoch 19: 100%|██████████████████████████████████████████████████████████████████████| 457/457 [00:06<00:00, 75.23it/s]\n"
     ]
    },
    {
     "name": "stdout",
     "output_type": "stream",
     "text": [
      "Epoch 19, Average Training Loss: 0.7437\n",
      "Epoch 19, Validation AUC: 0.9325\n"
     ]
    },
    {
     "name": "stderr",
     "output_type": "stream",
     "text": [
      "Epoch 20: 100%|██████████████████████████████████████████████████████████████████████| 457/457 [00:06<00:00, 75.80it/s]\n"
     ]
    },
    {
     "name": "stdout",
     "output_type": "stream",
     "text": [
      "Epoch 20, Average Training Loss: 0.7381\n",
      "Epoch 20, Validation AUC: 0.9342\n"
     ]
    },
    {
     "name": "stderr",
     "output_type": "stream",
     "text": [
      "Epoch 21: 100%|██████████████████████████████████████████████████████████████████████| 457/457 [00:06<00:00, 74.87it/s]\n"
     ]
    },
    {
     "name": "stdout",
     "output_type": "stream",
     "text": [
      "Epoch 21, Average Training Loss: 0.7385\n",
      "Epoch 21, Validation AUC: 0.9345\n"
     ]
    },
    {
     "name": "stderr",
     "output_type": "stream",
     "text": [
      "Epoch 22: 100%|██████████████████████████████████████████████████████████████████████| 457/457 [00:06<00:00, 75.16it/s]\n"
     ]
    },
    {
     "name": "stdout",
     "output_type": "stream",
     "text": [
      "Epoch 22, Average Training Loss: 0.7353\n",
      "Epoch 22, Validation AUC: 0.9328\n"
     ]
    },
    {
     "name": "stderr",
     "output_type": "stream",
     "text": [
      "Epoch 23: 100%|██████████████████████████████████████████████████████████████████████| 457/457 [00:06<00:00, 74.62it/s]\n"
     ]
    },
    {
     "name": "stdout",
     "output_type": "stream",
     "text": [
      "Epoch 23, Average Training Loss: 0.7342\n",
      "Epoch 23, Validation AUC: 0.9328\n"
     ]
    },
    {
     "name": "stderr",
     "output_type": "stream",
     "text": [
      "Epoch 24: 100%|██████████████████████████████████████████████████████████████████████| 457/457 [00:06<00:00, 74.80it/s]\n"
     ]
    },
    {
     "name": "stdout",
     "output_type": "stream",
     "text": [
      "Epoch 24, Average Training Loss: 0.7311\n",
      "Epoch 24, Validation AUC: 0.9358\n"
     ]
    },
    {
     "name": "stderr",
     "output_type": "stream",
     "text": [
      "Epoch 25: 100%|██████████████████████████████████████████████████████████████████████| 457/457 [00:06<00:00, 74.29it/s]\n"
     ]
    },
    {
     "name": "stdout",
     "output_type": "stream",
     "text": [
      "Epoch 25, Average Training Loss: 0.7274\n",
      "Epoch 25, Validation AUC: 0.9368\n"
     ]
    },
    {
     "name": "stderr",
     "output_type": "stream",
     "text": [
      "Epoch 26: 100%|██████████████████████████████████████████████████████████████████████| 457/457 [00:06<00:00, 74.59it/s]\n"
     ]
    },
    {
     "name": "stdout",
     "output_type": "stream",
     "text": [
      "Epoch 26, Average Training Loss: 0.7260\n",
      "Epoch 26, Validation AUC: 0.9383\n"
     ]
    },
    {
     "name": "stderr",
     "output_type": "stream",
     "text": [
      "Epoch 27: 100%|██████████████████████████████████████████████████████████████████████| 457/457 [00:06<00:00, 74.22it/s]\n"
     ]
    },
    {
     "name": "stdout",
     "output_type": "stream",
     "text": [
      "Epoch 27, Average Training Loss: 0.7243\n",
      "Epoch 27, Validation AUC: 0.9365\n"
     ]
    },
    {
     "name": "stderr",
     "output_type": "stream",
     "text": [
      "Epoch 28: 100%|██████████████████████████████████████████████████████████████████████| 457/457 [00:06<00:00, 75.13it/s]\n"
     ]
    },
    {
     "name": "stdout",
     "output_type": "stream",
     "text": [
      "Epoch 28, Average Training Loss: 0.7229\n",
      "Epoch 28, Validation AUC: 0.9349\n"
     ]
    },
    {
     "name": "stderr",
     "output_type": "stream",
     "text": [
      "Epoch 29: 100%|██████████████████████████████████████████████████████████████████████| 457/457 [00:06<00:00, 74.69it/s]\n"
     ]
    },
    {
     "name": "stdout",
     "output_type": "stream",
     "text": [
      "Epoch 29, Average Training Loss: 0.7216\n",
      "Epoch 29, Validation AUC: 0.9356\n"
     ]
    },
    {
     "name": "stderr",
     "output_type": "stream",
     "text": [
      "Epoch 30: 100%|██████████████████████████████████████████████████████████████████████| 457/457 [00:06<00:00, 75.09it/s]\n"
     ]
    },
    {
     "name": "stdout",
     "output_type": "stream",
     "text": [
      "Epoch 30, Average Training Loss: 0.7186\n",
      "Epoch 30, Validation AUC: 0.9376\n"
     ]
    },
    {
     "name": "stderr",
     "output_type": "stream",
     "text": [
      "Epoch 31: 100%|██████████████████████████████████████████████████████████████████████| 457/457 [00:06<00:00, 74.24it/s]\n"
     ]
    },
    {
     "name": "stdout",
     "output_type": "stream",
     "text": [
      "Epoch 31, Average Training Loss: 0.7158\n",
      "Epoch 31, Validation AUC: 0.9372\n",
      "Early stopping at epoch 31\n",
      "Best AUC: 0.9383 (Epoch 31)\n",
      "Training Fold 4...\n"
     ]
    },
    {
     "name": "stderr",
     "output_type": "stream",
     "text": [
      "Epoch 1: 100%|███████████████████████████████████████████████████████████████████████| 458/458 [00:06<00:00, 74.36it/s]\n"
     ]
    },
    {
     "name": "stdout",
     "output_type": "stream",
     "text": [
      "Epoch 1, Average Training Loss: 0.8920\n",
      "Epoch 1, Validation AUC: 0.9018\n"
     ]
    },
    {
     "name": "stderr",
     "output_type": "stream",
     "text": [
      "Epoch 2: 100%|███████████████████████████████████████████████████████████████████████| 458/458 [00:06<00:00, 75.95it/s]\n"
     ]
    },
    {
     "name": "stdout",
     "output_type": "stream",
     "text": [
      "Epoch 2, Average Training Loss: 0.8335\n",
      "Epoch 2, Validation AUC: 0.9144\n"
     ]
    },
    {
     "name": "stderr",
     "output_type": "stream",
     "text": [
      "Epoch 3: 100%|███████████████████████████████████████████████████████████████████████| 458/458 [00:06<00:00, 75.64it/s]\n"
     ]
    },
    {
     "name": "stdout",
     "output_type": "stream",
     "text": [
      "Epoch 3, Average Training Loss: 0.8192\n",
      "Epoch 3, Validation AUC: 0.9137\n"
     ]
    },
    {
     "name": "stderr",
     "output_type": "stream",
     "text": [
      "Epoch 4: 100%|███████████████████████████████████████████████████████████████████████| 458/458 [00:06<00:00, 75.88it/s]\n"
     ]
    },
    {
     "name": "stdout",
     "output_type": "stream",
     "text": [
      "Epoch 4, Average Training Loss: 0.8074\n",
      "Epoch 4, Validation AUC: 0.9206\n"
     ]
    },
    {
     "name": "stderr",
     "output_type": "stream",
     "text": [
      "Epoch 5: 100%|███████████████████████████████████████████████████████████████████████| 458/458 [00:06<00:00, 75.33it/s]\n"
     ]
    },
    {
     "name": "stdout",
     "output_type": "stream",
     "text": [
      "Epoch 5, Average Training Loss: 0.8015\n",
      "Epoch 5, Validation AUC: 0.9202\n"
     ]
    },
    {
     "name": "stderr",
     "output_type": "stream",
     "text": [
      "Epoch 6: 100%|███████████████████████████████████████████████████████████████████████| 458/458 [00:06<00:00, 75.36it/s]\n"
     ]
    },
    {
     "name": "stdout",
     "output_type": "stream",
     "text": [
      "Epoch 6, Average Training Loss: 0.7906\n",
      "Epoch 6, Validation AUC: 0.9274\n"
     ]
    },
    {
     "name": "stderr",
     "output_type": "stream",
     "text": [
      "Epoch 7: 100%|███████████████████████████████████████████████████████████████████████| 458/458 [00:06<00:00, 75.03it/s]\n"
     ]
    },
    {
     "name": "stdout",
     "output_type": "stream",
     "text": [
      "Epoch 7, Average Training Loss: 0.7862\n",
      "Epoch 7, Validation AUC: 0.9278\n"
     ]
    },
    {
     "name": "stderr",
     "output_type": "stream",
     "text": [
      "Epoch 8: 100%|███████████████████████████████████████████████████████████████████████| 458/458 [00:06<00:00, 75.32it/s]\n"
     ]
    },
    {
     "name": "stdout",
     "output_type": "stream",
     "text": [
      "Epoch 8, Average Training Loss: 0.7793\n",
      "Epoch 8, Validation AUC: 0.9302\n"
     ]
    },
    {
     "name": "stderr",
     "output_type": "stream",
     "text": [
      "Epoch 9: 100%|███████████████████████████████████████████████████████████████████████| 458/458 [00:06<00:00, 75.58it/s]\n"
     ]
    },
    {
     "name": "stdout",
     "output_type": "stream",
     "text": [
      "Epoch 9, Average Training Loss: 0.7761\n",
      "Epoch 9, Validation AUC: 0.9291\n"
     ]
    },
    {
     "name": "stderr",
     "output_type": "stream",
     "text": [
      "Epoch 10: 100%|██████████████████████████████████████████████████████████████████████| 458/458 [00:06<00:00, 75.42it/s]\n"
     ]
    },
    {
     "name": "stdout",
     "output_type": "stream",
     "text": [
      "Epoch 10, Average Training Loss: 0.7713\n",
      "Epoch 10, Validation AUC: 0.9336\n"
     ]
    },
    {
     "name": "stderr",
     "output_type": "stream",
     "text": [
      "Epoch 11: 100%|██████████████████████████████████████████████████████████████████████| 458/458 [00:06<00:00, 75.66it/s]\n"
     ]
    },
    {
     "name": "stdout",
     "output_type": "stream",
     "text": [
      "Epoch 11, Average Training Loss: 0.7641\n",
      "Epoch 11, Validation AUC: 0.9332\n"
     ]
    },
    {
     "name": "stderr",
     "output_type": "stream",
     "text": [
      "Epoch 12: 100%|██████████████████████████████████████████████████████████████████████| 458/458 [00:06<00:00, 75.69it/s]\n"
     ]
    },
    {
     "name": "stdout",
     "output_type": "stream",
     "text": [
      "Epoch 12, Average Training Loss: 0.7631\n",
      "Epoch 12, Validation AUC: 0.9306\n"
     ]
    },
    {
     "name": "stderr",
     "output_type": "stream",
     "text": [
      "Epoch 13: 100%|██████████████████████████████████████████████████████████████████████| 458/458 [00:06<00:00, 75.71it/s]\n"
     ]
    },
    {
     "name": "stdout",
     "output_type": "stream",
     "text": [
      "Epoch 13, Average Training Loss: 0.7602\n",
      "Epoch 13, Validation AUC: 0.9336\n"
     ]
    },
    {
     "name": "stderr",
     "output_type": "stream",
     "text": [
      "Epoch 14: 100%|██████████████████████████████████████████████████████████████████████| 458/458 [00:06<00:00, 75.66it/s]\n"
     ]
    },
    {
     "name": "stdout",
     "output_type": "stream",
     "text": [
      "Epoch 14, Average Training Loss: 0.7548\n",
      "Epoch 14, Validation AUC: 0.9333\n"
     ]
    },
    {
     "name": "stderr",
     "output_type": "stream",
     "text": [
      "Epoch 15: 100%|██████████████████████████████████████████████████████████████████████| 458/458 [00:06<00:00, 75.25it/s]\n"
     ]
    },
    {
     "name": "stdout",
     "output_type": "stream",
     "text": [
      "Epoch 15, Average Training Loss: 0.7520\n",
      "Epoch 15, Validation AUC: 0.9346\n"
     ]
    },
    {
     "name": "stderr",
     "output_type": "stream",
     "text": [
      "Epoch 16: 100%|██████████████████████████████████████████████████████████████████████| 458/458 [00:06<00:00, 75.74it/s]\n"
     ]
    },
    {
     "name": "stdout",
     "output_type": "stream",
     "text": [
      "Epoch 16, Average Training Loss: 0.7521\n",
      "Epoch 16, Validation AUC: 0.9354\n"
     ]
    },
    {
     "name": "stderr",
     "output_type": "stream",
     "text": [
      "Epoch 17: 100%|██████████████████████████████████████████████████████████████████████| 458/458 [00:06<00:00, 75.51it/s]\n"
     ]
    },
    {
     "name": "stdout",
     "output_type": "stream",
     "text": [
      "Epoch 17, Average Training Loss: 0.7478\n",
      "Epoch 17, Validation AUC: 0.9344\n"
     ]
    },
    {
     "name": "stderr",
     "output_type": "stream",
     "text": [
      "Epoch 18: 100%|██████████████████████████████████████████████████████████████████████| 458/458 [00:06<00:00, 75.85it/s]\n"
     ]
    },
    {
     "name": "stdout",
     "output_type": "stream",
     "text": [
      "Epoch 18, Average Training Loss: 0.7456\n",
      "Epoch 18, Validation AUC: 0.9366\n"
     ]
    },
    {
     "name": "stderr",
     "output_type": "stream",
     "text": [
      "Epoch 19: 100%|██████████████████████████████████████████████████████████████████████| 458/458 [00:06<00:00, 75.59it/s]\n"
     ]
    },
    {
     "name": "stdout",
     "output_type": "stream",
     "text": [
      "Epoch 19, Average Training Loss: 0.7430\n",
      "Epoch 19, Validation AUC: 0.9341\n"
     ]
    },
    {
     "name": "stderr",
     "output_type": "stream",
     "text": [
      "Epoch 20: 100%|██████████████████████████████████████████████████████████████████████| 458/458 [00:06<00:00, 75.51it/s]\n"
     ]
    },
    {
     "name": "stdout",
     "output_type": "stream",
     "text": [
      "Epoch 20, Average Training Loss: 0.7391\n",
      "Epoch 20, Validation AUC: 0.9385\n"
     ]
    },
    {
     "name": "stderr",
     "output_type": "stream",
     "text": [
      "Epoch 21: 100%|██████████████████████████████████████████████████████████████████████| 458/458 [00:06<00:00, 75.01it/s]\n"
     ]
    },
    {
     "name": "stdout",
     "output_type": "stream",
     "text": [
      "Epoch 21, Average Training Loss: 0.7369\n",
      "Epoch 21, Validation AUC: 0.9379\n"
     ]
    },
    {
     "name": "stderr",
     "output_type": "stream",
     "text": [
      "Epoch 22: 100%|██████████████████████████████████████████████████████████████████████| 458/458 [00:06<00:00, 74.39it/s]\n"
     ]
    },
    {
     "name": "stdout",
     "output_type": "stream",
     "text": [
      "Epoch 22, Average Training Loss: 0.7319\n",
      "Epoch 22, Validation AUC: 0.9371\n"
     ]
    },
    {
     "name": "stderr",
     "output_type": "stream",
     "text": [
      "Epoch 23: 100%|██████████████████████████████████████████████████████████████████████| 458/458 [00:06<00:00, 74.53it/s]\n"
     ]
    },
    {
     "name": "stdout",
     "output_type": "stream",
     "text": [
      "Epoch 23, Average Training Loss: 0.7293\n",
      "Epoch 23, Validation AUC: 0.9349\n"
     ]
    },
    {
     "name": "stderr",
     "output_type": "stream",
     "text": [
      "Epoch 24: 100%|██████████████████████████████████████████████████████████████████████| 458/458 [00:06<00:00, 74.84it/s]\n"
     ]
    },
    {
     "name": "stdout",
     "output_type": "stream",
     "text": [
      "Epoch 24, Average Training Loss: 0.7292\n",
      "Epoch 24, Validation AUC: 0.9385\n"
     ]
    },
    {
     "name": "stderr",
     "output_type": "stream",
     "text": [
      "Epoch 25: 100%|██████████████████████████████████████████████████████████████████████| 458/458 [00:06<00:00, 75.33it/s]\n"
     ]
    },
    {
     "name": "stdout",
     "output_type": "stream",
     "text": [
      "Epoch 25, Average Training Loss: 0.7260\n",
      "Epoch 25, Validation AUC: 0.9386\n"
     ]
    },
    {
     "name": "stderr",
     "output_type": "stream",
     "text": [
      "Epoch 26: 100%|██████████████████████████████████████████████████████████████████████| 458/458 [00:06<00:00, 75.63it/s]\n"
     ]
    },
    {
     "name": "stdout",
     "output_type": "stream",
     "text": [
      "Epoch 26, Average Training Loss: 0.7253\n",
      "Epoch 26, Validation AUC: 0.9380\n"
     ]
    },
    {
     "name": "stderr",
     "output_type": "stream",
     "text": [
      "Epoch 27: 100%|██████████████████████████████████████████████████████████████████████| 458/458 [00:06<00:00, 74.95it/s]\n"
     ]
    },
    {
     "name": "stdout",
     "output_type": "stream",
     "text": [
      "Epoch 27, Average Training Loss: 0.7232\n",
      "Epoch 27, Validation AUC: 0.9384\n"
     ]
    },
    {
     "name": "stderr",
     "output_type": "stream",
     "text": [
      "Epoch 28: 100%|██████████████████████████████████████████████████████████████████████| 458/458 [00:06<00:00, 75.10it/s]\n"
     ]
    },
    {
     "name": "stdout",
     "output_type": "stream",
     "text": [
      "Epoch 28, Average Training Loss: 0.7211\n",
      "Epoch 28, Validation AUC: 0.9374\n"
     ]
    },
    {
     "name": "stderr",
     "output_type": "stream",
     "text": [
      "Epoch 29: 100%|██████████████████████████████████████████████████████████████████████| 458/458 [00:06<00:00, 74.29it/s]\n"
     ]
    },
    {
     "name": "stdout",
     "output_type": "stream",
     "text": [
      "Epoch 29, Average Training Loss: 0.7190\n",
      "Epoch 29, Validation AUC: 0.9375\n"
     ]
    },
    {
     "name": "stderr",
     "output_type": "stream",
     "text": [
      "Epoch 30: 100%|██████████████████████████████████████████████████████████████████████| 458/458 [00:06<00:00, 74.49it/s]\n"
     ]
    },
    {
     "name": "stdout",
     "output_type": "stream",
     "text": [
      "Epoch 30, Average Training Loss: 0.7173\n",
      "Epoch 30, Validation AUC: 0.9365\n",
      "Early stopping at epoch 30\n",
      "Best AUC: 0.9386 (Epoch 30)\n",
      "Training Fold 5...\n"
     ]
    },
    {
     "name": "stderr",
     "output_type": "stream",
     "text": [
      "Epoch 1: 100%|███████████████████████████████████████████████████████████████████████| 457/457 [00:06<00:00, 73.57it/s]\n"
     ]
    },
    {
     "name": "stdout",
     "output_type": "stream",
     "text": [
      "Epoch 1, Average Training Loss: 0.8976\n",
      "Epoch 1, Validation AUC: 0.8901\n"
     ]
    },
    {
     "name": "stderr",
     "output_type": "stream",
     "text": [
      "Epoch 2: 100%|███████████████████████████████████████████████████████████████████████| 457/457 [00:06<00:00, 73.94it/s]\n"
     ]
    },
    {
     "name": "stdout",
     "output_type": "stream",
     "text": [
      "Epoch 2, Average Training Loss: 0.8373\n",
      "Epoch 2, Validation AUC: 0.9114\n"
     ]
    },
    {
     "name": "stderr",
     "output_type": "stream",
     "text": [
      "Epoch 3: 100%|███████████████████████████████████████████████████████████████████████| 457/457 [00:06<00:00, 73.92it/s]\n"
     ]
    },
    {
     "name": "stdout",
     "output_type": "stream",
     "text": [
      "Epoch 3, Average Training Loss: 0.8169\n",
      "Epoch 3, Validation AUC: 0.9129\n"
     ]
    },
    {
     "name": "stderr",
     "output_type": "stream",
     "text": [
      "Epoch 4: 100%|███████████████████████████████████████████████████████████████████████| 457/457 [00:06<00:00, 74.25it/s]\n"
     ]
    },
    {
     "name": "stdout",
     "output_type": "stream",
     "text": [
      "Epoch 4, Average Training Loss: 0.8025\n",
      "Epoch 4, Validation AUC: 0.9207\n"
     ]
    },
    {
     "name": "stderr",
     "output_type": "stream",
     "text": [
      "Epoch 5: 100%|███████████████████████████████████████████████████████████████████████| 457/457 [00:06<00:00, 74.29it/s]\n"
     ]
    },
    {
     "name": "stdout",
     "output_type": "stream",
     "text": [
      "Epoch 5, Average Training Loss: 0.7961\n",
      "Epoch 5, Validation AUC: 0.9214\n"
     ]
    },
    {
     "name": "stderr",
     "output_type": "stream",
     "text": [
      "Epoch 6: 100%|███████████████████████████████████████████████████████████████████████| 457/457 [00:06<00:00, 74.08it/s]\n"
     ]
    },
    {
     "name": "stdout",
     "output_type": "stream",
     "text": [
      "Epoch 6, Average Training Loss: 0.7896\n",
      "Epoch 6, Validation AUC: 0.9211\n"
     ]
    },
    {
     "name": "stderr",
     "output_type": "stream",
     "text": [
      "Epoch 7: 100%|███████████████████████████████████████████████████████████████████████| 457/457 [00:06<00:00, 73.99it/s]\n"
     ]
    },
    {
     "name": "stdout",
     "output_type": "stream",
     "text": [
      "Epoch 7, Average Training Loss: 0.7834\n",
      "Epoch 7, Validation AUC: 0.9249\n"
     ]
    },
    {
     "name": "stderr",
     "output_type": "stream",
     "text": [
      "Epoch 8: 100%|███████████████████████████████████████████████████████████████████████| 457/457 [00:06<00:00, 74.42it/s]\n"
     ]
    },
    {
     "name": "stdout",
     "output_type": "stream",
     "text": [
      "Epoch 8, Average Training Loss: 0.7831\n",
      "Epoch 8, Validation AUC: 0.9261\n"
     ]
    },
    {
     "name": "stderr",
     "output_type": "stream",
     "text": [
      "Epoch 9: 100%|███████████████████████████████████████████████████████████████████████| 457/457 [00:06<00:00, 74.93it/s]\n"
     ]
    },
    {
     "name": "stdout",
     "output_type": "stream",
     "text": [
      "Epoch 9, Average Training Loss: 0.7742\n",
      "Epoch 9, Validation AUC: 0.9288\n"
     ]
    },
    {
     "name": "stderr",
     "output_type": "stream",
     "text": [
      "Epoch 10: 100%|██████████████████████████████████████████████████████████████████████| 457/457 [00:06<00:00, 75.25it/s]\n"
     ]
    },
    {
     "name": "stdout",
     "output_type": "stream",
     "text": [
      "Epoch 10, Average Training Loss: 0.7722\n",
      "Epoch 10, Validation AUC: 0.9271\n"
     ]
    },
    {
     "name": "stderr",
     "output_type": "stream",
     "text": [
      "Epoch 11: 100%|██████████████████████████████████████████████████████████████████████| 457/457 [00:06<00:00, 75.43it/s]\n"
     ]
    },
    {
     "name": "stdout",
     "output_type": "stream",
     "text": [
      "Epoch 11, Average Training Loss: 0.7693\n",
      "Epoch 11, Validation AUC: 0.9290\n"
     ]
    },
    {
     "name": "stderr",
     "output_type": "stream",
     "text": [
      "Epoch 12: 100%|██████████████████████████████████████████████████████████████████████| 457/457 [00:06<00:00, 75.09it/s]\n"
     ]
    },
    {
     "name": "stdout",
     "output_type": "stream",
     "text": [
      "Epoch 12, Average Training Loss: 0.7631\n",
      "Epoch 12, Validation AUC: 0.9282\n"
     ]
    },
    {
     "name": "stderr",
     "output_type": "stream",
     "text": [
      "Epoch 13: 100%|██████████████████████████████████████████████████████████████████████| 457/457 [00:06<00:00, 74.49it/s]\n"
     ]
    },
    {
     "name": "stdout",
     "output_type": "stream",
     "text": [
      "Epoch 13, Average Training Loss: 0.7620\n",
      "Epoch 13, Validation AUC: 0.9318\n"
     ]
    },
    {
     "name": "stderr",
     "output_type": "stream",
     "text": [
      "Epoch 14: 100%|██████████████████████████████████████████████████████████████████████| 457/457 [00:06<00:00, 75.21it/s]\n"
     ]
    },
    {
     "name": "stdout",
     "output_type": "stream",
     "text": [
      "Epoch 14, Average Training Loss: 0.7560\n",
      "Epoch 14, Validation AUC: 0.9322\n"
     ]
    },
    {
     "name": "stderr",
     "output_type": "stream",
     "text": [
      "Epoch 15: 100%|██████████████████████████████████████████████████████████████████████| 457/457 [00:06<00:00, 75.01it/s]\n"
     ]
    },
    {
     "name": "stdout",
     "output_type": "stream",
     "text": [
      "Epoch 15, Average Training Loss: 0.7557\n",
      "Epoch 15, Validation AUC: 0.9298\n"
     ]
    },
    {
     "name": "stderr",
     "output_type": "stream",
     "text": [
      "Epoch 16: 100%|██████████████████████████████████████████████████████████████████████| 457/457 [00:06<00:00, 75.12it/s]\n"
     ]
    },
    {
     "name": "stdout",
     "output_type": "stream",
     "text": [
      "Epoch 16, Average Training Loss: 0.7525\n",
      "Epoch 16, Validation AUC: 0.9344\n"
     ]
    },
    {
     "name": "stderr",
     "output_type": "stream",
     "text": [
      "Epoch 17: 100%|██████████████████████████████████████████████████████████████████████| 457/457 [00:06<00:00, 75.10it/s]\n"
     ]
    },
    {
     "name": "stdout",
     "output_type": "stream",
     "text": [
      "Epoch 17, Average Training Loss: 0.7482\n",
      "Epoch 17, Validation AUC: 0.9324\n"
     ]
    },
    {
     "name": "stderr",
     "output_type": "stream",
     "text": [
      "Epoch 18: 100%|██████████████████████████████████████████████████████████████████████| 457/457 [00:06<00:00, 75.29it/s]\n"
     ]
    },
    {
     "name": "stdout",
     "output_type": "stream",
     "text": [
      "Epoch 18, Average Training Loss: 0.7448\n",
      "Epoch 18, Validation AUC: 0.9313\n"
     ]
    },
    {
     "name": "stderr",
     "output_type": "stream",
     "text": [
      "Epoch 19: 100%|██████████████████████████████████████████████████████████████████████| 457/457 [00:06<00:00, 75.54it/s]\n"
     ]
    },
    {
     "name": "stdout",
     "output_type": "stream",
     "text": [
      "Epoch 19, Average Training Loss: 0.7434\n",
      "Epoch 19, Validation AUC: 0.9332\n"
     ]
    },
    {
     "name": "stderr",
     "output_type": "stream",
     "text": [
      "Epoch 20: 100%|██████████████████████████████████████████████████████████████████████| 457/457 [00:06<00:00, 75.81it/s]\n"
     ]
    },
    {
     "name": "stdout",
     "output_type": "stream",
     "text": [
      "Epoch 20, Average Training Loss: 0.7388\n",
      "Epoch 20, Validation AUC: 0.9351\n"
     ]
    },
    {
     "name": "stderr",
     "output_type": "stream",
     "text": [
      "Epoch 21: 100%|██████████████████████████████████████████████████████████████████████| 457/457 [00:06<00:00, 75.98it/s]\n"
     ]
    },
    {
     "name": "stdout",
     "output_type": "stream",
     "text": [
      "Epoch 21, Average Training Loss: 0.7387\n",
      "Epoch 21, Validation AUC: 0.9335\n"
     ]
    },
    {
     "name": "stderr",
     "output_type": "stream",
     "text": [
      "Epoch 22: 100%|██████████████████████████████████████████████████████████████████████| 457/457 [00:06<00:00, 75.26it/s]\n"
     ]
    },
    {
     "name": "stdout",
     "output_type": "stream",
     "text": [
      "Epoch 22, Average Training Loss: 0.7373\n",
      "Epoch 22, Validation AUC: 0.9333\n"
     ]
    },
    {
     "name": "stderr",
     "output_type": "stream",
     "text": [
      "Epoch 23: 100%|██████████████████████████████████████████████████████████████████████| 457/457 [00:06<00:00, 75.42it/s]\n"
     ]
    },
    {
     "name": "stdout",
     "output_type": "stream",
     "text": [
      "Epoch 23, Average Training Loss: 0.7348\n",
      "Epoch 23, Validation AUC: 0.9358\n"
     ]
    },
    {
     "name": "stderr",
     "output_type": "stream",
     "text": [
      "Epoch 24: 100%|██████████████████████████████████████████████████████████████████████| 457/457 [00:06<00:00, 75.79it/s]\n"
     ]
    },
    {
     "name": "stdout",
     "output_type": "stream",
     "text": [
      "Epoch 24, Average Training Loss: 0.7313\n",
      "Epoch 24, Validation AUC: 0.9353\n"
     ]
    },
    {
     "name": "stderr",
     "output_type": "stream",
     "text": [
      "Epoch 25: 100%|██████████████████████████████████████████████████████████████████████| 457/457 [00:06<00:00, 75.28it/s]\n"
     ]
    },
    {
     "name": "stdout",
     "output_type": "stream",
     "text": [
      "Epoch 25, Average Training Loss: 0.7300\n",
      "Epoch 25, Validation AUC: 0.9344\n"
     ]
    },
    {
     "name": "stderr",
     "output_type": "stream",
     "text": [
      "Epoch 26: 100%|██████████████████████████████████████████████████████████████████████| 457/457 [00:06<00:00, 75.77it/s]\n"
     ]
    },
    {
     "name": "stdout",
     "output_type": "stream",
     "text": [
      "Epoch 26, Average Training Loss: 0.7262\n",
      "Epoch 26, Validation AUC: 0.9326\n"
     ]
    },
    {
     "name": "stderr",
     "output_type": "stream",
     "text": [
      "Epoch 27: 100%|██████████████████████████████████████████████████████████████████████| 457/457 [00:06<00:00, 75.47it/s]\n"
     ]
    },
    {
     "name": "stdout",
     "output_type": "stream",
     "text": [
      "Epoch 27, Average Training Loss: 0.7248\n",
      "Epoch 27, Validation AUC: 0.9359\n"
     ]
    },
    {
     "name": "stderr",
     "output_type": "stream",
     "text": [
      "Epoch 28: 100%|██████████████████████████████████████████████████████████████████████| 457/457 [00:06<00:00, 76.03it/s]\n"
     ]
    },
    {
     "name": "stdout",
     "output_type": "stream",
     "text": [
      "Epoch 28, Average Training Loss: 0.7211\n",
      "Epoch 28, Validation AUC: 0.9349\n"
     ]
    },
    {
     "name": "stderr",
     "output_type": "stream",
     "text": [
      "Epoch 29: 100%|██████████████████████████████████████████████████████████████████████| 457/457 [00:06<00:00, 75.49it/s]\n"
     ]
    },
    {
     "name": "stdout",
     "output_type": "stream",
     "text": [
      "Epoch 29, Average Training Loss: 0.7203\n",
      "Epoch 29, Validation AUC: 0.9357\n"
     ]
    },
    {
     "name": "stderr",
     "output_type": "stream",
     "text": [
      "Epoch 30: 100%|██████████████████████████████████████████████████████████████████████| 457/457 [00:06<00:00, 75.30it/s]\n"
     ]
    },
    {
     "name": "stdout",
     "output_type": "stream",
     "text": [
      "Epoch 30, Average Training Loss: 0.7177\n",
      "Epoch 30, Validation AUC: 0.9362\n"
     ]
    },
    {
     "name": "stderr",
     "output_type": "stream",
     "text": [
      "Epoch 31: 100%|██████████████████████████████████████████████████████████████████████| 457/457 [00:06<00:00, 75.27it/s]\n"
     ]
    },
    {
     "name": "stdout",
     "output_type": "stream",
     "text": [
      "Epoch 31, Average Training Loss: 0.7160\n",
      "Epoch 31, Validation AUC: 0.9348\n"
     ]
    },
    {
     "name": "stderr",
     "output_type": "stream",
     "text": [
      "Epoch 32: 100%|██████████████████████████████████████████████████████████████████████| 457/457 [00:06<00:00, 76.05it/s]\n"
     ]
    },
    {
     "name": "stdout",
     "output_type": "stream",
     "text": [
      "Epoch 32, Average Training Loss: 0.7132\n",
      "Epoch 32, Validation AUC: 0.9369\n"
     ]
    },
    {
     "name": "stderr",
     "output_type": "stream",
     "text": [
      "Epoch 33: 100%|██████████████████████████████████████████████████████████████████████| 457/457 [00:06<00:00, 75.94it/s]\n"
     ]
    },
    {
     "name": "stdout",
     "output_type": "stream",
     "text": [
      "Epoch 33, Average Training Loss: 0.7134\n",
      "Epoch 33, Validation AUC: 0.9341\n"
     ]
    },
    {
     "name": "stderr",
     "output_type": "stream",
     "text": [
      "Epoch 34: 100%|██████████████████████████████████████████████████████████████████████| 457/457 [00:06<00:00, 75.61it/s]\n"
     ]
    },
    {
     "name": "stdout",
     "output_type": "stream",
     "text": [
      "Epoch 34, Average Training Loss: 0.7069\n",
      "Epoch 34, Validation AUC: 0.9351\n"
     ]
    },
    {
     "name": "stderr",
     "output_type": "stream",
     "text": [
      "Epoch 35: 100%|██████████████████████████████████████████████████████████████████████| 457/457 [00:06<00:00, 75.72it/s]\n"
     ]
    },
    {
     "name": "stdout",
     "output_type": "stream",
     "text": [
      "Epoch 35, Average Training Loss: 0.7053\n",
      "Epoch 35, Validation AUC: 0.9354\n"
     ]
    },
    {
     "name": "stderr",
     "output_type": "stream",
     "text": [
      "Epoch 36: 100%|██████████████████████████████████████████████████████████████████████| 457/457 [00:06<00:00, 75.25it/s]\n"
     ]
    },
    {
     "name": "stdout",
     "output_type": "stream",
     "text": [
      "Epoch 36, Average Training Loss: 0.7065\n",
      "Epoch 36, Validation AUC: 0.9361\n"
     ]
    },
    {
     "name": "stderr",
     "output_type": "stream",
     "text": [
      "Epoch 37: 100%|██████████████████████████████████████████████████████████████████████| 457/457 [00:06<00:00, 74.13it/s]\n"
     ]
    },
    {
     "name": "stdout",
     "output_type": "stream",
     "text": [
      "Epoch 37, Average Training Loss: 0.7033\n",
      "Epoch 37, Validation AUC: 0.9345\n",
      "Early stopping at epoch 37\n",
      "Best AUC: 0.9369 (Epoch 37)\n"
     ]
    },
    {
     "data": {
      "image/png": "[encoded data removed]",
      "text/plain": [
       "<Figure size 800x600 with 1 Axes>"
      ]
     },
     "metadata": {},
     "output_type": "display_data"
    }
   ],
   "source": [
    "# 1차원 CNN Student 모델 정의\n",
    "class Student_CNN1D(nn.Module):\n",
    "    def __init__(self, num_classes):\n",
    "        super(Student_CNN1D, self).__init__()\n",
    "        \n",
    "        self.conv1 = nn.Conv1d(in_channels=12, out_channels=50, kernel_size=10)\n",
    "        self.conv2 = nn.Conv1d(in_channels=50, out_channels=150, kernel_size=10)\n",
    "        self.conv3 = nn.Conv1d(in_channels=150, out_channels=300, kernel_size=10)\n",
    "        self.relu = nn.ReLU()\n",
    "        \n",
    "        self.bn1 = nn.BatchNorm1d(50)\n",
    "        self.bn2 = nn.BatchNorm1d(150)\n",
    "        self.bn3 = nn.BatchNorm1d(300)\n",
    "\n",
    "        self.pool = nn.MaxPool1d(kernel_size=2)\n",
    "        self.global_avg_pool = nn.AdaptiveAvgPool1d(1)  # Global Average Pooling 레이어\n",
    "        self.dropout1 = nn.Dropout(0.3, inplace=False)\n",
    "        self.fc = nn.Linear(300, num_classes)\n",
    "        self.sigmoid = nn.Sigmoid()\n",
    "        \n",
    "\n",
    "    def forward(self, x, y=None):\n",
    "\n",
    "        x = self.conv1(x)\n",
    "        x = self.bn1(x)\n",
    "        x = self.relu(x)\n",
    "        x = self.pool(x)\n",
    "        x = self.dropout1(x)\n",
    "        \n",
    "        x = self.conv2(x)\n",
    "        x = self.bn2(x)\n",
    "        x = self.relu(x)\n",
    "        x = self.pool(x)\n",
    "        x = self.dropout1(x)\n",
    "        \n",
    "        x = self.conv3(x)\n",
    "        x = self.bn3(x)\n",
    "        x = self.relu(x)\n",
    "        x = self.pool(x)\n",
    "        \n",
    "        # Global Average Pooling\n",
    "        x = self.global_avg_pool(x)\n",
    "        x = x.view(x.size(0), -1)\n",
    "        x = self.dropout1(x)\n",
    "        \n",
    "        x = self.fc(x)\n",
    "        x = self.sigmoid(x)\n",
    "        return x\n",
    "    \n",
    "# 지식 증류 기법을 student 모델 학습\n",
    "# 폴드 별 학습 및 평가\n",
    "for fold, (train_idx, val_idx) in enumerate(skf.split(X_train, y_train_encoded)):\n",
    "    print(f\"Training Fold {fold + 1}...\")\n",
    "    \n",
    "    # Teacher 모델 및 Student 모델 초기화\n",
    "    teacher_model = CNN1D(num_classes).to(device)\n",
    "    student_model = Student_CNN1D(num_classes).to(device)\n",
    "    optimizer_teacher = optim.Adam(teacher_model.parameters(), lr=learning_rate)\n",
    "    optimizer_student = optim.Adam(student_model.parameters(), lr=learning_rate)\n",
    "    criterion = nn.BCELoss()\n",
    "\n",
    "    # 현재 폴드에 대한 데이터 로더 재정의\n",
    "    train_loader = DataLoader(TensorDataset(X_train[train_idx].to(device).float(), y_train_tensor[train_idx].to(device).float()), batch_size=batch_size, shuffle=True)\n",
    "    val_loader = DataLoader(TensorDataset(X_train[val_idx].to(device).float(), y_train_tensor[val_idx].to(device).float()), batch_size=batch_size, shuffle=False)\n",
    "\n",
    "    best_auc = 0.0\n",
    "    no_improvement_epochs = 0\n",
    "    \n",
    "    # tqdm을 통해 학습 과정 표시\n",
    "    for epoch in range(epochs):\n",
    "        teacher_model.train()\n",
    "        student_model.train()\n",
    "        train_loss = 0.0\n",
    "        for batch_x, batch_y in tqdm(train_loader, desc=f\"Epoch {epoch + 1}\"):\n",
    "            optimizer_teacher.zero_grad()\n",
    "            optimizer_student.zero_grad()\n",
    "            \n",
    "            with torch.no_grad():\n",
    "                # Teacher 모델의 출력 받기\n",
    "                teacher_output = teacher_model(batch_x)\n",
    "            \n",
    "            # Student 모델의 출력 받기\n",
    "            student_output = student_model(batch_x)\n",
    "            \n",
    "            loss = criterion(student_output, batch_y) + knowledge_distillation_loss(student_output, batch_y, teacher_output)\n",
    "            loss.backward()\n",
    "            \n",
    "            optimizer_teacher.step()\n",
    "            optimizer_student.step()\n",
    "            \n",
    "            train_loss += loss.item() * batch_x.size(0)\n",
    "        average_train_loss = train_loss / len(train_loader.dataset)\n",
    "        print(f\"Epoch {epoch + 1}, Average Training Loss: {average_train_loss:.4f}\")\n",
    "\n",
    "        # Validation set evaluation\n",
    "        student_model.eval()\n",
    "        y_scores = []\n",
    "        y_true = []\n",
    "        with torch.no_grad():\n",
    "            with torch.cuda.amp.autocast():\n",
    "                for batch_x, batch_y in val_loader:\n",
    "                    output = student_model(batch_x)\n",
    "                    output = nn.functional.sigmoid(output)\n",
    "                    y_scores.append(output.cpu().numpy())\n",
    "                    y_true.append(batch_y.cpu().numpy())\n",
    "\n",
    "        y_scores = np.vstack(y_scores)\n",
    "        y_true = np.vstack(y_true)\n",
    "        \n",
    "        # 각 label 별로 ROC curve 계산\n",
    "        fpr = dict()\n",
    "        tpr = dict()\n",
    "        roc_auc = dict()\n",
    "        for i in range(num_classes):\n",
    "            fpr[i], tpr[i], _ = roc_curve(y_true[:, i], y_scores[:, i])\n",
    "            roc_auc[i] = auc(fpr[i], tpr[i])\n",
    "            all_fpr.append(fpr[i])\n",
    "            all_tpr.append(tpr[i])\n",
    "\n",
    "        # validation set에 대한 AUC score 계산\n",
    "        auc_score = roc_auc_score(y_true, y_scores)\n",
    "\n",
    "        print(f\"Epoch {epoch + 1}, Validation AUC: {auc_score:.4f}\")\n",
    "\n",
    "        # AUC score 확인 후 갱신\n",
    "        if auc_score > best_auc:\n",
    "            best_auc = auc_score\n",
    "            no_improvement_epochs = 0\n",
    "        else:\n",
    "            # Early stopping 확인\n",
    "            no_improvement_epochs += 1\n",
    "            if no_improvement_epochs >= patience:\n",
    "                print(f\"Early stopping at epoch {epoch + 1}\")\n",
    "                break\n",
    "\n",
    "    print(f\"Best AUC: {best_auc:.4f} (Epoch {epoch + 1})\")\n",
    "\n",
    "# 각 label 별로 ROC curve를 plot\n",
    "plt.figure(figsize=(8, 6))\n",
    "for i in range(num_classes):\n",
    "    plt.plot(all_fpr[i], all_tpr[i], lw=1, label=f'Class {i} (AUC = {roc_auc[i]:.2f})')\n",
    "\n",
    "# Micro-average ROC curve 계산 및 plot\n",
    "micro_fpr, micro_tpr, _ = roc_curve(y_true.ravel(), y_scores.ravel())\n",
    "micro_auc = auc(micro_fpr, micro_tpr)\n",
    "plt.plot(micro_fpr, micro_tpr, color='red', linestyle='--', lw=2, label=f'Micro-average ROC (AUC = {micro_auc:.2f})')\n",
    "\n",
    "# Labels 과 legend 추가\n",
    "plt.xlabel('False Positive Rate')\n",
    "plt.ylabel('True Positive Rate')\n",
    "plt.title('ROC Curve for Validation Data (Multi-label Classification)')\n",
    "plt.legend(loc='lower right')\n",
    "plt.show()"
   ]
  },
  {
   "cell_type": "code",
   "execution_count": 6,
   "id": "a0fba0de",
   "metadata": {},
   "outputs": [
    {
     "name": "stdout",
     "output_type": "stream",
     "text": [
      "Teacher Model(CNN1D) parameters: 6,522,555\n",
      "Student Model(Student_CNN1D) parameters: 534,005\n"
     ]
    }
   ],
   "source": [
    "# 모델 파라미터 수 계산 함수\n",
    "def count_parameters(model):\n",
    "    return sum(p.numel() for p in model.parameters() if p.requires_grad)\n",
    "\n",
    "# 모델 인스턴스 생성\n",
    "t_model = CNN1D(num_classes)\n",
    "s_model = Student_CNN1D(num_classes)\n",
    "\n",
    "# 모델의 파라미터 수 계산\n",
    "t_model_total_params = count_parameters(t_model)\n",
    "s_model_total_params = count_parameters(s_model)\n",
    "\n",
    "# 모델의 파라미터 수 출력\n",
    "print(f\"Teacher Model(CNN1D) parameters: {t_model_total_params:,}\")\n",
    "print(f\"Student Model(Student_CNN1D) parameters: {s_model_total_params:,}\")"
   ]
  },
  {
   "cell_type": "code",
   "execution_count": 7,
   "id": "c005f7e4",
   "metadata": {},
   "outputs": [
    {
     "name": "stdout",
     "output_type": "stream",
     "text": [
      "----------------------------------------------------------------\n",
      "        Layer (type)               Output Shape         Param #\n",
      "================================================================\n",
      "            Conv1d-1             [-1, 100, 991]          12,100\n",
      "       BatchNorm1d-2             [-1, 100, 991]             200\n",
      "              ReLU-3             [-1, 100, 991]               0\n",
      "         MaxPool1d-4             [-1, 100, 495]               0\n",
      "           Dropout-5             [-1, 100, 495]               0\n",
      "            Conv1d-6             [-1, 250, 486]         250,250\n",
      "       BatchNorm1d-7             [-1, 250, 486]             500\n",
      "              ReLU-8             [-1, 250, 486]               0\n",
      "         MaxPool1d-9             [-1, 250, 243]               0\n",
      "          Dropout-10             [-1, 250, 243]               0\n",
      "           Conv1d-11             [-1, 500, 234]       1,250,500\n",
      "      BatchNorm1d-12             [-1, 500, 234]           1,000\n",
      "             ReLU-13             [-1, 500, 234]               0\n",
      "        MaxPool1d-14             [-1, 500, 117]               0\n",
      "          Dropout-15             [-1, 500, 117]               0\n",
      "           Conv1d-16            [-1, 1000, 108]       5,001,000\n",
      "      BatchNorm1d-17            [-1, 1000, 108]           2,000\n",
      "             ReLU-18            [-1, 1000, 108]               0\n",
      "        MaxPool1d-19             [-1, 1000, 54]               0\n",
      "AdaptiveAvgPool1d-20              [-1, 1000, 1]               0\n",
      "          Dropout-21                 [-1, 1000]               0\n",
      "           Linear-22                    [-1, 5]           5,005\n",
      "          Sigmoid-23                    [-1, 5]               0\n",
      "================================================================\n",
      "Total params: 6,522,555\n",
      "Trainable params: 6,522,555\n",
      "Non-trainable params: 0\n",
      "----------------------------------------------------------------\n",
      "Input size (MB): 0.05\n",
      "Forward/backward pass size (MB): 13.20\n",
      "Params size (MB): 24.88\n",
      "Estimated Total Size (MB): 38.13\n",
      "----------------------------------------------------------------\n",
      "----------------------------------------------------------------\n",
      "        Layer (type)               Output Shape         Param #\n",
      "================================================================\n",
      "            Conv1d-1              [-1, 50, 991]           6,050\n",
      "       BatchNorm1d-2              [-1, 50, 991]             100\n",
      "              ReLU-3              [-1, 50, 991]               0\n",
      "         MaxPool1d-4              [-1, 50, 495]               0\n",
      "           Dropout-5              [-1, 50, 495]               0\n",
      "            Conv1d-6             [-1, 150, 486]          75,150\n",
      "       BatchNorm1d-7             [-1, 150, 486]             300\n",
      "              ReLU-8             [-1, 150, 486]               0\n",
      "         MaxPool1d-9             [-1, 150, 243]               0\n",
      "          Dropout-10             [-1, 150, 243]               0\n",
      "           Conv1d-11             [-1, 300, 234]         450,300\n",
      "      BatchNorm1d-12             [-1, 300, 234]             600\n",
      "             ReLU-13             [-1, 300, 234]               0\n",
      "        MaxPool1d-14             [-1, 300, 117]               0\n",
      "AdaptiveAvgPool1d-15               [-1, 300, 1]               0\n",
      "          Dropout-16                  [-1, 300]               0\n",
      "           Linear-17                    [-1, 5]           1,505\n",
      "          Sigmoid-18                    [-1, 5]               0\n",
      "================================================================\n",
      "Total params: 534,005\n",
      "Trainable params: 534,005\n",
      "Non-trainable params: 0\n",
      "----------------------------------------------------------------\n",
      "Input size (MB): 0.05\n",
      "Forward/backward pass size (MB): 5.62\n",
      "Params size (MB): 2.04\n",
      "Estimated Total Size (MB): 7.70\n",
      "----------------------------------------------------------------\n"
     ]
    }
   ],
   "source": [
    "from torchsummary import summary\n",
    "\n",
    "summary(t_model.to(device), (12, 1000))\n",
    "summary(s_model.to(device), (12, 1000))"
   ]
  },
  {
   "cell_type": "code",
   "execution_count": 9,
   "id": "df41f2a7",
   "metadata": {},
   "outputs": [
    {
     "data": {
      "image/png": "[encoded data removed]",
      "text/plain": [
       "<Figure size 800x600 with 1 Axes>"
      ]
     },
     "metadata": {},
     "output_type": "display_data"
    }
   ],
   "source": [
    "# 테스트 데이터 로더 정의\n",
    "test_loader = DataLoader(TensorDataset(X_test.to(device).float(), y_test_tensor.to(device).float()), batch_size=batch_size, shuffle=False)\n",
    "\n",
    "# Student 모델의 테스트\n",
    "model = student_model\n",
    "\n",
    "# 테스트 데이터에 대한 예측 확률 계산\n",
    "model.eval()\n",
    "y_scores_test = []\n",
    "y_true_test = []\n",
    "\n",
    "with torch.no_grad():\n",
    "    for batch_x, batch_y in test_loader:\n",
    "        output = model(batch_x)\n",
    "        y_scores_test.append(output.cpu().numpy())\n",
    "        y_true_test.append(batch_y.cpu().numpy())\n",
    "\n",
    "y_scores_test = np.vstack(y_scores_test)\n",
    "y_true_test = np.vstack(y_true_test)\n",
    "\n",
    "# 각 label 별로 ROC curve 계산\n",
    "fpr_test = dict()\n",
    "tpr_test = dict()\n",
    "roc_auc_test = dict()\n",
    "\n",
    "for i in range(num_classes):\n",
    "    fpr_test[i], tpr_test[i], _ = roc_curve(y_true_test[:, i], y_scores_test[:, i])\n",
    "    roc_auc_test[i] = auc(fpr_test[i], tpr_test[i])\n",
    "\n",
    "# 테스트 데이터에 대한 ROC curve를 plot\n",
    "plt.figure(figsize=(8, 6))\n",
    "for i in range(num_classes):\n",
    "    plt.plot(fpr_test[i], tpr_test[i], lw=1, label=f'Class {i} (AUC = {roc_auc_test[i]:.2f})')\n",
    "\n",
    "# Test 데이터 전체에 대한 Micro-average ROC curve 계산 및 plot\n",
    "micro_fpr_test, micro_tpr_test, _ = roc_curve(y_true_test.ravel(), y_scores_test.ravel())\n",
    "micro_auc_test = auc(micro_fpr_test, micro_tpr_test)\n",
    "plt.plot(micro_fpr_test, micro_tpr_test, color='red', linestyle='--', lw=2, label=f'Micro-average ROC (AUC = {micro_auc_test:.2f})')\n",
    "\n",
    "# Labels 과 legend 추가\n",
    "plt.xlabel('False Positive Rate')\n",
    "plt.ylabel('True Positive Rate')\n",
    "plt.title('ROC Curve for Test Data (Multi-label Classification)')\n",
    "plt.legend(loc='lower right')\n",
    "plt.show()"
   ]
  }
 ],
 "metadata": {
  "kernelspec": {
   "display_name": "Python 3 (ipykernel)",
   "language": "python",
   "name": "python3"
  },
  "language_info": {
   "codemirror_mode": {
    "name": "ipython",
    "version": 3
   },
   "file_extension": ".py",
   "mimetype": "text/x-python",
   "name": "python",
   "nbconvert_exporter": "python",
   "pygments_lexer": "ipython3",
   "version": "3.11.4"
  }
 },
 "nbformat": 4,
 "nbformat_minor": 5
}
